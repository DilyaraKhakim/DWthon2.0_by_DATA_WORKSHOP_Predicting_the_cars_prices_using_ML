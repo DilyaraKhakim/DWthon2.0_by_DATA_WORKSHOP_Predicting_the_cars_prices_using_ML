{
  "nbformat": 4,
  "nbformat_minor": 5,
  "metadata": {
    "kernelspec": {
      "display_name": "Python 3",
      "language": "python",
      "name": "python3"
    },
    "language_info": {
      "codemirror_mode": {
        "name": "ipython",
        "version": 3
      },
      "file_extension": ".py",
      "mimetype": "text/x-python",
      "name": "python",
      "nbconvert_exporter": "python",
      "pygments_lexer": "ipython3",
      "version": "3.8.5"
    },
    "colab": {
      "name": "DWthon2.0_by_DATA_WORKSHOP_Predicting_the_cars_prices_using_ML_Khakimullina_Dilyara.ipynb",
      "provenance": [],
      "collapsed_sections": []
    }
  },
  "cells": [
    {
      "cell_type": "markdown",
      "metadata": {
        "id": "bENtqMxtFYKd"
      },
      "source": [
        "![ЛОГО2.jpg](data:image/jpeg;base64,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)\n",
        "\n",
        "# DWThon 2.0\n",
        "# by DATA WORKSHOP\n",
        "\n",
        "## Прогноз цен на автомобили на реальных данных из Польши, используя машинное обучение\n",
        "\n",
        "###  Хакимуллина Диляра"
      ],
      "id": "bENtqMxtFYKd"
    },
    {
      "cell_type": "markdown",
      "metadata": {
        "id": "VqOAuNeuAWMT"
      },
      "source": [
        "## Импортирование библиотек "
      ],
      "id": "VqOAuNeuAWMT"
    },
    {
      "cell_type": "code",
      "metadata": {
        "id": "9ePFj39GAWMY"
      },
      "source": [
        "import pandas as pd\n",
        "pd.set_option('display.max_columns', 500)\n",
        "pd.set_option('display.float_format', lambda x: '%.3f' % x)\n",
        "import numpy as np\n",
        "from tqdm import tqdm\n",
        "\n",
        "import xgboost as xgb\n",
        "from sklearn.model_selection import cross_val_score, KFold\n",
        "from sklearn.metrics import mean_absolute_error\n",
        "import eli5\n",
        "import re"
      ],
      "id": "9ePFj39GAWMY",
      "execution_count": null,
      "outputs": []
    },
    {
      "cell_type": "markdown",
      "metadata": {
        "id": "yKlHa54tAWMc"
      },
      "source": [
        "---"
      ],
      "id": "yKlHa54tAWMc"
    },
    {
      "cell_type": "markdown",
      "metadata": {
        "id": "qIbFPA6kAWMd"
      },
      "source": [
        "## Далее приведены все функции, которые будут использованы в дальнейшем"
      ],
      "id": "qIbFPA6kAWMd"
    },
    {
      "cell_type": "code",
      "metadata": {
        "id": "CWSFHacSAWMe"
      },
      "source": [
        "def parse_price(val):\n",
        "    return float(val.replace(\" \", \"\").replace(\",\", \".\"))"
      ],
      "id": "CWSFHacSAWMe",
      "execution_count": null,
      "outputs": []
    },
    {
      "cell_type": "code",
      "metadata": {
        "id": "wEEUmtB1AWMs"
      },
      "source": [
        "def get_df(df_train, df_test):\n",
        "    df_train = df_train[ df_train.index != 106447 ].reset_index(drop=True)\n",
        "    df = pd.concat([df_train, df_test])\n",
        " \n",
        "    params = df[\"offer_params\"].apply(pd.Series)\n",
        "    params = params.fillna(-1)\n",
        "\n",
        "    ru_params = [\"Безаварийный\", \"Количество мест\", \"Страна происхождения\",\n",
        "       \"Объем\", \"Тип топлива\", \"Коробка передач\",\n",
        "       \"Кредит\", \"Первый владелец\", \"Предложение от\",\n",
        "       \"Количество дверей\", \"Пробег\", \"Мощность\", \"Металлик\", \"Тип\", \"Цвет\",\n",
        "       \"Модель автомобиля\", \"Состояние\", \"Категория\", \"Обслуживание в сервисном центре\", \"Привод\",\n",
        "       \"Лизинг\", \"Год выпуска\", \"Марка автомобиля\", \"Счет-фактура по НДС\",\n",
        "       \"Первая регистрация\", \"Зарегистрировано в Польше\", \"Маржа НДС\",\n",
        "       \"Версия\", \"VIN\", \"Перламутр\", \"Поврежденный\", \"Код двигателя\",\n",
        "       \"Сажевый фильтр\", \"Выбросы CO2\", \"Ежемесячный платеж\",\n",
        "       \"Количество оставшихся платежей\", \"Первоначальный платеж\", \"Сумма погашения\",\n",
        "       \"Акрил (неметаллический)\", \"Тюнинг\", \"Правый руль (английский)\",\n",
        "       \"Допуск грузовика\"]\n",
        "\n",
        "\n",
        "    dict_params = {pl:ru for pl,ru in zip(params.columns, ru_params)}\n",
        "    params.rename(columns=dict_params, inplace=True)\n",
        "\n",
        "    df = pd.concat([df, params], axis=1)\n",
        "    print(df.shape)\n",
        "\n",
        "    obj_feats = params.select_dtypes(object).columns\n",
        "\n",
        "    for feat in obj_feats:\n",
        "        df[\"{}_cat\".format(feat)] = df[feat].factorize()[0]\n",
        "            \n",
        "    return df"
      ],
      "id": "wEEUmtB1AWMs",
      "execution_count": null,
      "outputs": []
    },
    {
      "cell_type": "code",
      "metadata": {
        "id": "Iy4SZ0YpAWNv"
      },
      "source": [
        "def check_log_model(df, feats, model, cv=5, scoring=mean_absolute_error, show_eli5=True):\n",
        "    df_train = df[ ~df[\"price_value\"].isnull() ].copy()\n",
        "\n",
        "    X = df_train[feats]\n",
        "    y = df_train[\"price_value\"]\n",
        "    y_log = np.log(y)\n",
        "    \n",
        "    cv = KFold(n_splits=cv, shuffle=True, random_state=0)\n",
        "    scores = []\n",
        "    for train_idx, test_idx in cv.split(X):\n",
        "        X_train, X_test = X.iloc[train_idx], X.iloc[test_idx]\n",
        "        y_log_train, y_test = y_log.iloc[train_idx], y.iloc[test_idx]\n",
        "\n",
        "        model.fit(X_train, y_log_train)\n",
        "        y_log_pred = model.predict(X_test)\n",
        "        y_pred = np.exp(y_log_pred)\n",
        "\n",
        "        score = scoring(y_test, y_pred)\n",
        "        scores.append(score)\n",
        "        \n",
        "    result = np.mean(scores), np.std(scores)\n",
        "    \n",
        "    if show_eli5:\n",
        "        model.fit(X, y_log)\n",
        "        print(result)\n",
        "        return eli5.show_weights(model, feature_names=feats)\n",
        "\n",
        "    return result"
      ],
      "id": "Iy4SZ0YpAWNv",
      "execution_count": null,
      "outputs": []
    },
    {
      "cell_type": "markdown",
      "metadata": {
        "id": "4Ov2iBgQAWOA"
      },
      "source": [
        "---"
      ],
      "id": "4Ov2iBgQAWOA"
    },
    {
      "cell_type": "markdown",
      "metadata": {
        "id": "gjmDJEsLAWOS"
      },
      "source": [
        "## Загрузка данных и их последующее объединение"
      ],
      "id": "gjmDJEsLAWOS"
    },
    {
      "cell_type": "markdown",
      "metadata": {
        "id": "pb3NBon5AWOZ"
      },
      "source": [
        "### Загрузка данных:"
      ],
      "id": "pb3NBon5AWOZ"
    },
    {
      "cell_type": "code",
      "metadata": {
        "id": "v6tcrDh7AWOb",
        "outputId": "b287f478-b6ee-4dc7-d73c-5709664fc730"
      },
      "source": [
        "df_train = pd.read_hdf(\"../input/df.train.h5\")\n",
        "df_train[\"price_value\"] = df_train['price_value'].map(parse_price)\n",
        "\n",
        "df_test = pd.read_hdf(\"../input/df.test.h5\")\n",
        "\n",
        "\n",
        "print(df_train.shape, df_test.shape) # вывод параметров датасетов после загрузки"
      ],
      "id": "v6tcrDh7AWOb",
      "execution_count": null,
      "outputs": [
        {
          "name": "stdout",
          "output_type": "stream",
          "text": [
            "(80129, 10) (80129, 7)\n"
          ]
        }
      ]
    },
    {
      "cell_type": "markdown",
      "metadata": {
        "id": "X9ZdOlhZAWOe"
      },
      "source": [
        "### Конкатенация данных:"
      ],
      "id": "X9ZdOlhZAWOe"
    },
    {
      "cell_type": "code",
      "metadata": {
        "id": "sOz9GR4xAWOe",
        "outputId": "c3461975-87f9-4c0c-ecdd-b93d4f8cd78e"
      },
      "source": [
        "df = get_df(df_train, df_test)"
      ],
      "id": "sOz9GR4xAWOe",
      "execution_count": null,
      "outputs": [
        {
          "name": "stdout",
          "output_type": "stream",
          "text": [
            "(160257, 86)\n"
          ]
        }
      ]
    },
    {
      "cell_type": "markdown",
      "metadata": {
        "id": "JA_oVp7yAWOf"
      },
      "source": [
        "### Создание списка категориальных признаков:"
      ],
      "id": "JA_oVp7yAWOf"
    },
    {
      "cell_type": "code",
      "metadata": {
        "id": "TlgUkNXIAWOg",
        "outputId": "3513415b-65fd-4bbe-d6fe-0e4838be441d"
      },
      "source": [
        "cat_feats = [x for x in df.columns if \"_cat\" in x] # отбор категориальных призаков по призаку наличия в наименовании столбца \"_cat\"\n",
        "cat_feats"
      ],
      "id": "TlgUkNXIAWOg",
      "execution_count": null,
      "outputs": [
        {
          "data": {
            "text/plain": [
              "['Безаварийный_cat',\n",
              " 'Количество мест_cat',\n",
              " 'Страна происхождения_cat',\n",
              " 'Объем_cat',\n",
              " 'Тип топлива_cat',\n",
              " 'Коробка передач_cat',\n",
              " 'Кредит_cat',\n",
              " 'Первый владелец_cat',\n",
              " 'Предложение от_cat',\n",
              " 'Количество дверей_cat',\n",
              " 'Пробег_cat',\n",
              " 'Мощность_cat',\n",
              " 'Металлик_cat',\n",
              " 'Тип_cat',\n",
              " 'Цвет_cat',\n",
              " 'Модель автомобиля_cat',\n",
              " 'Состояние_cat',\n",
              " 'Категория_cat',\n",
              " 'Обслуживание в сервисном центре_cat',\n",
              " 'Привод_cat',\n",
              " 'Лизинг_cat',\n",
              " 'Год выпуска_cat',\n",
              " 'Марка автомобиля_cat',\n",
              " 'Счет-фактура по НДС_cat',\n",
              " 'Первая регистрация_cat',\n",
              " 'Зарегистрировано в Польше_cat',\n",
              " 'Маржа НДС_cat',\n",
              " 'Версия_cat',\n",
              " 'VIN_cat',\n",
              " 'Перламутр_cat',\n",
              " 'Поврежденный_cat',\n",
              " 'Код двигателя_cat',\n",
              " 'Сажевый фильтр_cat',\n",
              " 'Выбросы CO2_cat',\n",
              " 'Ежемесячный платеж_cat',\n",
              " 'Количество оставшихся платежей_cat',\n",
              " 'Первоначальный платеж_cat',\n",
              " 'Сумма погашения_cat',\n",
              " 'Акрил (неметаллический)_cat',\n",
              " 'Тюнинг_cat',\n",
              " 'Правый руль (английский)_cat',\n",
              " 'Допуск грузовика_cat',\n",
              " 'Make_cat',\n",
              " 'Metallic_cat',\n",
              " 'Engine capacity_cat',\n",
              " 'Version_cat',\n",
              " 'VAT discount_cat',\n",
              " 'No accident_cat',\n",
              " 'Mileage_cat',\n",
              " 'Service record_cat',\n",
              " 'Door count_cat',\n",
              " 'Fuel type_cat',\n",
              " 'Nr of seats_cat',\n",
              " 'Gearbox_cat',\n",
              " 'Transmission_cat',\n",
              " 'Engine power_cat',\n",
              " 'Model_cat',\n",
              " 'Color_cat',\n",
              " 'Country of origin_cat',\n",
              " 'Body type_cat',\n",
              " 'Year_cat',\n",
              " 'Matowy_cat',\n",
              " 'Acrylic_cat',\n",
              " 'Financing option_cat',\n",
              " 'Registered in Poland_cat',\n",
              " 'Original owner_cat',\n",
              " 'First registration_cat',\n",
              " 'Pearl_cat',\n",
              " 'Zarejestrowany jako zabytek_cat',\n",
              " 'VAT free_cat',\n",
              " 'Engine Code_cat',\n",
              " 'Particle filter_cat',\n",
              " 'Leasing concession_cat',\n",
              " 'Damaged_cat',\n",
              " 'CO2 emissions_cat',\n",
              " 'Monthly payment value_cat']"
            ]
          },
          "execution_count": 7,
          "metadata": {},
          "output_type": "execute_result"
        }
      ]
    },
    {
      "cell_type": "markdown",
      "metadata": {
        "id": "IYDsEC-NAWOh"
      },
      "source": [
        "---"
      ],
      "id": "IYDsEC-NAWOh"
    },
    {
      "cell_type": "markdown",
      "metadata": {
        "id": "P6VjyOeLAWOh"
      },
      "source": [
        "## Тренировка модели на данном этапе"
      ],
      "id": "P6VjyOeLAWOh"
    },
    {
      "cell_type": "code",
      "metadata": {
        "id": "6bjk-H79AWOi",
        "outputId": "d72b5f2a-eb41-47b2-d293-783fc092dd1c"
      },
      "source": [
        "# Протестируем получившуюся модель на данном этапе (т.е. с теми признаками, которые были в датасете изначально), \n",
        "# чтобы получить представление о том, каково значение ошибки (mean_absolute_error) на данный момент,\n",
        "# и иметь ориентир для дальнейших преобразований модели:\n",
        "\n",
        "feats = cat_feats\n",
        "check_log_model(df, feats, xgb.XGBRegressor(max_depth=5, n_estimators=50, learning_rate=0.3, random_state=0))"
      ],
      "id": "6bjk-H79AWOi",
      "execution_count": null,
      "outputs": [
        {
          "name": "stdout",
          "output_type": "stream",
          "text": [
            "(11051.872324620412, 311.1903184644602)\n"
          ]
        },
        {
          "data": {
            "text/html": [
              "\n",
              "    <style>\n",
              "    table.eli5-weights tr:hover {\n",
              "        filter: brightness(85%);\n",
              "    }\n",
              "</style>\n",
              "\n",
              "\n",
              "\n",
              "    \n",
              "\n",
              "    \n",
              "\n",
              "    \n",
              "\n",
              "    \n",
              "\n",
              "    \n",
              "\n",
              "    \n",
              "\n",
              "\n",
              "    \n",
              "\n",
              "    \n",
              "\n",
              "    \n",
              "\n",
              "    \n",
              "\n",
              "    \n",
              "\n",
              "    \n",
              "\n",
              "\n",
              "    \n",
              "\n",
              "    \n",
              "\n",
              "    \n",
              "\n",
              "    \n",
              "\n",
              "    \n",
              "        <table class=\"eli5-weights eli5-feature-importances\" style=\"border-collapse: collapse; border: none; margin-top: 0em; table-layout: auto;\">\n",
              "    <thead>\n",
              "    <tr style=\"border: none;\">\n",
              "        <th style=\"padding: 0 1em 0 0.5em; text-align: right; border: none;\">Weight</th>\n",
              "        <th style=\"padding: 0 0.5em 0 0.5em; text-align: left; border: none;\">Feature</th>\n",
              "    </tr>\n",
              "    </thead>\n",
              "    <tbody>\n",
              "    \n",
              "        <tr style=\"background-color: hsl(120, 100.00%, 80.00%); border: none;\">\n",
              "            <td style=\"padding: 0 1em 0 0.5em; text-align: right; border: none;\">\n",
              "                0.3143\n",
              "                \n",
              "            </td>\n",
              "            <td style=\"padding: 0 0.5em 0 0.5em; text-align: left; border: none;\">\n",
              "                Счет-фактура по НДС_cat\n",
              "            </td>\n",
              "        </tr>\n",
              "    \n",
              "        <tr style=\"background-color: hsl(120, 100.00%, 91.76%); border: none;\">\n",
              "            <td style=\"padding: 0 1em 0 0.5em; text-align: right; border: none;\">\n",
              "                0.0886\n",
              "                \n",
              "            </td>\n",
              "            <td style=\"padding: 0 0.5em 0 0.5em; text-align: left; border: none;\">\n",
              "                Состояние_cat\n",
              "            </td>\n",
              "        </tr>\n",
              "    \n",
              "        <tr style=\"background-color: hsl(120, 100.00%, 92.80%); border: none;\">\n",
              "            <td style=\"padding: 0 1em 0 0.5em; text-align: right; border: none;\">\n",
              "                0.0731\n",
              "                \n",
              "            </td>\n",
              "            <td style=\"padding: 0 0.5em 0 0.5em; text-align: left; border: none;\">\n",
              "                Год выпуска_cat\n",
              "            </td>\n",
              "        </tr>\n",
              "    \n",
              "        <tr style=\"background-color: hsl(120, 100.00%, 92.99%); border: none;\">\n",
              "            <td style=\"padding: 0 1em 0 0.5em; text-align: right; border: none;\">\n",
              "                0.0702\n",
              "                \n",
              "            </td>\n",
              "            <td style=\"padding: 0 0.5em 0 0.5em; text-align: left; border: none;\">\n",
              "                Кредит_cat\n",
              "            </td>\n",
              "        </tr>\n",
              "    \n",
              "        <tr style=\"background-color: hsl(120, 100.00%, 93.18%); border: none;\">\n",
              "            <td style=\"padding: 0 1em 0 0.5em; text-align: right; border: none;\">\n",
              "                0.0676\n",
              "                \n",
              "            </td>\n",
              "            <td style=\"padding: 0 0.5em 0 0.5em; text-align: left; border: none;\">\n",
              "                Коробка передач_cat\n",
              "            </td>\n",
              "        </tr>\n",
              "    \n",
              "        <tr style=\"background-color: hsl(120, 100.00%, 94.42%); border: none;\">\n",
              "            <td style=\"padding: 0 1em 0 0.5em; text-align: right; border: none;\">\n",
              "                0.0507\n",
              "                \n",
              "            </td>\n",
              "            <td style=\"padding: 0 0.5em 0 0.5em; text-align: left; border: none;\">\n",
              "                Привод_cat\n",
              "            </td>\n",
              "        </tr>\n",
              "    \n",
              "        <tr style=\"background-color: hsl(120, 100.00%, 94.56%); border: none;\">\n",
              "            <td style=\"padding: 0 1em 0 0.5em; text-align: right; border: none;\">\n",
              "                0.0490\n",
              "                \n",
              "            </td>\n",
              "            <td style=\"padding: 0 0.5em 0 0.5em; text-align: left; border: none;\">\n",
              "                Обслуживание в сервисном центре_cat\n",
              "            </td>\n",
              "        </tr>\n",
              "    \n",
              "        <tr style=\"background-color: hsl(120, 100.00%, 95.77%); border: none;\">\n",
              "            <td style=\"padding: 0 1em 0 0.5em; text-align: right; border: none;\">\n",
              "                0.0341\n",
              "                \n",
              "            </td>\n",
              "            <td style=\"padding: 0 0.5em 0 0.5em; text-align: left; border: none;\">\n",
              "                Тип_cat\n",
              "            </td>\n",
              "        </tr>\n",
              "    \n",
              "        <tr style=\"background-color: hsl(120, 100.00%, 96.45%); border: none;\">\n",
              "            <td style=\"padding: 0 1em 0 0.5em; text-align: right; border: none;\">\n",
              "                0.0266\n",
              "                \n",
              "            </td>\n",
              "            <td style=\"padding: 0 0.5em 0 0.5em; text-align: left; border: none;\">\n",
              "                Поврежденный_cat\n",
              "            </td>\n",
              "        </tr>\n",
              "    \n",
              "        <tr style=\"background-color: hsl(120, 100.00%, 96.74%); border: none;\">\n",
              "            <td style=\"padding: 0 1em 0 0.5em; text-align: right; border: none;\">\n",
              "                0.0236\n",
              "                \n",
              "            </td>\n",
              "            <td style=\"padding: 0 0.5em 0 0.5em; text-align: left; border: none;\">\n",
              "                Безаварийный_cat\n",
              "            </td>\n",
              "        </tr>\n",
              "    \n",
              "        <tr style=\"background-color: hsl(120, 100.00%, 97.27%); border: none;\">\n",
              "            <td style=\"padding: 0 1em 0 0.5em; text-align: right; border: none;\">\n",
              "                0.0183\n",
              "                \n",
              "            </td>\n",
              "            <td style=\"padding: 0 0.5em 0 0.5em; text-align: left; border: none;\">\n",
              "                Предложение от_cat\n",
              "            </td>\n",
              "        </tr>\n",
              "    \n",
              "        <tr style=\"background-color: hsl(120, 100.00%, 97.41%); border: none;\">\n",
              "            <td style=\"padding: 0 1em 0 0.5em; text-align: right; border: none;\">\n",
              "                0.0170\n",
              "                \n",
              "            </td>\n",
              "            <td style=\"padding: 0 0.5em 0 0.5em; text-align: left; border: none;\">\n",
              "                Правый руль (английский)_cat\n",
              "            </td>\n",
              "        </tr>\n",
              "    \n",
              "        <tr style=\"background-color: hsl(120, 100.00%, 97.81%); border: none;\">\n",
              "            <td style=\"padding: 0 1em 0 0.5em; text-align: right; border: none;\">\n",
              "                0.0133\n",
              "                \n",
              "            </td>\n",
              "            <td style=\"padding: 0 0.5em 0 0.5em; text-align: left; border: none;\">\n",
              "                Сажевый фильтр_cat\n",
              "            </td>\n",
              "        </tr>\n",
              "    \n",
              "        <tr style=\"background-color: hsl(120, 100.00%, 98.01%); border: none;\">\n",
              "            <td style=\"padding: 0 1em 0 0.5em; text-align: right; border: none;\">\n",
              "                0.0117\n",
              "                \n",
              "            </td>\n",
              "            <td style=\"padding: 0 0.5em 0 0.5em; text-align: left; border: none;\">\n",
              "                Марка автомобиля_cat\n",
              "            </td>\n",
              "        </tr>\n",
              "    \n",
              "        <tr style=\"background-color: hsl(120, 100.00%, 98.23%); border: none;\">\n",
              "            <td style=\"padding: 0 1em 0 0.5em; text-align: right; border: none;\">\n",
              "                0.0098\n",
              "                \n",
              "            </td>\n",
              "            <td style=\"padding: 0 0.5em 0 0.5em; text-align: left; border: none;\">\n",
              "                Мощность_cat\n",
              "            </td>\n",
              "        </tr>\n",
              "    \n",
              "        <tr style=\"background-color: hsl(120, 100.00%, 98.23%); border: none;\">\n",
              "            <td style=\"padding: 0 1em 0 0.5em; text-align: right; border: none;\">\n",
              "                0.0098\n",
              "                \n",
              "            </td>\n",
              "            <td style=\"padding: 0 0.5em 0 0.5em; text-align: left; border: none;\">\n",
              "                Цвет_cat\n",
              "            </td>\n",
              "        </tr>\n",
              "    \n",
              "        <tr style=\"background-color: hsl(120, 100.00%, 98.34%); border: none;\">\n",
              "            <td style=\"padding: 0 1em 0 0.5em; text-align: right; border: none;\">\n",
              "                0.0090\n",
              "                \n",
              "            </td>\n",
              "            <td style=\"padding: 0 0.5em 0 0.5em; text-align: left; border: none;\">\n",
              "                Версия_cat\n",
              "            </td>\n",
              "        </tr>\n",
              "    \n",
              "        <tr style=\"background-color: hsl(120, 100.00%, 98.56%); border: none;\">\n",
              "            <td style=\"padding: 0 1em 0 0.5em; text-align: right; border: none;\">\n",
              "                0.0073\n",
              "                \n",
              "            </td>\n",
              "            <td style=\"padding: 0 0.5em 0 0.5em; text-align: left; border: none;\">\n",
              "                Зарегистрировано в Польше_cat\n",
              "            </td>\n",
              "        </tr>\n",
              "    \n",
              "        <tr style=\"background-color: hsl(120, 100.00%, 98.57%); border: none;\">\n",
              "            <td style=\"padding: 0 1em 0 0.5em; text-align: right; border: none;\">\n",
              "                0.0072\n",
              "                \n",
              "            </td>\n",
              "            <td style=\"padding: 0 0.5em 0 0.5em; text-align: left; border: none;\">\n",
              "                Перламутр_cat\n",
              "            </td>\n",
              "        </tr>\n",
              "    \n",
              "        <tr style=\"background-color: hsl(120, 100.00%, 98.63%); border: none;\">\n",
              "            <td style=\"padding: 0 1em 0 0.5em; text-align: right; border: none;\">\n",
              "                0.0068\n",
              "                \n",
              "            </td>\n",
              "            <td style=\"padding: 0 0.5em 0 0.5em; text-align: left; border: none;\">\n",
              "                Zarejestrowany jako zabytek_cat\n",
              "            </td>\n",
              "        </tr>\n",
              "    \n",
              "    \n",
              "        \n",
              "            <tr style=\"background-color: hsl(120, 100.00%, 98.63%); border: none;\">\n",
              "                <td colspan=\"2\" style=\"padding: 0 0.5em 0 0.5em; text-align: center; border: none; white-space: nowrap;\">\n",
              "                    <i>&hellip; 56 more &hellip;</i>\n",
              "                </td>\n",
              "            </tr>\n",
              "        \n",
              "    \n",
              "    </tbody>\n",
              "</table>\n",
              "    \n",
              "\n",
              "    \n",
              "\n",
              "\n",
              "    \n",
              "\n",
              "    \n",
              "\n",
              "    \n",
              "\n",
              "    \n",
              "\n",
              "    \n",
              "\n",
              "    \n",
              "\n",
              "\n",
              "\n"
            ],
            "text/plain": [
              "<IPython.core.display.HTML object>"
            ]
          },
          "execution_count": 8,
          "metadata": {},
          "output_type": "execute_result"
        }
      ]
    },
    {
      "cell_type": "markdown",
      "metadata": {
        "id": "HNzI0t13AWOj"
      },
      "source": [
        "---"
      ],
      "id": "HNzI0t13AWOj"
    },
    {
      "cell_type": "markdown",
      "metadata": {
        "id": "fK4oWt9GAWOj"
      },
      "source": [
        "## Дополнение модели новыми признаками. Этап 1"
      ],
      "id": "fK4oWt9GAWOj"
    },
    {
      "cell_type": "markdown",
      "metadata": {
        "id": "w5hnOBZkAWOs"
      },
      "source": [
        "### Ведём поиск возможностей для преобразования имеющихся признаков и, тем самым, обогащения  модели новыми признаками"
      ],
      "id": "w5hnOBZkAWOs"
    },
    {
      "cell_type": "code",
      "metadata": {
        "id": "xpftNTjuAWOt",
        "outputId": "e6f9d4bc-9d3c-4691-cdde-ead3b036f655"
      },
      "source": [
        "# Целесообразно будет взглянуть на список имеющихся на данный момент признаков,порассуждать об их сущности,\n",
        "# и оттолкнуться от этого для формирования гипотез:\n",
        "\n",
        "list(df.columns)"
      ],
      "id": "xpftNTjuAWOt",
      "execution_count": null,
      "outputs": [
        {
          "data": {
            "text/plain": [
              "['id',\n",
              " 'price_details',\n",
              " 'price_value',\n",
              " 'price_currency',\n",
              " 'features',\n",
              " 'seller_name',\n",
              " 'seller_type',\n",
              " 'seller_address',\n",
              " 'breadcrumb',\n",
              " 'offer_params',\n",
              " 'Безаварийный',\n",
              " 'Количество мест',\n",
              " 'Страна происхождения',\n",
              " 'Объем',\n",
              " 'Тип топлива',\n",
              " 'Коробка передач',\n",
              " 'Кредит',\n",
              " 'Первый владелец',\n",
              " 'Предложение от',\n",
              " 'Количество дверей',\n",
              " 'Пробег',\n",
              " 'Мощность',\n",
              " 'Металлик',\n",
              " 'Тип',\n",
              " 'Цвет',\n",
              " 'Модель автомобиля',\n",
              " 'Состояние',\n",
              " 'Категория',\n",
              " 'Обслуживание в сервисном центре',\n",
              " 'Привод',\n",
              " 'Лизинг',\n",
              " 'Год выпуска',\n",
              " 'Марка автомобиля',\n",
              " 'Счет-фактура по НДС',\n",
              " 'Первая регистрация',\n",
              " 'Зарегистрировано в Польше',\n",
              " 'Маржа НДС',\n",
              " 'Версия',\n",
              " 'VIN',\n",
              " 'Перламутр',\n",
              " 'Поврежденный',\n",
              " 'Код двигателя',\n",
              " 'Сажевый фильтр',\n",
              " 'Выбросы CO2',\n",
              " 'Ежемесячный платеж',\n",
              " 'Количество оставшихся платежей',\n",
              " 'Первоначальный платеж',\n",
              " 'Сумма погашения',\n",
              " 'Акрил (неметаллический)',\n",
              " 'Тюнинг',\n",
              " 'Правый руль (английский)',\n",
              " 'Допуск грузовика',\n",
              " 'Make',\n",
              " 'Metallic',\n",
              " 'Engine capacity',\n",
              " 'Version',\n",
              " 'VAT discount',\n",
              " 'No accident',\n",
              " 'Mileage',\n",
              " 'Service record',\n",
              " 'Door count',\n",
              " 'Fuel type',\n",
              " 'Nr of seats',\n",
              " 'Gearbox',\n",
              " 'Transmission',\n",
              " 'Engine power',\n",
              " 'Model',\n",
              " 'Color',\n",
              " 'Country of origin',\n",
              " 'Body type',\n",
              " 'Year',\n",
              " 'Matowy',\n",
              " 'Acrylic',\n",
              " 'Financing option',\n",
              " 'Registered in Poland',\n",
              " 'Original owner',\n",
              " 'First registration',\n",
              " 'Pearl',\n",
              " 'Zarejestrowany jako zabytek',\n",
              " 'VAT free',\n",
              " 'Engine Code',\n",
              " 'Particle filter',\n",
              " 'Leasing concession',\n",
              " 'Damaged',\n",
              " 'CO2 emissions',\n",
              " 'Monthly payment value',\n",
              " 'Безаварийный_cat',\n",
              " 'Количество мест_cat',\n",
              " 'Страна происхождения_cat',\n",
              " 'Объем_cat',\n",
              " 'Тип топлива_cat',\n",
              " 'Коробка передач_cat',\n",
              " 'Кредит_cat',\n",
              " 'Первый владелец_cat',\n",
              " 'Предложение от_cat',\n",
              " 'Количество дверей_cat',\n",
              " 'Пробег_cat',\n",
              " 'Мощность_cat',\n",
              " 'Металлик_cat',\n",
              " 'Тип_cat',\n",
              " 'Цвет_cat',\n",
              " 'Модель автомобиля_cat',\n",
              " 'Состояние_cat',\n",
              " 'Категория_cat',\n",
              " 'Обслуживание в сервисном центре_cat',\n",
              " 'Привод_cat',\n",
              " 'Лизинг_cat',\n",
              " 'Год выпуска_cat',\n",
              " 'Марка автомобиля_cat',\n",
              " 'Счет-фактура по НДС_cat',\n",
              " 'Первая регистрация_cat',\n",
              " 'Зарегистрировано в Польше_cat',\n",
              " 'Маржа НДС_cat',\n",
              " 'Версия_cat',\n",
              " 'VIN_cat',\n",
              " 'Перламутр_cat',\n",
              " 'Поврежденный_cat',\n",
              " 'Код двигателя_cat',\n",
              " 'Сажевый фильтр_cat',\n",
              " 'Выбросы CO2_cat',\n",
              " 'Ежемесячный платеж_cat',\n",
              " 'Количество оставшихся платежей_cat',\n",
              " 'Первоначальный платеж_cat',\n",
              " 'Сумма погашения_cat',\n",
              " 'Акрил (неметаллический)_cat',\n",
              " 'Тюнинг_cat',\n",
              " 'Правый руль (английский)_cat',\n",
              " 'Допуск грузовика_cat',\n",
              " 'Make_cat',\n",
              " 'Metallic_cat',\n",
              " 'Engine capacity_cat',\n",
              " 'Version_cat',\n",
              " 'VAT discount_cat',\n",
              " 'No accident_cat',\n",
              " 'Mileage_cat',\n",
              " 'Service record_cat',\n",
              " 'Door count_cat',\n",
              " 'Fuel type_cat',\n",
              " 'Nr of seats_cat',\n",
              " 'Gearbox_cat',\n",
              " 'Transmission_cat',\n",
              " 'Engine power_cat',\n",
              " 'Model_cat',\n",
              " 'Color_cat',\n",
              " 'Country of origin_cat',\n",
              " 'Body type_cat',\n",
              " 'Year_cat',\n",
              " 'Matowy_cat',\n",
              " 'Acrylic_cat',\n",
              " 'Financing option_cat',\n",
              " 'Registered in Poland_cat',\n",
              " 'Original owner_cat',\n",
              " 'First registration_cat',\n",
              " 'Pearl_cat',\n",
              " 'Zarejestrowany jako zabytek_cat',\n",
              " 'VAT free_cat',\n",
              " 'Engine Code_cat',\n",
              " 'Particle filter_cat',\n",
              " 'Leasing concession_cat',\n",
              " 'Damaged_cat',\n",
              " 'CO2 emissions_cat',\n",
              " 'Monthly payment value_cat']"
            ]
          },
          "execution_count": 9,
          "metadata": {},
          "output_type": "execute_result"
        }
      ]
    },
    {
      "cell_type": "code",
      "metadata": {
        "id": "ld6Wn6R7AWOu"
      },
      "source": [
        "# Преобразуем данные признака \"Год выпуска\" в целочисленный тип и получаем новый признак \"year_production\":\n",
        "df[\"year_production\"] = df[\"Год выпуска\"].astype(int)\n",
        "\n",
        "# Поскольку данные признаков \"year_production\" и \"Year\" повествуют об одной и той же сущности - годе выпуска автомобиля,\n",
        "# мы можем произвести дополнение признака \"year_production\" в тех случаях, когда данные по определенным строкам отсутствуют\n",
        "# (т.е. когда там находится \"-1\", которую мы ранее проставили вместо отсутствующих данных), используя данные признака \"Year\".\n",
        "# В итоге, в результате обогащения данными, получаем дополненный признак \"year_production_ext\":\n",
        "df[\"year_production_ext\"] = df.apply(lambda x: x[\"year_production\"] if x[\"year_production\"] != -1 else int(x[\"Year\"]), axis=1)"
      ],
      "id": "ld6Wn6R7AWOu",
      "execution_count": null,
      "outputs": []
    },
    {
      "cell_type": "code",
      "metadata": {
        "id": "03J3uIB_AWOv"
      },
      "source": [
        "# Извлекаем дополнительные данные, испоьзуя данные признака \"Версия\".\n",
        "\n",
        "# Сначала построчно извлекается значение интервала лет (напр., \"2010-2015\"):\n",
        "df[\"version_years\"] = df[\"Версия\"].map(lambda x: re.findall(r'(\\d+)-(\\d+)?', str(x)) )\n",
        "\n",
        "# Далее извлекается начальное значение из интервала и преобразуется в целочисленный тип:\n",
        "df[\"version_year_from\"] = df[\"version_years\"].map(lambda x: x[0][0] if x else -1).astype(int)\n",
        "\n",
        "# Потом извлекается конечное значение из интервала и преобразуется в целочисленный тип:\n",
        "df[\"version_year_to\"] = df[\"version_years\"].map(lambda x: x[0][1] if x and x[0][1] != \"\" else -1).astype(int)"
      ],
      "id": "03J3uIB_AWOv",
      "execution_count": null,
      "outputs": []
    },
    {
      "cell_type": "markdown",
      "metadata": {
        "id": "eeHfKKBVAWOw"
      },
      "source": [
        "---"
      ],
      "id": "eeHfKKBVAWOw"
    },
    {
      "cell_type": "markdown",
      "metadata": {
        "id": "xzQOwRaVAWOx"
      },
      "source": [
        "## Тренировка модели на данном этапе"
      ],
      "id": "xzQOwRaVAWOx"
    },
    {
      "cell_type": "code",
      "metadata": {
        "id": "D1MzCKgWAWOx",
        "outputId": "a7e7536c-f2ab-4368-9441-afa19de5aae9"
      },
      "source": [
        "# Протестируем получившуюся модель на данном этапе (т.е. добавив к тем признакам, которые были в датасете изначально,\n",
        "# новые признаки полученные выше).\n",
        "# Благодаря этому, получим представление о том, каково значение ошибки (mean_absolute_error) на данный момент,\n",
        "# и сделаем вывод о целесообразности включения призаков в модель:\n",
        "\n",
        "feats = cat_feats\n",
        "feats += [\"year_production_ext\", \"version_year_from\", \"version_year_to\"]\n",
        "check_log_model(df, feats, xgb.XGBRegressor(max_depth=5, n_estimators=50, learning_rate=0.3, random_state=0))\n",
        "\n",
        "# Важно добавить, что на практике включение новых призаков происходило поочередно, \n",
        "# с последовательной проверкой целесообразности добавления каждого признака."
      ],
      "id": "D1MzCKgWAWOx",
      "execution_count": null,
      "outputs": [
        {
          "name": "stdout",
          "output_type": "stream",
          "text": [
            "(9788.190684299854, 305.2152861437874)\n"
          ]
        },
        {
          "data": {
            "text/html": [
              "\n",
              "    <style>\n",
              "    table.eli5-weights tr:hover {\n",
              "        filter: brightness(85%);\n",
              "    }\n",
              "</style>\n",
              "\n",
              "\n",
              "\n",
              "    \n",
              "\n",
              "    \n",
              "\n",
              "    \n",
              "\n",
              "    \n",
              "\n",
              "    \n",
              "\n",
              "    \n",
              "\n",
              "\n",
              "    \n",
              "\n",
              "    \n",
              "\n",
              "    \n",
              "\n",
              "    \n",
              "\n",
              "    \n",
              "\n",
              "    \n",
              "\n",
              "\n",
              "    \n",
              "\n",
              "    \n",
              "\n",
              "    \n",
              "\n",
              "    \n",
              "\n",
              "    \n",
              "        <table class=\"eli5-weights eli5-feature-importances\" style=\"border-collapse: collapse; border: none; margin-top: 0em; table-layout: auto;\">\n",
              "    <thead>\n",
              "    <tr style=\"border: none;\">\n",
              "        <th style=\"padding: 0 1em 0 0.5em; text-align: right; border: none;\">Weight</th>\n",
              "        <th style=\"padding: 0 0.5em 0 0.5em; text-align: left; border: none;\">Feature</th>\n",
              "    </tr>\n",
              "    </thead>\n",
              "    <tbody>\n",
              "    \n",
              "        <tr style=\"background-color: hsl(120, 100.00%, 80.00%); border: none;\">\n",
              "            <td style=\"padding: 0 1em 0 0.5em; text-align: right; border: none;\">\n",
              "                0.4537\n",
              "                \n",
              "            </td>\n",
              "            <td style=\"padding: 0 0.5em 0 0.5em; text-align: left; border: none;\">\n",
              "                year_production_ext\n",
              "            </td>\n",
              "        </tr>\n",
              "    \n",
              "        <tr style=\"background-color: hsl(120, 100.00%, 90.68%); border: none;\">\n",
              "            <td style=\"padding: 0 1em 0 0.5em; text-align: right; border: none;\">\n",
              "                0.1525\n",
              "                \n",
              "            </td>\n",
              "            <td style=\"padding: 0 0.5em 0 0.5em; text-align: left; border: none;\">\n",
              "                Привод_cat\n",
              "            </td>\n",
              "        </tr>\n",
              "    \n",
              "        <tr style=\"background-color: hsl(120, 100.00%, 96.31%); border: none;\">\n",
              "            <td style=\"padding: 0 1em 0 0.5em; text-align: right; border: none;\">\n",
              "                0.0406\n",
              "                \n",
              "            </td>\n",
              "            <td style=\"padding: 0 0.5em 0 0.5em; text-align: left; border: none;\">\n",
              "                Коробка передач_cat\n",
              "            </td>\n",
              "        </tr>\n",
              "    \n",
              "        <tr style=\"background-color: hsl(120, 100.00%, 96.70%); border: none;\">\n",
              "            <td style=\"padding: 0 1em 0 0.5em; text-align: right; border: none;\">\n",
              "                0.0346\n",
              "                \n",
              "            </td>\n",
              "            <td style=\"padding: 0 0.5em 0 0.5em; text-align: left; border: none;\">\n",
              "                Обслуживание в сервисном центре_cat\n",
              "            </td>\n",
              "        </tr>\n",
              "    \n",
              "        <tr style=\"background-color: hsl(120, 100.00%, 97.14%); border: none;\">\n",
              "            <td style=\"padding: 0 1em 0 0.5em; text-align: right; border: none;\">\n",
              "                0.0282\n",
              "                \n",
              "            </td>\n",
              "            <td style=\"padding: 0 0.5em 0 0.5em; text-align: left; border: none;\">\n",
              "                Поврежденный_cat\n",
              "            </td>\n",
              "        </tr>\n",
              "    \n",
              "        <tr style=\"background-color: hsl(120, 100.00%, 97.34%); border: none;\">\n",
              "            <td style=\"padding: 0 1em 0 0.5em; text-align: right; border: none;\">\n",
              "                0.0255\n",
              "                \n",
              "            </td>\n",
              "            <td style=\"padding: 0 0.5em 0 0.5em; text-align: left; border: none;\">\n",
              "                Тип_cat\n",
              "            </td>\n",
              "        </tr>\n",
              "    \n",
              "        <tr style=\"background-color: hsl(120, 100.00%, 97.41%); border: none;\">\n",
              "            <td style=\"padding: 0 1em 0 0.5em; text-align: right; border: none;\">\n",
              "                0.0245\n",
              "                \n",
              "            </td>\n",
              "            <td style=\"padding: 0 0.5em 0 0.5em; text-align: left; border: none;\">\n",
              "                Счет-фактура по НДС_cat\n",
              "            </td>\n",
              "        </tr>\n",
              "    \n",
              "        <tr style=\"background-color: hsl(120, 100.00%, 97.81%); border: none;\">\n",
              "            <td style=\"padding: 0 1em 0 0.5em; text-align: right; border: none;\">\n",
              "                0.0192\n",
              "                \n",
              "            </td>\n",
              "            <td style=\"padding: 0 0.5em 0 0.5em; text-align: left; border: none;\">\n",
              "                Безаварийный_cat\n",
              "            </td>\n",
              "        </tr>\n",
              "    \n",
              "        <tr style=\"background-color: hsl(120, 100.00%, 97.85%); border: none;\">\n",
              "            <td style=\"padding: 0 1em 0 0.5em; text-align: right; border: none;\">\n",
              "                0.0187\n",
              "                \n",
              "            </td>\n",
              "            <td style=\"padding: 0 0.5em 0 0.5em; text-align: left; border: none;\">\n",
              "                Правый руль (английский)_cat\n",
              "            </td>\n",
              "        </tr>\n",
              "    \n",
              "        <tr style=\"background-color: hsl(120, 100.00%, 98.27%); border: none;\">\n",
              "            <td style=\"padding: 0 1em 0 0.5em; text-align: right; border: none;\">\n",
              "                0.0138\n",
              "                \n",
              "            </td>\n",
              "            <td style=\"padding: 0 0.5em 0 0.5em; text-align: left; border: none;\">\n",
              "                Перламутр_cat\n",
              "            </td>\n",
              "        </tr>\n",
              "    \n",
              "        <tr style=\"background-color: hsl(120, 100.00%, 98.27%); border: none;\">\n",
              "            <td style=\"padding: 0 1em 0 0.5em; text-align: right; border: none;\">\n",
              "                0.0138\n",
              "                \n",
              "            </td>\n",
              "            <td style=\"padding: 0 0.5em 0 0.5em; text-align: left; border: none;\">\n",
              "                Марка автомобиля_cat\n",
              "            </td>\n",
              "        </tr>\n",
              "    \n",
              "        <tr style=\"background-color: hsl(120, 100.00%, 98.49%); border: none;\">\n",
              "            <td style=\"padding: 0 1em 0 0.5em; text-align: right; border: none;\">\n",
              "                0.0113\n",
              "                \n",
              "            </td>\n",
              "            <td style=\"padding: 0 0.5em 0 0.5em; text-align: left; border: none;\">\n",
              "                Состояние_cat\n",
              "            </td>\n",
              "        </tr>\n",
              "    \n",
              "        <tr style=\"background-color: hsl(120, 100.00%, 98.60%); border: none;\">\n",
              "            <td style=\"padding: 0 1em 0 0.5em; text-align: right; border: none;\">\n",
              "                0.0102\n",
              "                \n",
              "            </td>\n",
              "            <td style=\"padding: 0 0.5em 0 0.5em; text-align: left; border: none;\">\n",
              "                version_year_from\n",
              "            </td>\n",
              "        </tr>\n",
              "    \n",
              "        <tr style=\"background-color: hsl(120, 100.00%, 98.69%); border: none;\">\n",
              "            <td style=\"padding: 0 1em 0 0.5em; text-align: right; border: none;\">\n",
              "                0.0093\n",
              "                \n",
              "            </td>\n",
              "            <td style=\"padding: 0 0.5em 0 0.5em; text-align: left; border: none;\">\n",
              "                version_year_to\n",
              "            </td>\n",
              "        </tr>\n",
              "    \n",
              "        <tr style=\"background-color: hsl(120, 100.00%, 98.72%); border: none;\">\n",
              "            <td style=\"padding: 0 1em 0 0.5em; text-align: right; border: none;\">\n",
              "                0.0090\n",
              "                \n",
              "            </td>\n",
              "            <td style=\"padding: 0 0.5em 0 0.5em; text-align: left; border: none;\">\n",
              "                Мощность_cat\n",
              "            </td>\n",
              "        </tr>\n",
              "    \n",
              "        <tr style=\"background-color: hsl(120, 100.00%, 98.74%); border: none;\">\n",
              "            <td style=\"padding: 0 1em 0 0.5em; text-align: right; border: none;\">\n",
              "                0.0087\n",
              "                \n",
              "            </td>\n",
              "            <td style=\"padding: 0 0.5em 0 0.5em; text-align: left; border: none;\">\n",
              "                Количество мест_cat\n",
              "            </td>\n",
              "        </tr>\n",
              "    \n",
              "        <tr style=\"background-color: hsl(120, 100.00%, 98.82%); border: none;\">\n",
              "            <td style=\"padding: 0 1em 0 0.5em; text-align: right; border: none;\">\n",
              "                0.0080\n",
              "                \n",
              "            </td>\n",
              "            <td style=\"padding: 0 0.5em 0 0.5em; text-align: left; border: none;\">\n",
              "                Кредит_cat\n",
              "            </td>\n",
              "        </tr>\n",
              "    \n",
              "        <tr style=\"background-color: hsl(120, 100.00%, 98.82%); border: none;\">\n",
              "            <td style=\"padding: 0 1em 0 0.5em; text-align: right; border: none;\">\n",
              "                0.0080\n",
              "                \n",
              "            </td>\n",
              "            <td style=\"padding: 0 0.5em 0 0.5em; text-align: left; border: none;\">\n",
              "                Код двигателя_cat\n",
              "            </td>\n",
              "        </tr>\n",
              "    \n",
              "        <tr style=\"background-color: hsl(120, 100.00%, 98.91%); border: none;\">\n",
              "            <td style=\"padding: 0 1em 0 0.5em; text-align: right; border: none;\">\n",
              "                0.0071\n",
              "                \n",
              "            </td>\n",
              "            <td style=\"padding: 0 0.5em 0 0.5em; text-align: left; border: none;\">\n",
              "                Количество оставшихся платежей_cat\n",
              "            </td>\n",
              "        </tr>\n",
              "    \n",
              "        <tr style=\"background-color: hsl(120, 100.00%, 98.93%); border: none;\">\n",
              "            <td style=\"padding: 0 1em 0 0.5em; text-align: right; border: none;\">\n",
              "                0.0069\n",
              "                \n",
              "            </td>\n",
              "            <td style=\"padding: 0 0.5em 0 0.5em; text-align: left; border: none;\">\n",
              "                Объем_cat\n",
              "            </td>\n",
              "        </tr>\n",
              "    \n",
              "    \n",
              "        \n",
              "            <tr style=\"background-color: hsl(120, 100.00%, 98.93%); border: none;\">\n",
              "                <td colspan=\"2\" style=\"padding: 0 0.5em 0 0.5em; text-align: center; border: none; white-space: nowrap;\">\n",
              "                    <i>&hellip; 59 more &hellip;</i>\n",
              "                </td>\n",
              "            </tr>\n",
              "        \n",
              "    \n",
              "    </tbody>\n",
              "</table>\n",
              "    \n",
              "\n",
              "    \n",
              "\n",
              "\n",
              "    \n",
              "\n",
              "    \n",
              "\n",
              "    \n",
              "\n",
              "    \n",
              "\n",
              "    \n",
              "\n",
              "    \n",
              "\n",
              "\n",
              "\n"
            ],
            "text/plain": [
              "<IPython.core.display.HTML object>"
            ]
          },
          "execution_count": 12,
          "metadata": {},
          "output_type": "execute_result"
        }
      ]
    },
    {
      "cell_type": "markdown",
      "metadata": {
        "id": "ZHr01Zv8AWOy"
      },
      "source": [
        "### ! Итак, значение ошибки (mean_absolute_error) уменьшилось в результате включения новых признаков в состав модели примерно на 1263 злотых, следовательно включение новых признаков принесло результаты и было целесообразно."
      ],
      "id": "ZHr01Zv8AWOy"
    },
    {
      "cell_type": "markdown",
      "metadata": {
        "id": "9BR_IzfqAWOy"
      },
      "source": [
        "---"
      ],
      "id": "9BR_IzfqAWOy"
    },
    {
      "cell_type": "markdown",
      "metadata": {
        "id": "ax64fONvAWOy"
      },
      "source": [
        "## Дополнение модели новыми признаками. Этап 2"
      ],
      "id": "ax64fONvAWOy"
    },
    {
      "cell_type": "markdown",
      "metadata": {
        "id": "9uZ8ACPbAWOz"
      },
      "source": [
        "### Продолжаем поиск возможностей для преобразования и дополнения признаков и получения в результате этого процесса новых признаков"
      ],
      "id": "9uZ8ACPbAWOz"
    },
    {
      "cell_type": "code",
      "metadata": {
        "id": "VJVywacNGBwx"
      },
      "source": [
        "# Взглянем на список имеющихся на данный момент признаков, и оттолкнемся от этого для формирования гипотез.\n",
        "# Обращаем также внимание на значения (Weights), присвоенные в результате действия eli5:\n",
        "# это позволяет сделать выводы о признаках, которые оказывают наибольшее влияние, а значит, имеют больший приоритет\n",
        "# при включении в состав модели.\n",
        "\n",
        "list(df.columns)"
      ],
      "id": "VJVywacNGBwx",
      "execution_count": null,
      "outputs": []
    },
    {
      "cell_type": "markdown",
      "metadata": {
        "id": "69bi7nXVAWO0"
      },
      "source": [
        "### Признак \"Объем\""
      ],
      "id": "69bi7nXVAWO0"
    },
    {
      "cell_type": "markdown",
      "metadata": {
        "id": "zmGuSzYFAWO3"
      },
      "source": [
        "По результатам последующей оценки прироста ошибки новый признак был впоследствии включён в модель"
      ],
      "id": "zmGuSzYFAWO3"
    },
    {
      "cell_type": "code",
      "metadata": {
        "id": "Fzpg27sPAWO-",
        "outputId": "97693af8-520c-45c4-84d0-b9fc23b353c9"
      },
      "source": [
        "df[\"Объем\"]"
      ],
      "id": "Fzpg27sPAWO-",
      "execution_count": null,
      "outputs": [
        {
          "data": {
            "text/plain": [
              "0         1 199 cm3\n",
              "1         1 598 cm3\n",
              "2         1 364 cm3\n",
              "3         1 798 cm3\n",
              "4         1 250 cm3\n",
              "            ...    \n",
              "160245    2 000 cm3\n",
              "160246      998 cm3\n",
              "160247    1 600 cm3\n",
              "160251    1 560 cm3\n",
              "160254    3 301 cm3\n",
              "Name: Объем, Length: 160257, dtype: object"
            ]
          },
          "execution_count": 14,
          "metadata": {},
          "output_type": "execute_result"
        }
      ]
    },
    {
      "cell_type": "code",
      "metadata": {
        "id": "pB7qqUDGAWO_"
      },
      "source": [
        "# Преобразуем данные признака \"Объем\" в целочисленный тип и получаем новый признак \"engine\":\n",
        "df[\"engine\"] = df[\"Объем\"].map(lambda x: str(x).split(\"cm3\")[0].replace(\" \", \"\")).astype(\"int\")"
      ],
      "id": "pB7qqUDGAWO_",
      "execution_count": null,
      "outputs": []
    },
    {
      "cell_type": "code",
      "metadata": {
        "id": "AoQC0bl3AWO_",
        "outputId": "c6fe72af-e43e-44de-bd11-8008e7f33f20"
      },
      "source": [
        "df[\"engine\"] # видим результаты преобразования"
      ],
      "id": "AoQC0bl3AWO_",
      "execution_count": null,
      "outputs": [
        {
          "data": {
            "text/plain": [
              "0         1199\n",
              "1         1598\n",
              "2         1364\n",
              "3         1798\n",
              "4         1250\n",
              "          ... \n",
              "160245    2000\n",
              "160246     998\n",
              "160247    1600\n",
              "160251    1560\n",
              "160254    3301\n",
              "Name: engine, Length: 160257, dtype: int32"
            ]
          },
          "execution_count": 16,
          "metadata": {},
          "output_type": "execute_result"
        }
      ]
    },
    {
      "cell_type": "code",
      "metadata": {
        "id": "H5PFn-1tAWPA",
        "outputId": "30bea685-3fe1-473d-98cd-cc9ebe483a71"
      },
      "source": [
        "# Посмотрим на распределение признака, используя визуализацию - гистограмму:\n",
        "df[\"engine\"].hist()"
      ],
      "id": "H5PFn-1tAWPA",
      "execution_count": null,
      "outputs": [
        {
          "data": {
            "text/plain": [
              "<AxesSubplot:>"
            ]
          },
          "execution_count": 17,
          "metadata": {},
          "output_type": "execute_result"
        },
        {
          "data": {
            "image/png": "[encoded data removed]",
            "text/plain": [
              "<Figure size 432x288 with 1 Axes>"
            ]
          },
          "metadata": {
            "needs_background": "light"
          },
          "output_type": "display_data"
        }
      ]
    },
    {
      "cell_type": "markdown",
      "metadata": {
        "id": "7u_Y-sNTAWPB"
      },
      "source": [
        "### Итак, видим, что необходимо решить вопрос о том, как поступить с выбросами (т.к. гистограмма показывает, что имеются аномально большие значения). Заменим на \"-1\" значения, которые больше 99,7-персентиля (значение подбиралось последовательным подбором и последующим рассмотрением гистограммы. Исходя из того, что нужно и \"отсечь\" выбросы, и в то же время оставить как можно больше значений признака)."
      ],
      "id": "7u_Y-sNTAWPB"
    },
    {
      "cell_type": "code",
      "metadata": {
        "id": "2zyOdAIhAWPB"
      },
      "source": [
        "# Вводится функция для \"отсечения\" выбросов определенного признака:\n",
        "def reset_outlires(df, feat, prc=99.7):\n",
        "    # добавлен параметр для значения персентиля prc,\n",
        "    # чтобы при необходимости можно было изменять динамически, а не только использовать параметр по умолчанию.\n",
        "    # Параметром по умолчанию был выбран 99.7, т.к. в результате экспериментов по подбору параметра\n",
        "    # это значение оказывалось подходящим чаще всего.\n",
        "    cut_value = np.percentile(df[feat], prc) \n",
        "    \n",
        "    return df[feat].map(lambda x: x if x < cut_value else -1)"
      ],
      "id": "2zyOdAIhAWPB",
      "execution_count": null,
      "outputs": []
    },
    {
      "cell_type": "code",
      "metadata": {
        "id": "W2cbZLSRAWPC",
        "outputId": "b8f880c6-39b6-4a11-fa57-4f1412a2f8ab"
      },
      "source": [
        "# Применяем функцию для \"отсечения\" выбросов и строим гистограмму, чтобы увидеть результат действия функции:\n",
        "reset_outlires(df, \"engine\").hist()"
      ],
      "id": "W2cbZLSRAWPC",
      "execution_count": null,
      "outputs": [
        {
          "data": {
            "text/plain": [
              "<AxesSubplot:>"
            ]
          },
          "execution_count": 19,
          "metadata": {},
          "output_type": "execute_result"
        },
        {
          "data": {
            "image/png": "[encoded data removed]",
            "text/plain": [
              "<Figure size 432x288 with 1 Axes>"
            ]
          },
          "metadata": {
            "needs_background": "light"
          },
          "output_type": "display_data"
        }
      ]
    },
    {
      "cell_type": "code",
      "metadata": {
        "id": "FJXrTg9AAWPD"
      },
      "source": [
        "# Присвоим новому признаку \"engine_99\" значения, полученные после \"отсечения\" выбросов:\n",
        "df[\"engine_99\"] = reset_outlires(df, \"engine\")"
      ],
      "id": "FJXrTg9AAWPD",
      "execution_count": null,
      "outputs": []
    },
    {
      "cell_type": "markdown",
      "metadata": {
        "id": "awv9CWVSAWPE"
      },
      "source": [
        "### Признак \"Мощность\""
      ],
      "id": "awv9CWVSAWPE"
    },
    {
      "cell_type": "markdown",
      "metadata": {
        "id": "UDG-MG9JAWPE"
      },
      "source": [
        "По результатам последующей оценки прироста ошибки новый признак был впоследствии включён в модель"
      ],
      "id": "UDG-MG9JAWPE"
    },
    {
      "cell_type": "code",
      "metadata": {
        "id": "AgKvbnJoAWPE",
        "outputId": "420ff353-186d-4b0d-c84a-b3dbfb7bc07b"
      },
      "source": [
        "df[\"Мощность\"]"
      ],
      "id": "AgKvbnJoAWPE",
      "execution_count": null,
      "outputs": [
        {
          "data": {
            "text/plain": [
              "0         110 KM\n",
              "1         117 KM\n",
              "2          90 KM\n",
              "3         160 KM\n",
              "4          82 KM\n",
              "           ...  \n",
              "160245    170 KM\n",
              "160246     69 KM\n",
              "160247    105 KM\n",
              "160251     92 KM\n",
              "160254    174 KM\n",
              "Name: Мощность, Length: 160257, dtype: object"
            ]
          },
          "execution_count": 21,
          "metadata": {},
          "output_type": "execute_result"
        }
      ]
    },
    {
      "cell_type": "code",
      "metadata": {
        "id": "uFFhzWM9AWPF"
      },
      "source": [
        "# Преобразуем данные признака \"Мощность\" в целочисленный тип и получаем новый признак \"horse_power\":\n",
        "df[\"horse_power\"] = df[\"Мощность\"].map(lambda x: str(x).split(\"KM\")[0].replace(\" \", \"\")).astype(\"int\")"
      ],
      "id": "uFFhzWM9AWPF",
      "execution_count": null,
      "outputs": []
    },
    {
      "cell_type": "code",
      "metadata": {
        "id": "ZjAA8qGZAWPH",
        "outputId": "1a97cb6d-4eb1-4f71-f263-c8961f3e51b2"
      },
      "source": [
        "df[\"horse_power\"] # видим результаты преобразования"
      ],
      "id": "ZjAA8qGZAWPH",
      "execution_count": null,
      "outputs": [
        {
          "data": {
            "text/plain": [
              "0         110\n",
              "1         117\n",
              "2          90\n",
              "3         160\n",
              "4          82\n",
              "         ... \n",
              "160245    170\n",
              "160246     69\n",
              "160247    105\n",
              "160251     92\n",
              "160254    174\n",
              "Name: horse_power, Length: 160257, dtype: int32"
            ]
          },
          "execution_count": 23,
          "metadata": {},
          "output_type": "execute_result"
        }
      ]
    },
    {
      "cell_type": "code",
      "metadata": {
        "id": "NjQeve0sAWPH",
        "outputId": "b70de51a-2448-47db-8dff-45345357e0d2"
      },
      "source": [
        "# Посмотрим на распределение признака, используя визуализацию - гистограмму:\n",
        "df[\"horse_power\"].hist()"
      ],
      "id": "NjQeve0sAWPH",
      "execution_count": null,
      "outputs": [
        {
          "data": {
            "text/plain": [
              "<AxesSubplot:>"
            ]
          },
          "execution_count": 24,
          "metadata": {},
          "output_type": "execute_result"
        },
        {
          "data": {
            "image/png": "[encoded data removed]",
            "text/plain": [
              "<Figure size 432x288 with 1 Axes>"
            ]
          },
          "metadata": {
            "needs_background": "light"
          },
          "output_type": "display_data"
        }
      ]
    },
    {
      "cell_type": "code",
      "metadata": {
        "id": "b6jB7ZO-AWPI",
        "outputId": "9df5a90b-bc4d-47bc-d5c1-11ebac71a859"
      },
      "source": [
        "# Применяем функцию для \"отсечения\" выбросов и строим гистограмму, чтобы увидеть результат действия функции:\n",
        "reset_outlires(df, \"horse_power\").hist()"
      ],
      "id": "b6jB7ZO-AWPI",
      "execution_count": null,
      "outputs": [
        {
          "data": {
            "text/plain": [
              "<AxesSubplot:>"
            ]
          },
          "execution_count": 25,
          "metadata": {},
          "output_type": "execute_result"
        },
        {
          "data": {
            "image/png": "[encoded data removed]",
            "text/plain": [
              "<Figure size 432x288 with 1 Axes>"
            ]
          },
          "metadata": {
            "needs_background": "light"
          },
          "output_type": "display_data"
        }
      ]
    },
    {
      "cell_type": "code",
      "metadata": {
        "id": "3ZL51g19AWPJ"
      },
      "source": [
        "# Присвоим новому признаку \"horse_power_99\" значения, полученные после \"отсечения\" выбросов:\n",
        "df[\"horse_power_99\"] = reset_outlires(df, \"horse_power\")"
      ],
      "id": "3ZL51g19AWPJ",
      "execution_count": null,
      "outputs": []
    },
    {
      "cell_type": "markdown",
      "metadata": {
        "id": "b1hjoTr9AWPJ"
      },
      "source": [
        "### Признак \"Пробег\""
      ],
      "id": "b1hjoTr9AWPJ"
    },
    {
      "cell_type": "markdown",
      "metadata": {
        "id": "2yuzWc7hAWPJ"
      },
      "source": [
        "По результатам последующей оценки прироста ошибки новый признак был впоследствии включён в модель"
      ],
      "id": "2yuzWc7hAWPJ"
    },
    {
      "cell_type": "code",
      "metadata": {
        "id": "dVsBYlwzAWPK",
        "outputId": "b4049011-7277-42d8-d532-79de6dec69a5"
      },
      "source": [
        "df[\"Пробег\"]"
      ],
      "id": "dVsBYlwzAWPK",
      "execution_count": null,
      "outputs": [
        {
          "data": {
            "text/plain": [
              "0             200 km\n",
              "1         118 808 km\n",
              "2         106 000 km\n",
              "3         172 758 km\n",
              "4          97 128 km\n",
              "             ...    \n",
              "160245    109 000 km\n",
              "160246     40 000 km\n",
              "160247    132 300 km\n",
              "160251     76 000 km\n",
              "160254    208 850 km\n",
              "Name: Пробег, Length: 160257, dtype: object"
            ]
          },
          "execution_count": 27,
          "metadata": {},
          "output_type": "execute_result"
        }
      ]
    },
    {
      "cell_type": "code",
      "metadata": {
        "id": "ouRbpB1WAWPL"
      },
      "source": [
        "# Преобразуем данные признака \"Пробег\" в целочисленный тип и получаем новый признак \"mileage_new\"\n",
        "# (использована подпись \"new\" во избежание разночтений, т.к. в датасете уже есть ещё один признак \"Mileage\"):\n",
        "df[\"mileage_new\"] = df[\"Пробег\"].map(lambda x: str(x).split(\"km\")[0].replace(\" \", \"\")).astype(\"int\")"
      ],
      "id": "ouRbpB1WAWPL",
      "execution_count": null,
      "outputs": []
    },
    {
      "cell_type": "code",
      "metadata": {
        "id": "DekheHOkAWPL",
        "outputId": "d64112cd-04d2-4fb6-b905-3dcdb67642bd"
      },
      "source": [
        "df[\"mileage_new\"] # видим результаты преобразования"
      ],
      "id": "DekheHOkAWPL",
      "execution_count": null,
      "outputs": [
        {
          "data": {
            "text/plain": [
              "0            200\n",
              "1         118808\n",
              "2         106000\n",
              "3         172758\n",
              "4          97128\n",
              "           ...  \n",
              "160245    109000\n",
              "160246     40000\n",
              "160247    132300\n",
              "160251     76000\n",
              "160254    208850\n",
              "Name: mileage_new, Length: 160257, dtype: int32"
            ]
          },
          "execution_count": 29,
          "metadata": {},
          "output_type": "execute_result"
        }
      ]
    },
    {
      "cell_type": "code",
      "metadata": {
        "id": "hsNxJAm9AWPM",
        "outputId": "2aa8aa19-11d4-493b-e42e-4cce1b1bfb71"
      },
      "source": [
        "# Посмотрим на распределение признака, используя визуализацию - гистограмму:\n",
        "df[\"mileage_new\"].hist()"
      ],
      "id": "hsNxJAm9AWPM",
      "execution_count": null,
      "outputs": [
        {
          "data": {
            "text/plain": [
              "<AxesSubplot:>"
            ]
          },
          "execution_count": 30,
          "metadata": {},
          "output_type": "execute_result"
        },
        {
          "data": {
            "image/png": "[encoded data removed]",
            "text/plain": [
              "<Figure size 432x288 with 1 Axes>"
            ]
          },
          "metadata": {
            "needs_background": "light"
          },
          "output_type": "display_data"
        }
      ]
    },
    {
      "cell_type": "code",
      "metadata": {
        "id": "mfzeFT85AWPN",
        "outputId": "c6d33129-4a94-46dc-e5e9-36b5dbd57cef"
      },
      "source": [
        "# Применяем функцию для \"отсечения\" выбросов и строим гистограмму, чтобы увидеть результат действия функции:\n",
        "reset_outlires(df, \"mileage_new\").hist(bins = 50)"
      ],
      "id": "mfzeFT85AWPN",
      "execution_count": null,
      "outputs": [
        {
          "data": {
            "text/plain": [
              "<AxesSubplot:>"
            ]
          },
          "execution_count": 31,
          "metadata": {},
          "output_type": "execute_result"
        },
        {
          "data": {
            "image/png": "[encoded data removed]",
            "text/plain": [
              "<Figure size 432x288 with 1 Axes>"
            ]
          },
          "metadata": {
            "needs_background": "light"
          },
          "output_type": "display_data"
        }
      ]
    },
    {
      "cell_type": "code",
      "metadata": {
        "id": "bMXwVCZrAWPO"
      },
      "source": [
        "# Присвоим новому признаку \"mileage_new_99\" значения, полученные после \"отсечения\" выбросов:\n",
        "df[\"mileage_new_99\"] = reset_outlires(df, \"mileage_new\")"
      ],
      "id": "bMXwVCZrAWPO",
      "execution_count": null,
      "outputs": []
    },
    {
      "cell_type": "markdown",
      "metadata": {
        "id": "uKZJq9mLAWPO"
      },
      "source": [
        "### Признак \"Количество оставшихся платежей\""
      ],
      "id": "uKZJq9mLAWPO"
    },
    {
      "cell_type": "markdown",
      "metadata": {
        "id": "DCsUM1x5AWPQ"
      },
      "source": [
        "По результатам последующей оценки прироста ошибки новый признак был впоследствии включён в модель"
      ],
      "id": "DCsUM1x5AWPQ"
    },
    {
      "cell_type": "code",
      "metadata": {
        "id": "eNeTm3J0AWPR",
        "outputId": "e7ed2443-0705-4cee-d6f1-ff12e5949573"
      },
      "source": [
        "df[\"Количество оставшихся платежей\"]"
      ],
      "id": "eNeTm3J0AWPR",
      "execution_count": null,
      "outputs": [
        {
          "data": {
            "text/plain": [
              "0         -1\n",
              "1         -1\n",
              "2         -1\n",
              "3         -1\n",
              "4         -1\n",
              "          ..\n",
              "160245    -1\n",
              "160246    -1\n",
              "160247    -1\n",
              "160251    -1\n",
              "160254    -1\n",
              "Name: Количество оставшихся платежей, Length: 160257, dtype: object"
            ]
          },
          "execution_count": 33,
          "metadata": {},
          "output_type": "execute_result"
        }
      ]
    },
    {
      "cell_type": "code",
      "metadata": {
        "id": "qNPxNaB3AWPR",
        "outputId": "1bc71b47-0604-47e7-aaeb-a6eb1f45d095"
      },
      "source": [
        "# Поскольку при просмотре признака на предыдущем шаге не смогли получить первичного представления о том,\n",
        "# какими значениями представлен признак (много отсутствующих значений, заменённых ранее на \"-1\"),\n",
        "# попробуем взглянуть на него в другом разрезе - уникальных значений и их количества:\n",
        "df[\"Количество оставшихся платежей\"].value_counts()"
      ],
      "id": "qNPxNaB3AWPR",
      "execution_count": null,
      "outputs": [
        {
          "data": {
            "text/plain": [
              "-1          159814\n",
              "36              81\n",
              "48              30\n",
              "60              24\n",
              "47              21\n",
              "             ...  \n",
              "68               1\n",
              "4                1\n",
              "56               1\n",
              "3 482,92         1\n",
              "77               1\n",
              "Name: Количество оставшихся платежей, Length: 70, dtype: int64"
            ]
          },
          "execution_count": 34,
          "metadata": {},
          "output_type": "execute_result"
        }
      ]
    },
    {
      "cell_type": "code",
      "metadata": {
        "id": "LHf8FJ5SAWPS"
      },
      "source": [
        "# Преобразуем данные признака \"Количество оставшихся платежей\" в целочисленный тип \n",
        "# и получаем новый признак \"number_of_remaining_payments\":\n",
        "\n",
        "df[\"number_of_remaining_payments\"] = df[\"Количество оставшихся платежей\"].map(lambda x: str(x).split()[0].\\\n",
        "                                                                              replace(\" \", \"\")).astype(\"int\")"
      ],
      "id": "LHf8FJ5SAWPS",
      "execution_count": null,
      "outputs": []
    },
    {
      "cell_type": "code",
      "metadata": {
        "id": "DpIOgbX-AWPT",
        "outputId": "b5e5199f-9e6a-418b-8774-cf265b81b338"
      },
      "source": [
        "df[\"number_of_remaining_payments\"].value_counts() # видим результаты преобразования"
      ],
      "id": "DpIOgbX-AWPT",
      "execution_count": null,
      "outputs": [
        {
          "data": {
            "text/plain": [
              "-1     159814\n",
              " 36        81\n",
              " 48        30\n",
              " 60        24\n",
              " 47        21\n",
              "        ...  \n",
              " 77         1\n",
              " 4          1\n",
              " 39         1\n",
              " 2          1\n",
              " 68         1\n",
              "Name: number_of_remaining_payments, Length: 68, dtype: int64"
            ]
          },
          "execution_count": 36,
          "metadata": {},
          "output_type": "execute_result"
        }
      ]
    },
    {
      "cell_type": "code",
      "metadata": {
        "id": "_5bTAfCsAWPU",
        "outputId": "1e3a0de4-e674-47c2-f040-fed749492ca6"
      },
      "source": [
        "# Посмотрим на распределение признака, используя визуализацию - гистограмму:\n",
        "\n",
        "df[\"number_of_remaining_payments\"].hist()"
      ],
      "id": "_5bTAfCsAWPU",
      "execution_count": null,
      "outputs": [
        {
          "data": {
            "text/plain": [
              "<AxesSubplot:>"
            ]
          },
          "execution_count": 37,
          "metadata": {},
          "output_type": "execute_result"
        },
        {
          "data": {
            "image/png": "[encoded data removed]",
            "text/plain": [
              "<Figure size 432x288 with 1 Axes>"
            ]
          },
          "metadata": {
            "needs_background": "light"
          },
          "output_type": "display_data"
        }
      ]
    },
    {
      "cell_type": "code",
      "metadata": {
        "id": "nTCj_OfUAWPU",
        "outputId": "555ac901-feb1-4747-ee06-cc9c0dd6b8f0"
      },
      "source": [
        "# Применяем функцию для \"отсечения\" выбросов и строим гистограмму, чтобы увидеть результат действия функции:\n",
        "\n",
        "reset_outlires(df, \"number_of_remaining_payments\", prc=99.8).hist(bins = 50)"
      ],
      "id": "nTCj_OfUAWPU",
      "execution_count": null,
      "outputs": [
        {
          "data": {
            "text/plain": [
              "<AxesSubplot:>"
            ]
          },
          "execution_count": 38,
          "metadata": {},
          "output_type": "execute_result"
        },
        {
          "data": {
            "image/png": "[encoded data removed]",
            "text/plain": [
              "<Figure size 432x288 with 1 Axes>"
            ]
          },
          "metadata": {
            "needs_background": "light"
          },
          "output_type": "display_data"
        }
      ]
    },
    {
      "cell_type": "code",
      "metadata": {
        "id": "h25NBqQ4AWPV",
        "outputId": "f30e30d1-f603-4a96-9c19-7d914c434cca"
      },
      "source": [
        "# !В результате был сделан вывод о том, что не стоит отсекать выбросы при значении персентиля менее, чем 99,8.\n",
        "# Иначе, если мы отсечём выбросы при персентиле менее, чем 99.8, \n",
        "# то в составе признака останутся только значения \"-1\", т.е. отсутствующие, \n",
        "# и это не будет иметь никакого смысла. Более целесообразно сохранить имеющиеся значения, т.к. они и так немногочисленны.\n",
        "# Проиллюстрируем это на гистограмме (остались лишь отсутствующие значения).\n",
        "\n",
        "reset_outlires(df, \"number_of_remaining_payments\", prc=99.7).hist(bins = 50)"
      ],
      "id": "h25NBqQ4AWPV",
      "execution_count": null,
      "outputs": [
        {
          "data": {
            "text/plain": [
              "<AxesSubplot:>"
            ]
          },
          "execution_count": 39,
          "metadata": {},
          "output_type": "execute_result"
        },
        {
          "data": {
            "image/png": "[encoded data removed]",
            "text/plain": [
              "<Figure size 432x288 with 1 Axes>"
            ]
          },
          "metadata": {
            "needs_background": "light"
          },
          "output_type": "display_data"
        }
      ]
    },
    {
      "cell_type": "code",
      "metadata": {
        "id": "Uj0juqoGAWPZ"
      },
      "source": [
        "# Присвоим новому признаку \"number_of_remaining_payments_99\" значения, полученные после \"отсечения\" выбросов:\n",
        "df[\"number_of_remaining_payments_99\"] = reset_outlires(df, \"number_of_remaining_payments\", prc=99.8)"
      ],
      "id": "Uj0juqoGAWPZ",
      "execution_count": null,
      "outputs": []
    },
    {
      "cell_type": "markdown",
      "metadata": {
        "id": "HLIMjVm_AWPZ"
      },
      "source": [
        "### Признак \"Ежемесячный платеж\""
      ],
      "id": "HLIMjVm_AWPZ"
    },
    {
      "cell_type": "markdown",
      "metadata": {
        "id": "7N7hfyABAWPb"
      },
      "source": [
        "По результатам последующей оценки прироста ошибки новый признак был впоследствии включён в модель"
      ],
      "id": "7N7hfyABAWPb"
    },
    {
      "cell_type": "code",
      "metadata": {
        "id": "uiakmo1XAWPb",
        "outputId": "53eeb12f-c6d0-4536-bc6a-202b0110a8d9"
      },
      "source": [
        "df[\"Ежемесячный платеж\"]"
      ],
      "id": "uiakmo1XAWPb",
      "execution_count": null,
      "outputs": [
        {
          "data": {
            "text/plain": [
              "0         -1\n",
              "1         -1\n",
              "2         -1\n",
              "3         -1\n",
              "4         -1\n",
              "          ..\n",
              "160245    -1\n",
              "160246    -1\n",
              "160247    -1\n",
              "160251    -1\n",
              "160254    -1\n",
              "Name: Ежемесячный платеж, Length: 160257, dtype: object"
            ]
          },
          "execution_count": 41,
          "metadata": {},
          "output_type": "execute_result"
        }
      ]
    },
    {
      "cell_type": "code",
      "metadata": {
        "id": "Py4d8qaYAWPc",
        "outputId": "34402e2e-a33b-400f-a82b-3d0f0e4e95f5"
      },
      "source": [
        "# Поскольку при просмотре признака на предыдущем шаге не смогли получить первичного представления о том,\n",
        "# какими значениями представлен признак (много отсутствующих значений, заменённых ранее на \"-1\"),\n",
        "# попробуем взглянуть на него в другом разрезе - уникальных значений и их количества:\n",
        "\n",
        "df[\"Ежемесячный платеж\"].value_counts()"
      ],
      "id": "Py4d8qaYAWPc",
      "execution_count": null,
      "outputs": [
        {
          "data": {
            "text/plain": [
              "-1           159531\n",
              "400 PLN          27\n",
              "600 PLN          21\n",
              "500 PLN          15\n",
              "700 PLN          13\n",
              "              ...  \n",
              "1 701 PLN         1\n",
              "734 PLN           1\n",
              "778 PLN           1\n",
              "761 PLN           1\n",
              "4 100 PLN         1\n",
              "Name: Ежемесячный платеж, Length: 534, dtype: int64"
            ]
          },
          "execution_count": 42,
          "metadata": {},
          "output_type": "execute_result"
        }
      ]
    },
    {
      "cell_type": "code",
      "metadata": {
        "id": "4fXpBt2wAWPd"
      },
      "source": [
        "# Преобразуем данные признака \"Ежемесячный платеж\" в тип данных чисел с плавающей точкой\n",
        "# и получаем новый признак \"monthly_payment\":\n",
        "\n",
        "df[\"monthly_payment\"] = df[\"Ежемесячный платеж\"].map(lambda x: str(x).split(\"PLN\")[0].replace(\" \", \"\").\\\n",
        "                                                     replace(\",\", \".\")).astype(\"float\")"
      ],
      "id": "4fXpBt2wAWPd",
      "execution_count": null,
      "outputs": []
    },
    {
      "cell_type": "code",
      "metadata": {
        "id": "HTlBCxUxAWPe",
        "outputId": "f8c32375-e4e8-484e-fd14-b7bd3ca1879c"
      },
      "source": [
        "df[\"monthly_payment\"].value_counts() # видим результаты преобразования"
      ],
      "id": "HTlBCxUxAWPe",
      "execution_count": null,
      "outputs": [
        {
          "data": {
            "text/plain": [
              "-1.000      159531\n",
              "400.000         27\n",
              "600.000         21\n",
              "500.000         15\n",
              "700.000         13\n",
              "             ...  \n",
              "3734.000         1\n",
              "4378.210         1\n",
              "1870.000         1\n",
              "3440.000         1\n",
              "1776.770         1\n",
              "Name: monthly_payment, Length: 534, dtype: int64"
            ]
          },
          "execution_count": 44,
          "metadata": {},
          "output_type": "execute_result"
        }
      ]
    },
    {
      "cell_type": "code",
      "metadata": {
        "id": "gKZMpa75AWPe",
        "outputId": "034b2998-acef-4bb3-8f80-b0953a4f5ee6"
      },
      "source": [
        "# Посмотрим на распределение признака, используя визуализацию - гистограмму:\n",
        "\n",
        "df[\"monthly_payment\"].hist()"
      ],
      "id": "gKZMpa75AWPe",
      "execution_count": null,
      "outputs": [
        {
          "data": {
            "text/plain": [
              "<AxesSubplot:>"
            ]
          },
          "execution_count": 45,
          "metadata": {},
          "output_type": "execute_result"
        },
        {
          "data": {
            "image/png": "[encoded data removed]",
            "text/plain": [
              "<Figure size 432x288 with 1 Axes>"
            ]
          },
          "metadata": {
            "needs_background": "light"
          },
          "output_type": "display_data"
        }
      ]
    },
    {
      "cell_type": "code",
      "metadata": {
        "id": "9mvhxD2GAWPf",
        "outputId": "0db4ee4f-02e2-480f-be0f-77bb726130ff"
      },
      "source": [
        "# Применяем функцию для \"отсечения\" выбросов и строим гистограмму, чтобы увидеть результат действия функции:\n",
        "\n",
        "reset_outlires(df, \"monthly_payment\", prc=99.6).hist(bins = 50)"
      ],
      "id": "9mvhxD2GAWPf",
      "execution_count": null,
      "outputs": [
        {
          "data": {
            "text/plain": [
              "<AxesSubplot:>"
            ]
          },
          "execution_count": 46,
          "metadata": {},
          "output_type": "execute_result"
        },
        {
          "data": {
            "image/png": "[encoded data removed]",
            "text/plain": [
              "<Figure size 432x288 with 1 Axes>"
            ]
          },
          "metadata": {
            "needs_background": "light"
          },
          "output_type": "display_data"
        }
      ]
    },
    {
      "cell_type": "code",
      "metadata": {
        "id": "d4Sx_sMiAWPg",
        "outputId": "b05c4b7c-5b7f-4d50-f1cb-5195c40e1f8e"
      },
      "source": [
        "# !В результате был сделан вывод о том, что не стоит отсекать выбросы при значении персентиля менее, чем 99,6.\n",
        "# Иначе, если мы отсечём выбросы при персентиле менее, чем 99.6, \n",
        "# то в составе признака останутся только значения \"-1\", т.е. отсутствующие, \n",
        "# и это не будет иметь никакого смысла. Более целесообразно сохранить имеющиеся значения, т.к. они и так немногочисленны.\n",
        "# Проиллюстрируем это на гистограмме (остались лишь отсутствующие значения).\n",
        "\n",
        "reset_outlires(df, \"number_of_remaining_payments\", prc=99.5).hist(bins = 50)"
      ],
      "id": "d4Sx_sMiAWPg",
      "execution_count": null,
      "outputs": [
        {
          "data": {
            "text/plain": [
              "<AxesSubplot:>"
            ]
          },
          "execution_count": 47,
          "metadata": {},
          "output_type": "execute_result"
        },
        {
          "data": {
            "image/png": "[encoded data removed]",
            "text/plain": [
              "<Figure size 432x288 with 1 Axes>"
            ]
          },
          "metadata": {
            "needs_background": "light"
          },
          "output_type": "display_data"
        }
      ]
    },
    {
      "cell_type": "code",
      "metadata": {
        "id": "p6F4UXerAWPh"
      },
      "source": [
        "# Присвоим новому признаку \"monthly_payment_99\" значения, полученные после \"отсечения\" выбросов:\n",
        "\n",
        "df[\"monthly_payment_99\"] = reset_outlires(df, \"monthly_payment\", prc=99.6)"
      ],
      "id": "p6F4UXerAWPh",
      "execution_count": null,
      "outputs": []
    },
    {
      "cell_type": "markdown",
      "metadata": {
        "id": "0ihfoNEzAWPh"
      },
      "source": [
        "### Признак \"Сумма погашения\""
      ],
      "id": "0ihfoNEzAWPh"
    },
    {
      "cell_type": "markdown",
      "metadata": {
        "id": "-4qrfHslAWPi"
      },
      "source": [
        "По результатам последующей оценки прироста ошибки новый признак был впоследствии включён в модель"
      ],
      "id": "-4qrfHslAWPi"
    },
    {
      "cell_type": "code",
      "metadata": {
        "scrolled": true,
        "id": "z6cCUg4ZAWPi",
        "outputId": "2f1a6891-6a75-42d9-ee00-0d457e41852c"
      },
      "source": [
        "df[\"Сумма погашения\"]"
      ],
      "id": "z6cCUg4ZAWPi",
      "execution_count": null,
      "outputs": [
        {
          "data": {
            "text/plain": [
              "0         -1\n",
              "1         -1\n",
              "2         -1\n",
              "3         -1\n",
              "4         -1\n",
              "          ..\n",
              "160245    -1\n",
              "160246    -1\n",
              "160247    -1\n",
              "160251    -1\n",
              "160254    -1\n",
              "Name: Сумма погашения, Length: 160257, dtype: object"
            ]
          },
          "execution_count": 49,
          "metadata": {},
          "output_type": "execute_result"
        }
      ]
    },
    {
      "cell_type": "code",
      "metadata": {
        "scrolled": true,
        "id": "dqPOLNxTAWPj",
        "outputId": "d0c44e0d-d8a2-4392-d48a-93599eaa15cb"
      },
      "source": [
        "# Поскольку при просмотре признака на предыдущем шаге не смогли получить первичного представления о том,\n",
        "# какими значениями представлен признак (много отсутствующих значений, заменённых ранее на \"-1\"),\n",
        "# попробуем взглянуть на него в другом разрезе - уникальных значений и их количества:\n",
        "\n",
        "df[\"Сумма погашения\"].value_counts()"
      ],
      "id": "dqPOLNxTAWPj",
      "execution_count": null,
      "outputs": [
        {
          "data": {
            "text/plain": [
              "-1                159849\n",
              "1 PLN                 15\n",
              "1 000 PLN              6\n",
              "50 000 PLN             3\n",
              "30 000 PLN             3\n",
              "                   ...  \n",
              "11 000 PLN             1\n",
              "1 271 PLN              1\n",
              "1 159 PLN              1\n",
              "51 900 PLN             1\n",
              "118 406,76 PLN         1\n",
              "Name: Сумма погашения, Length: 355, dtype: int64"
            ]
          },
          "execution_count": 50,
          "metadata": {},
          "output_type": "execute_result"
        }
      ]
    },
    {
      "cell_type": "code",
      "metadata": {
        "id": "hR8dZMOUAWPk"
      },
      "source": [
        "# Преобразуем данные признака \"Сумма погашения\" в тип данных чисел с плавающей точкой\n",
        "# и получаем новый признак \"amount_to_pay\":\n",
        "\n",
        "df[\"amount_to_pay\"] = df[\"Сумма погашения\"].map(lambda x: str(x).split(\"PLN\")[0].replace(\" \", \"\").\\\n",
        "                                                replace(\",\", \".\")).astype(\"float\")"
      ],
      "id": "hR8dZMOUAWPk",
      "execution_count": null,
      "outputs": []
    },
    {
      "cell_type": "code",
      "metadata": {
        "id": "3nopXxJbAWPk",
        "outputId": "adbcb04e-d849-41eb-f1b4-028bf12d4266"
      },
      "source": [
        "df[\"amount_to_pay\"].value_counts() # видим результаты преобразования"
      ],
      "id": "3nopXxJbAWPk",
      "execution_count": null,
      "outputs": [
        {
          "data": {
            "text/plain": [
              "-1.000       159849\n",
              "1.000            15\n",
              "1000.000          6\n",
              "87857.000         3\n",
              "30000.000         3\n",
              "              ...  \n",
              "794.680           1\n",
              "88015.220         1\n",
              "14940.000         1\n",
              "30617.890         1\n",
              "20340.000         1\n",
              "Name: amount_to_pay, Length: 355, dtype: int64"
            ]
          },
          "execution_count": 52,
          "metadata": {},
          "output_type": "execute_result"
        }
      ]
    },
    {
      "cell_type": "code",
      "metadata": {
        "id": "Kh1GhBe3AWPl",
        "outputId": "453ed14a-53ae-4c15-fa06-6ec96601ea9b"
      },
      "source": [
        "# Посмотрим на распределение признака, используя визуализацию - гистограмму:\n",
        "\n",
        "df[\"amount_to_pay\"].hist()"
      ],
      "id": "Kh1GhBe3AWPl",
      "execution_count": null,
      "outputs": [
        {
          "data": {
            "text/plain": [
              "<AxesSubplot:>"
            ]
          },
          "execution_count": 53,
          "metadata": {},
          "output_type": "execute_result"
        },
        {
          "data": {
            "image/png": "[encoded data removed]",
            "text/plain": [
              "<Figure size 432x288 with 1 Axes>"
            ]
          },
          "metadata": {
            "needs_background": "light"
          },
          "output_type": "display_data"
        }
      ]
    },
    {
      "cell_type": "code",
      "metadata": {
        "id": "Vj6kCNiNAWPl",
        "outputId": "7bcc855c-29f5-4a44-de41-cab827eddc6f"
      },
      "source": [
        "# Применяем функцию для \"отсечения\" выбросов и строим гистограмму, чтобы увидеть результат действия функции:\n",
        "\n",
        "reset_outlires(df, \"amount_to_pay\", prc=99.8).hist(bins = 20)"
      ],
      "id": "Vj6kCNiNAWPl",
      "execution_count": null,
      "outputs": [
        {
          "data": {
            "text/plain": [
              "<AxesSubplot:>"
            ]
          },
          "execution_count": 54,
          "metadata": {},
          "output_type": "execute_result"
        },
        {
          "data": {
            "image/png": "[encoded data removed]",
            "text/plain": [
              "<Figure size 432x288 with 1 Axes>"
            ]
          },
          "metadata": {
            "needs_background": "light"
          },
          "output_type": "display_data"
        }
      ]
    },
    {
      "cell_type": "code",
      "metadata": {
        "id": "YtPtfziyAWPm",
        "outputId": "a1aefe82-007d-467c-d04d-fc634417156a"
      },
      "source": [
        "# !В результате был сделан вывод о том, что не стоит отсекать выбросы при значении персентиля менее, чем 99,8.\n",
        "# Иначе, если мы отсечём выбросы при персентиле менее, чем 99.8, \n",
        "# то в составе признака останутся только значения \"-1\", т.е. отсутствующие, \n",
        "# и это не будет иметь никакого смысла. Более целесообразно сохранить имеющиеся значения, т.к. они и так немногочисленны.\n",
        "# Проиллюстрируем это на гистограмме (остались лишь отсутствующие значения).\n",
        "\n",
        "reset_outlires(df, \"number_of_remaining_payments\", prc=99.7).hist(bins = 50)"
      ],
      "id": "YtPtfziyAWPm",
      "execution_count": null,
      "outputs": [
        {
          "data": {
            "text/plain": [
              "<AxesSubplot:>"
            ]
          },
          "execution_count": 55,
          "metadata": {},
          "output_type": "execute_result"
        },
        {
          "data": {
            "image/png": "[encoded data removed]",
            "text/plain": [
              "<Figure size 432x288 with 1 Axes>"
            ]
          },
          "metadata": {
            "needs_background": "light"
          },
          "output_type": "display_data"
        }
      ]
    },
    {
      "cell_type": "code",
      "metadata": {
        "id": "jOXo7m2VAWPo"
      },
      "source": [
        "# Присвоим новому признаку \"amount_to_pay_99\" значения, полученные после \"отсечения\" выбросов:\n",
        "\n",
        "df[\"amount_to_pay_99\"] = reset_outlires(df, \"amount_to_pay\", prc=99.8)"
      ],
      "id": "jOXo7m2VAWPo",
      "execution_count": null,
      "outputs": []
    },
    {
      "cell_type": "markdown",
      "metadata": {
        "id": "RzFFyumpAWPo"
      },
      "source": [
        "### Признак \"Первоначальный платеж\""
      ],
      "id": "RzFFyumpAWPo"
    },
    {
      "cell_type": "markdown",
      "metadata": {
        "id": "c9ITOPn_AWPp"
      },
      "source": [
        "По результатам последующей оценки прироста ошибки новый признак был впоследствии включён в модель"
      ],
      "id": "c9ITOPn_AWPp"
    },
    {
      "cell_type": "code",
      "metadata": {
        "scrolled": false,
        "id": "f2a0UQMOAWPq",
        "outputId": "41fbd41c-206a-4437-f234-d23e5afa5c97"
      },
      "source": [
        "df[\"Первоначальный платеж\"]"
      ],
      "id": "f2a0UQMOAWPq",
      "execution_count": null,
      "outputs": [
        {
          "data": {
            "text/plain": [
              "0         -1\n",
              "1         -1\n",
              "2         -1\n",
              "3         -1\n",
              "4         -1\n",
              "          ..\n",
              "160245    -1\n",
              "160246    -1\n",
              "160247    -1\n",
              "160251    -1\n",
              "160254    -1\n",
              "Name: Первоначальный платеж, Length: 160257, dtype: object"
            ]
          },
          "execution_count": 57,
          "metadata": {},
          "output_type": "execute_result"
        }
      ]
    },
    {
      "cell_type": "code",
      "metadata": {
        "scrolled": false,
        "id": "KPu9gfGsAWPq",
        "outputId": "fd3123d8-2942-4710-f695-ee44bf68a033"
      },
      "source": [
        "# Поскольку при просмотре признака на предыдущем шаге не смогли получить первичного представления о том,\n",
        "# какими значениями представлен признак (много отсутствующих значений, заменённых ранее на \"-1\"),\n",
        "# попробуем взглянуть на него в другом разрезе - уникальных значений и их количества:\n",
        "\n",
        "df[\"Первоначальный платеж\"].value_counts()"
      ],
      "id": "KPu9gfGsAWPq",
      "execution_count": null,
      "outputs": [
        {
          "data": {
            "text/plain": [
              "-1               159844\n",
              "1 PLN                31\n",
              "15 000 PLN           13\n",
              "20 000 PLN           12\n",
              "5 000 PLN             8\n",
              "                  ...  \n",
              "14 199 PLN            1\n",
              "65 040,23 PLN         1\n",
              "21 597 PLN            1\n",
              "20 719 PLN            1\n",
              "900 000 PLN           1\n",
              "Name: Первоначальный платеж, Length: 259, dtype: int64"
            ]
          },
          "execution_count": 58,
          "metadata": {},
          "output_type": "execute_result"
        }
      ]
    },
    {
      "cell_type": "code",
      "metadata": {
        "id": "Vr7UdH3CAWPr"
      },
      "source": [
        "# Преобразуем данные признака \"Первоначальный платеж\" в тип данных чисел с плавающей точкой\n",
        "# и получаем новый признак \"first_payment\":\n",
        "\n",
        "df[\"first_payment\"] = df[\"Первоначальный платеж\"].map(lambda x: str(x).split(\"PLN\")[0].\\\n",
        "                                                      replace(\" \", \"\").replace(\",\", \".\")).astype(\"float\")"
      ],
      "id": "Vr7UdH3CAWPr",
      "execution_count": null,
      "outputs": []
    },
    {
      "cell_type": "code",
      "metadata": {
        "id": "_ZJMeTAxAWPs",
        "outputId": "ef39e2ac-c709-4d2f-94fe-2c536b58e0dd"
      },
      "source": [
        "df[\"first_payment\"].value_counts() # видим результаты преобразования"
      ],
      "id": "_ZJMeTAxAWPs",
      "execution_count": null,
      "outputs": [
        {
          "data": {
            "text/plain": [
              "-1.000        159844\n",
              "1.000             31\n",
              "15000.000         13\n",
              "20000.000         12\n",
              "5000.000           8\n",
              "               ...  \n",
              "20325.000          1\n",
              "14199.000          1\n",
              "4000.000           1\n",
              "28353.000          1\n",
              "111000.000         1\n",
              "Name: first_payment, Length: 259, dtype: int64"
            ]
          },
          "execution_count": 60,
          "metadata": {},
          "output_type": "execute_result"
        }
      ]
    },
    {
      "cell_type": "code",
      "metadata": {
        "id": "SrzTFGVLAWPt",
        "outputId": "5c512a22-710f-4677-b2d2-d9aba3f0fd82"
      },
      "source": [
        "# Посмотрим на распределение признака, используя визуализацию - гистограмму:\n",
        "\n",
        "df[\"first_payment\"].hist(bins = 5)"
      ],
      "id": "SrzTFGVLAWPt",
      "execution_count": null,
      "outputs": [
        {
          "data": {
            "text/plain": [
              "<AxesSubplot:>"
            ]
          },
          "execution_count": 61,
          "metadata": {},
          "output_type": "execute_result"
        },
        {
          "data": {
            "image/png": "[encoded data removed]",
            "text/plain": [
              "<Figure size 432x288 with 1 Axes>"
            ]
          },
          "metadata": {
            "needs_background": "light"
          },
          "output_type": "display_data"
        }
      ]
    },
    {
      "cell_type": "code",
      "metadata": {
        "id": "vMDflbTKAWPt",
        "outputId": "21de7b88-ea6d-460d-89ed-279ad0f8e8f3"
      },
      "source": [
        "# Применяем функцию для \"отсечения\" выбросов и строим гистограмму, чтобы увидеть результат действия функции:\n",
        "\n",
        "reset_outlires(df, \"first_payment\", prc=99.8).hist(bins = 20)"
      ],
      "id": "vMDflbTKAWPt",
      "execution_count": null,
      "outputs": [
        {
          "data": {
            "text/plain": [
              "<AxesSubplot:>"
            ]
          },
          "execution_count": 62,
          "metadata": {},
          "output_type": "execute_result"
        },
        {
          "data": {
            "image/png": "[encoded data removed]",
            "text/plain": [
              "<Figure size 432x288 with 1 Axes>"
            ]
          },
          "metadata": {
            "needs_background": "light"
          },
          "output_type": "display_data"
        }
      ]
    },
    {
      "cell_type": "code",
      "metadata": {
        "id": "kvq1tOxfAWPu",
        "outputId": "e996ce5c-490e-4e50-e1c2-5d3fba0bbfc6"
      },
      "source": [
        "# !В результате был сделан вывод о том, что не стоит отсекать выбросы при значении персентиля менее, чем 99,8.\n",
        "# Иначе, если мы отсечём выбросы при персентиле менее, чем 99.8, \n",
        "# то в составе признака останутся только значения \"-1\", т.е. отсутствующие, \n",
        "# и это не будет иметь никакого смысла. Более целесообразно сохранить имеющиеся значения, т.к. они и так немногочисленны.\n",
        "# Проиллюстрируем это на гистограмме (остались лишь отсутствующие значения).\n",
        "\n",
        "reset_outlires(df, \"number_of_remaining_payments\", prc=99.7).hist(bins = 50)"
      ],
      "id": "kvq1tOxfAWPu",
      "execution_count": null,
      "outputs": [
        {
          "data": {
            "text/plain": [
              "<AxesSubplot:>"
            ]
          },
          "execution_count": 63,
          "metadata": {},
          "output_type": "execute_result"
        },
        {
          "data": {
            "image/png": "[encoded data removed]",
            "text/plain": [
              "<Figure size 432x288 with 1 Axes>"
            ]
          },
          "metadata": {
            "needs_background": "light"
          },
          "output_type": "display_data"
        }
      ]
    },
    {
      "cell_type": "code",
      "metadata": {
        "id": "lwTTH2i8AWPv"
      },
      "source": [
        "# Присвоим новому признаку \"first_payment_99\" значения, полученные после \"отсечения\" выбросов:\n",
        "\n",
        "df[\"first_payment_99\"] = reset_outlires(df, \"first_payment\", prc=99.8)"
      ],
      "id": "lwTTH2i8AWPv",
      "execution_count": null,
      "outputs": []
    },
    {
      "cell_type": "markdown",
      "metadata": {
        "id": "f2wPpuRCAWPv"
      },
      "source": [
        "---"
      ],
      "id": "f2wPpuRCAWPv"
    },
    {
      "cell_type": "markdown",
      "metadata": {
        "id": "Ui5t_08CAWPw"
      },
      "source": [
        "### Признак \"Количество дверей\""
      ],
      "id": "Ui5t_08CAWPw"
    },
    {
      "cell_type": "markdown",
      "metadata": {
        "id": "PM5MgTAcAWPw"
      },
      "source": [
        "! Важно отметить, что по результатам последующей оценки прироста ошибки новый полученный признак впоследствии НЕ БЫЛ включён в модель, т.к. его включение приводило уже к увеличению значения ошибки"
      ],
      "id": "PM5MgTAcAWPw"
    },
    {
      "cell_type": "code",
      "metadata": {
        "scrolled": true,
        "id": "HlD1g_yeAWQB",
        "outputId": "63659fba-a7a0-417d-f023-bd2614aadb81"
      },
      "source": [
        "df[\"Количество дверей\"]"
      ],
      "id": "HlD1g_yeAWQB",
      "execution_count": null,
      "outputs": [
        {
          "data": {
            "text/plain": [
              "0          5\n",
              "1          5\n",
              "2          3\n",
              "3          5\n",
              "4          5\n",
              "          ..\n",
              "160245    -1\n",
              "160246     5\n",
              "160247     5\n",
              "160251     5\n",
              "160254     5\n",
              "Name: Количество дверей, Length: 160257, dtype: object"
            ]
          },
          "execution_count": 67,
          "metadata": {},
          "output_type": "execute_result"
        }
      ]
    },
    {
      "cell_type": "code",
      "metadata": {
        "scrolled": false,
        "id": "sWEA-FO0AWQC",
        "outputId": "f8cc7db1-6666-4d7b-e805-748f023cfb3c"
      },
      "source": [
        "# Посмотрим на данные также в разрезе уникальных значений и соответствующего им количества:\n",
        "\n",
        "df[\"Количество дверей\"].value_counts()"
      ],
      "id": "sWEA-FO0AWQC",
      "execution_count": null,
      "outputs": [
        {
          "data": {
            "text/plain": [
              "5     107551\n",
              "4      22867\n",
              "-1     14743\n",
              "3      11010\n",
              "2       3905\n",
              "6        144\n",
              "7         18\n",
              "9          6\n",
              "8          6\n",
              "1          6\n",
              "30         1\n",
              "Name: Количество дверей, dtype: int64"
            ]
          },
          "execution_count": 68,
          "metadata": {},
          "output_type": "execute_result"
        }
      ]
    },
    {
      "cell_type": "code",
      "metadata": {
        "id": "GGtvgJ75AWQD"
      },
      "source": [
        "# Преобразуем данные признака \"Количество дверей\" в целочисленный тип \n",
        "# и получаем новый признак \"doors_number\":\n",
        "\n",
        "df[\"doors_number\"] = df[\"Количество дверей\"].map(lambda x: str(x).split()[0].replace(\" \", \"\")).astype(\"int\")"
      ],
      "id": "GGtvgJ75AWQD",
      "execution_count": null,
      "outputs": []
    },
    {
      "cell_type": "code",
      "metadata": {
        "scrolled": true,
        "id": "j72FGNO9AWQD",
        "outputId": "e5e7fc5a-1583-4308-b0be-b9f6b840a68f"
      },
      "source": [
        "df[\"doors_number\"] # видим результаты преобразования"
      ],
      "id": "j72FGNO9AWQD",
      "execution_count": null,
      "outputs": [
        {
          "data": {
            "text/plain": [
              "0         5\n",
              "1         5\n",
              "2         3\n",
              "3         5\n",
              "4         5\n",
              "         ..\n",
              "160245   -1\n",
              "160246    5\n",
              "160247    5\n",
              "160251    5\n",
              "160254    5\n",
              "Name: doors_number, Length: 160257, dtype: int32"
            ]
          },
          "execution_count": 70,
          "metadata": {},
          "output_type": "execute_result"
        }
      ]
    },
    {
      "cell_type": "code",
      "metadata": {
        "scrolled": true,
        "id": "JQdK8cWkAWQE",
        "outputId": "6508ef38-84a7-4f33-88bf-cc392cf6db0b"
      },
      "source": [
        "df[\"doors_number\"].value_counts() # видим результаты преобразования"
      ],
      "id": "JQdK8cWkAWQE",
      "execution_count": null,
      "outputs": [
        {
          "data": {
            "text/plain": [
              " 5     107551\n",
              " 4      22867\n",
              "-1      14743\n",
              " 3      11010\n",
              " 2       3905\n",
              " 6        144\n",
              " 7         18\n",
              " 9          6\n",
              " 8          6\n",
              " 1          6\n",
              " 30         1\n",
              "Name: doors_number, dtype: int64"
            ]
          },
          "execution_count": 71,
          "metadata": {},
          "output_type": "execute_result"
        }
      ]
    },
    {
      "cell_type": "code",
      "metadata": {
        "id": "J9ZFEtNFAWQE",
        "outputId": "4d6dbd35-a5a2-4cd6-b0b1-baeac501195d"
      },
      "source": [
        "# Посмотрим на распределение признака, используя визуализацию - гистограмму:\n",
        "\n",
        "df[\"doors_number\"].hist(bins = 5)"
      ],
      "id": "J9ZFEtNFAWQE",
      "execution_count": null,
      "outputs": [
        {
          "data": {
            "text/plain": [
              "<AxesSubplot:>"
            ]
          },
          "execution_count": 72,
          "metadata": {},
          "output_type": "execute_result"
        },
        {
          "data": {
            "image/png": "[encoded data removed]",
            "text/plain": [
              "<Figure size 432x288 with 1 Axes>"
            ]
          },
          "metadata": {
            "needs_background": "light"
          },
          "output_type": "display_data"
        }
      ]
    },
    {
      "cell_type": "code",
      "metadata": {
        "id": "i3uTCm8MAWQF",
        "outputId": "c29b4ecf-47db-49a1-9e59-644579083dbe"
      },
      "source": [
        "# Применяем функцию для \"отсечения\" выбросов и строим гистограмму, чтобы увидеть результат действия функции:\n",
        "\n",
        "reset_outlires(df, \"doors_number\", prc=99.9).hist(bins = 20)"
      ],
      "id": "i3uTCm8MAWQF",
      "execution_count": null,
      "outputs": [
        {
          "data": {
            "text/plain": [
              "<AxesSubplot:>"
            ]
          },
          "execution_count": 73,
          "metadata": {},
          "output_type": "execute_result"
        },
        {
          "data": {
            "image/png": "[encoded data removed]",
            "text/plain": [
              "<Figure size 432x288 with 1 Axes>"
            ]
          },
          "metadata": {
            "needs_background": "light"
          },
          "output_type": "display_data"
        }
      ]
    },
    {
      "cell_type": "code",
      "metadata": {
        "id": "31NPmuFlAWQF"
      },
      "source": [
        "# Присвоим новому признаку \"doors_number_99\" значения, полученные после \"отсечения\" выбросов \n",
        "# (НЕ БУДЕТ ИСПОЛЬЗОВАН В ИТОГЕ):\n",
        "\n",
        "df[\"doors_number_99\"] = reset_outlires(df, \"doors_number\", prc=99.9)"
      ],
      "id": "31NPmuFlAWQF",
      "execution_count": null,
      "outputs": []
    },
    {
      "cell_type": "markdown",
      "metadata": {
        "id": "tyGyXMCDAWQG"
      },
      "source": [
        "### Признаки \"horse_power_99\" и \"Engine power\"\n",
        "### (дополнение значений признака \"horse_power_99\" значениями признака \"Engine power\")"
      ],
      "id": "tyGyXMCDAWQG"
    },
    {
      "cell_type": "markdown",
      "metadata": {
        "id": "LGtNWNnsAWQG"
      },
      "source": [
        "Поскольку значения и того, и другого признака описывают одну и ту же сущность - мощность в лошадиных силах, было принято решение о целесообразности объединения."
      ],
      "id": "LGtNWNnsAWQG"
    },
    {
      "cell_type": "markdown",
      "metadata": {
        "id": "1vf9vi5NAWQH"
      },
      "source": [
        "По результатам последующей оценки прироста ошибки новый полученный признак (дополненный) впоследствии был включён в модель"
      ],
      "id": "1vf9vi5NAWQH"
    },
    {
      "cell_type": "code",
      "metadata": {
        "id": "T6frdo-jAWQH"
      },
      "source": [
        "# Прежде уделим внимание признаку \"Engine power\" и проведём необходимые преобразования\n",
        "# (признак \"horse_power_99\" рассматривался выше):"
      ],
      "id": "T6frdo-jAWQH",
      "execution_count": null,
      "outputs": []
    },
    {
      "cell_type": "code",
      "metadata": {
        "scrolled": true,
        "id": "Ai_qUjCYAWQI",
        "outputId": "3ca931ac-bd79-48ad-d2ad-b3bffc155483"
      },
      "source": [
        "df[\"Engine power\"]"
      ],
      "id": "Ai_qUjCYAWQI",
      "execution_count": null,
      "outputs": [
        {
          "data": {
            "text/plain": [
              "0         -1\n",
              "1         -1\n",
              "2         -1\n",
              "3         -1\n",
              "4         -1\n",
              "          ..\n",
              "160245    -1\n",
              "160246    -1\n",
              "160247    -1\n",
              "160251    -1\n",
              "160254    -1\n",
              "Name: Engine power, Length: 160257, dtype: object"
            ]
          },
          "execution_count": 76,
          "metadata": {},
          "output_type": "execute_result"
        }
      ]
    },
    {
      "cell_type": "code",
      "metadata": {
        "id": "zEc_L2VzAWQJ",
        "outputId": "07975bc9-d5fa-4809-ea29-7d646c015197"
      },
      "source": [
        "# Посмотрим на данные также в разрезе уникальных значений и соответствующего им количества:\n",
        "\n",
        "df[\"Engine power\"].value_counts()"
      ],
      "id": "zEc_L2VzAWQJ",
      "execution_count": null,
      "outputs": [
        {
          "data": {
            "text/plain": [
              "-1        160142\n",
              "140 HP         9\n",
              "150 HP         9\n",
              "90 HP          6\n",
              "116 HP         6\n",
              "105 HP         5\n",
              "190 HP         5\n",
              "110 HP         5\n",
              "100 HP         5\n",
              "136 HP         4\n",
              "120 HP         4\n",
              "75 HP          4\n",
              "147 HP         3\n",
              "177 HP         3\n",
              "115 HP         3\n",
              "180 HP         3\n",
              "163 HP         3\n",
              "102 HP         3\n",
              "95 HP          2\n",
              "192 HP         2\n",
              "170 HP         2\n",
              "218 HP         2\n",
              "126 HP         2\n",
              "160 HP         2\n",
              "130 HP         2\n",
              "109 HP         2\n",
              "161 HP         1\n",
              "173 HP         1\n",
              "80 HP          1\n",
              "83 HP          1\n",
              "188 HP         1\n",
              "204 HP         1\n",
              "305 HP         1\n",
              "60 HP          1\n",
              "233 HP         1\n",
              "184 HP         1\n",
              "127 HP         1\n",
              "117 HP         1\n",
              "67 HP          1\n",
              "70 HP          1\n",
              "72 HP          1\n",
              "77 HP          1\n",
              "143 HP         1\n",
              "455 HP         1\n",
              "65 HP          1\n",
              "Name: Engine power, dtype: int64"
            ]
          },
          "execution_count": 77,
          "metadata": {},
          "output_type": "execute_result"
        }
      ]
    },
    {
      "cell_type": "code",
      "metadata": {
        "id": "VBn8eYz8AWQS"
      },
      "source": [
        "# Преобразуем данные признака \"Engine power\" в целочисленный тип \n",
        "# и получаем новый признак \"Engine_power_2\":\n",
        "\n",
        "df[\"Engine_power_2\"] = df[\"Engine power\"].map(lambda x: str(x).split(\"HP\")[0].replace(\" \", \"\")).astype(\"int\")"
      ],
      "id": "VBn8eYz8AWQS",
      "execution_count": null,
      "outputs": []
    },
    {
      "cell_type": "code",
      "metadata": {
        "id": "Dv6Sd8XRAWQS",
        "outputId": "a4208ede-a92e-4bb5-9b76-9ecde82de7d2"
      },
      "source": [
        "df[\"Engine_power_2\"] # видим результаты преобразования"
      ],
      "id": "Dv6Sd8XRAWQS",
      "execution_count": null,
      "outputs": [
        {
          "data": {
            "text/plain": [
              "0        -1\n",
              "1        -1\n",
              "2        -1\n",
              "3        -1\n",
              "4        -1\n",
              "         ..\n",
              "160245   -1\n",
              "160246   -1\n",
              "160247   -1\n",
              "160251   -1\n",
              "160254   -1\n",
              "Name: Engine_power_2, Length: 160257, dtype: int32"
            ]
          },
          "execution_count": 79,
          "metadata": {},
          "output_type": "execute_result"
        }
      ]
    },
    {
      "cell_type": "code",
      "metadata": {
        "id": "fSrcjuRfAWQT",
        "outputId": "eb281284-bcc5-41dd-f04b-cbf79fc240b6"
      },
      "source": [
        "df[\"Engine_power_2\"].value_counts() # видим результаты преобразования"
      ],
      "id": "fSrcjuRfAWQT",
      "execution_count": null,
      "outputs": [
        {
          "data": {
            "text/plain": [
              "-1      160142\n",
              " 150         9\n",
              " 140         9\n",
              " 116         6\n",
              " 90          6\n",
              " 110         5\n",
              " 190         5\n",
              " 100         5\n",
              " 105         5\n",
              " 136         4\n",
              " 120         4\n",
              " 75          4\n",
              " 115         3\n",
              " 102         3\n",
              " 180         3\n",
              " 163         3\n",
              " 147         3\n",
              " 177         3\n",
              " 192         2\n",
              " 170         2\n",
              " 130         2\n",
              " 160         2\n",
              " 218         2\n",
              " 95          2\n",
              " 109         2\n",
              " 126         2\n",
              " 161         1\n",
              " 143         1\n",
              " 173         1\n",
              " 305         1\n",
              " 127         1\n",
              " 184         1\n",
              " 60          1\n",
              " 188         1\n",
              " 65          1\n",
              " 67          1\n",
              " 70          1\n",
              " 72          1\n",
              " 204         1\n",
              " 77          1\n",
              " 80          1\n",
              " 83          1\n",
              " 233         1\n",
              " 117         1\n",
              " 455         1\n",
              "Name: Engine_power_2, dtype: int64"
            ]
          },
          "execution_count": 80,
          "metadata": {},
          "output_type": "execute_result"
        }
      ]
    },
    {
      "cell_type": "code",
      "metadata": {
        "id": "4ZBhLZxMAWQT",
        "outputId": "fadf2c24-af33-4043-b147-fb56695e9e39"
      },
      "source": [
        "# Посмотрим на распределение признака, используя визуализацию - гистограмму:\n",
        "\n",
        "df[\"Engine_power_2\"].hist()"
      ],
      "id": "4ZBhLZxMAWQT",
      "execution_count": null,
      "outputs": [
        {
          "data": {
            "text/plain": [
              "<AxesSubplot:>"
            ]
          },
          "execution_count": 81,
          "metadata": {},
          "output_type": "execute_result"
        },
        {
          "data": {
            "image/png": "[encoded data removed]",
            "text/plain": [
              "<Figure size 432x288 with 1 Axes>"
            ]
          },
          "metadata": {
            "needs_background": "light"
          },
          "output_type": "display_data"
        }
      ]
    },
    {
      "cell_type": "markdown",
      "metadata": {
        "id": "CliHXSwpAWQU"
      },
      "source": [
        "! Было принято решение не \"отсекать\" выбросы, т.к. для признака \"horse_power_99\", с которым предстоит объединение, значения в районе 400 не являются аномальными."
      ],
      "id": "CliHXSwpAWQU"
    },
    {
      "cell_type": "code",
      "metadata": {
        "id": "P9mrHhrEAWQU",
        "outputId": "a1c8af33-b1ef-4431-93b8-231c4fc2be61"
      },
      "source": [
        "# Посмотрим, как признак \"Engine_power_2\" может дополнить признак \"horse_power_99\" \n",
        "# (видим, что есть дополнения в случаях, когда значения у признака \"horse_power_99\" равны \"-1\", т.е. отсутствуют):\n",
        "\n",
        "pd.crosstab(df.horse_power_99, df.Engine_power_2)"
      ],
      "id": "P9mrHhrEAWQU",
      "execution_count": null,
      "outputs": [
        {
          "data": {
            "text/html": [
              "<div>\n",
              "<style scoped>\n",
              "    .dataframe tbody tr th:only-of-type {\n",
              "        vertical-align: middle;\n",
              "    }\n",
              "\n",
              "    .dataframe tbody tr th {\n",
              "        vertical-align: top;\n",
              "    }\n",
              "\n",
              "    .dataframe thead th {\n",
              "        text-align: right;\n",
              "    }\n",
              "</style>\n",
              "<table border=\"1\" class=\"dataframe\">\n",
              "  <thead>\n",
              "    <tr style=\"text-align: right;\">\n",
              "      <th>Engine_power_2</th>\n",
              "      <th>-1</th>\n",
              "      <th>60</th>\n",
              "      <th>65</th>\n",
              "      <th>67</th>\n",
              "      <th>70</th>\n",
              "      <th>72</th>\n",
              "      <th>75</th>\n",
              "      <th>77</th>\n",
              "      <th>80</th>\n",
              "      <th>83</th>\n",
              "      <th>90</th>\n",
              "      <th>95</th>\n",
              "      <th>100</th>\n",
              "      <th>102</th>\n",
              "      <th>105</th>\n",
              "      <th>109</th>\n",
              "      <th>110</th>\n",
              "      <th>115</th>\n",
              "      <th>116</th>\n",
              "      <th>117</th>\n",
              "      <th>120</th>\n",
              "      <th>126</th>\n",
              "      <th>127</th>\n",
              "      <th>130</th>\n",
              "      <th>136</th>\n",
              "      <th>140</th>\n",
              "      <th>143</th>\n",
              "      <th>147</th>\n",
              "      <th>150</th>\n",
              "      <th>160</th>\n",
              "      <th>161</th>\n",
              "      <th>163</th>\n",
              "      <th>170</th>\n",
              "      <th>173</th>\n",
              "      <th>177</th>\n",
              "      <th>180</th>\n",
              "      <th>184</th>\n",
              "      <th>188</th>\n",
              "      <th>190</th>\n",
              "      <th>192</th>\n",
              "      <th>204</th>\n",
              "      <th>218</th>\n",
              "      <th>233</th>\n",
              "      <th>305</th>\n",
              "      <th>455</th>\n",
              "    </tr>\n",
              "    <tr>\n",
              "      <th>horse_power_99</th>\n",
              "      <th></th>\n",
              "      <th></th>\n",
              "      <th></th>\n",
              "      <th></th>\n",
              "      <th></th>\n",
              "      <th></th>\n",
              "      <th></th>\n",
              "      <th></th>\n",
              "      <th></th>\n",
              "      <th></th>\n",
              "      <th></th>\n",
              "      <th></th>\n",
              "      <th></th>\n",
              "      <th></th>\n",
              "      <th></th>\n",
              "      <th></th>\n",
              "      <th></th>\n",
              "      <th></th>\n",
              "      <th></th>\n",
              "      <th></th>\n",
              "      <th></th>\n",
              "      <th></th>\n",
              "      <th></th>\n",
              "      <th></th>\n",
              "      <th></th>\n",
              "      <th></th>\n",
              "      <th></th>\n",
              "      <th></th>\n",
              "      <th></th>\n",
              "      <th></th>\n",
              "      <th></th>\n",
              "      <th></th>\n",
              "      <th></th>\n",
              "      <th></th>\n",
              "      <th></th>\n",
              "      <th></th>\n",
              "      <th></th>\n",
              "      <th></th>\n",
              "      <th></th>\n",
              "      <th></th>\n",
              "      <th></th>\n",
              "      <th></th>\n",
              "      <th></th>\n",
              "      <th></th>\n",
              "      <th></th>\n",
              "    </tr>\n",
              "  </thead>\n",
              "  <tbody>\n",
              "    <tr>\n",
              "      <th>-1</th>\n",
              "      <td>14460</td>\n",
              "      <td>1</td>\n",
              "      <td>1</td>\n",
              "      <td>1</td>\n",
              "      <td>1</td>\n",
              "      <td>1</td>\n",
              "      <td>4</td>\n",
              "      <td>1</td>\n",
              "      <td>1</td>\n",
              "      <td>1</td>\n",
              "      <td>6</td>\n",
              "      <td>2</td>\n",
              "      <td>5</td>\n",
              "      <td>3</td>\n",
              "      <td>5</td>\n",
              "      <td>2</td>\n",
              "      <td>5</td>\n",
              "      <td>3</td>\n",
              "      <td>6</td>\n",
              "      <td>1</td>\n",
              "      <td>4</td>\n",
              "      <td>2</td>\n",
              "      <td>1</td>\n",
              "      <td>2</td>\n",
              "      <td>4</td>\n",
              "      <td>9</td>\n",
              "      <td>1</td>\n",
              "      <td>3</td>\n",
              "      <td>9</td>\n",
              "      <td>2</td>\n",
              "      <td>1</td>\n",
              "      <td>3</td>\n",
              "      <td>2</td>\n",
              "      <td>1</td>\n",
              "      <td>3</td>\n",
              "      <td>3</td>\n",
              "      <td>1</td>\n",
              "      <td>1</td>\n",
              "      <td>5</td>\n",
              "      <td>2</td>\n",
              "      <td>1</td>\n",
              "      <td>2</td>\n",
              "      <td>1</td>\n",
              "      <td>1</td>\n",
              "      <td>1</td>\n",
              "    </tr>\n",
              "    <tr>\n",
              "      <th>1</th>\n",
              "      <td>17</td>\n",
              "      <td>0</td>\n",
              "      <td>0</td>\n",
              "      <td>0</td>\n",
              "      <td>0</td>\n",
              "      <td>0</td>\n",
              "      <td>0</td>\n",
              "      <td>0</td>\n",
              "      <td>0</td>\n",
              "      <td>0</td>\n",
              "      <td>0</td>\n",
              "      <td>0</td>\n",
              "      <td>0</td>\n",
              "      <td>0</td>\n",
              "      <td>0</td>\n",
              "      <td>0</td>\n",
              "      <td>0</td>\n",
              "      <td>0</td>\n",
              "      <td>0</td>\n",
              "      <td>0</td>\n",
              "      <td>0</td>\n",
              "      <td>0</td>\n",
              "      <td>0</td>\n",
              "      <td>0</td>\n",
              "      <td>0</td>\n",
              "      <td>0</td>\n",
              "      <td>0</td>\n",
              "      <td>0</td>\n",
              "      <td>0</td>\n",
              "      <td>0</td>\n",
              "      <td>0</td>\n",
              "      <td>0</td>\n",
              "      <td>0</td>\n",
              "      <td>0</td>\n",
              "      <td>0</td>\n",
              "      <td>0</td>\n",
              "      <td>0</td>\n",
              "      <td>0</td>\n",
              "      <td>0</td>\n",
              "      <td>0</td>\n",
              "      <td>0</td>\n",
              "      <td>0</td>\n",
              "      <td>0</td>\n",
              "      <td>0</td>\n",
              "      <td>0</td>\n",
              "    </tr>\n",
              "    <tr>\n",
              "      <th>2</th>\n",
              "      <td>3</td>\n",
              "      <td>0</td>\n",
              "      <td>0</td>\n",
              "      <td>0</td>\n",
              "      <td>0</td>\n",
              "      <td>0</td>\n",
              "      <td>0</td>\n",
              "      <td>0</td>\n",
              "      <td>0</td>\n",
              "      <td>0</td>\n",
              "      <td>0</td>\n",
              "      <td>0</td>\n",
              "      <td>0</td>\n",
              "      <td>0</td>\n",
              "      <td>0</td>\n",
              "      <td>0</td>\n",
              "      <td>0</td>\n",
              "      <td>0</td>\n",
              "      <td>0</td>\n",
              "      <td>0</td>\n",
              "      <td>0</td>\n",
              "      <td>0</td>\n",
              "      <td>0</td>\n",
              "      <td>0</td>\n",
              "      <td>0</td>\n",
              "      <td>0</td>\n",
              "      <td>0</td>\n",
              "      <td>0</td>\n",
              "      <td>0</td>\n",
              "      <td>0</td>\n",
              "      <td>0</td>\n",
              "      <td>0</td>\n",
              "      <td>0</td>\n",
              "      <td>0</td>\n",
              "      <td>0</td>\n",
              "      <td>0</td>\n",
              "      <td>0</td>\n",
              "      <td>0</td>\n",
              "      <td>0</td>\n",
              "      <td>0</td>\n",
              "      <td>0</td>\n",
              "      <td>0</td>\n",
              "      <td>0</td>\n",
              "      <td>0</td>\n",
              "      <td>0</td>\n",
              "    </tr>\n",
              "    <tr>\n",
              "      <th>3</th>\n",
              "      <td>6</td>\n",
              "      <td>0</td>\n",
              "      <td>0</td>\n",
              "      <td>0</td>\n",
              "      <td>0</td>\n",
              "      <td>0</td>\n",
              "      <td>0</td>\n",
              "      <td>0</td>\n",
              "      <td>0</td>\n",
              "      <td>0</td>\n",
              "      <td>0</td>\n",
              "      <td>0</td>\n",
              "      <td>0</td>\n",
              "      <td>0</td>\n",
              "      <td>0</td>\n",
              "      <td>0</td>\n",
              "      <td>0</td>\n",
              "      <td>0</td>\n",
              "      <td>0</td>\n",
              "      <td>0</td>\n",
              "      <td>0</td>\n",
              "      <td>0</td>\n",
              "      <td>0</td>\n",
              "      <td>0</td>\n",
              "      <td>0</td>\n",
              "      <td>0</td>\n",
              "      <td>0</td>\n",
              "      <td>0</td>\n",
              "      <td>0</td>\n",
              "      <td>0</td>\n",
              "      <td>0</td>\n",
              "      <td>0</td>\n",
              "      <td>0</td>\n",
              "      <td>0</td>\n",
              "      <td>0</td>\n",
              "      <td>0</td>\n",
              "      <td>0</td>\n",
              "      <td>0</td>\n",
              "      <td>0</td>\n",
              "      <td>0</td>\n",
              "      <td>0</td>\n",
              "      <td>0</td>\n",
              "      <td>0</td>\n",
              "      <td>0</td>\n",
              "      <td>0</td>\n",
              "    </tr>\n",
              "    <tr>\n",
              "      <th>4</th>\n",
              "      <td>50</td>\n",
              "      <td>0</td>\n",
              "      <td>0</td>\n",
              "      <td>0</td>\n",
              "      <td>0</td>\n",
              "      <td>0</td>\n",
              "      <td>0</td>\n",
              "      <td>0</td>\n",
              "      <td>0</td>\n",
              "      <td>0</td>\n",
              "      <td>0</td>\n",
              "      <td>0</td>\n",
              "      <td>0</td>\n",
              "      <td>0</td>\n",
              "      <td>0</td>\n",
              "      <td>0</td>\n",
              "      <td>0</td>\n",
              "      <td>0</td>\n",
              "      <td>0</td>\n",
              "      <td>0</td>\n",
              "      <td>0</td>\n",
              "      <td>0</td>\n",
              "      <td>0</td>\n",
              "      <td>0</td>\n",
              "      <td>0</td>\n",
              "      <td>0</td>\n",
              "      <td>0</td>\n",
              "      <td>0</td>\n",
              "      <td>0</td>\n",
              "      <td>0</td>\n",
              "      <td>0</td>\n",
              "      <td>0</td>\n",
              "      <td>0</td>\n",
              "      <td>0</td>\n",
              "      <td>0</td>\n",
              "      <td>0</td>\n",
              "      <td>0</td>\n",
              "      <td>0</td>\n",
              "      <td>0</td>\n",
              "      <td>0</td>\n",
              "      <td>0</td>\n",
              "      <td>0</td>\n",
              "      <td>0</td>\n",
              "      <td>0</td>\n",
              "      <td>0</td>\n",
              "    </tr>\n",
              "    <tr>\n",
              "      <th>...</th>\n",
              "      <td>...</td>\n",
              "      <td>...</td>\n",
              "      <td>...</td>\n",
              "      <td>...</td>\n",
              "      <td>...</td>\n",
              "      <td>...</td>\n",
              "      <td>...</td>\n",
              "      <td>...</td>\n",
              "      <td>...</td>\n",
              "      <td>...</td>\n",
              "      <td>...</td>\n",
              "      <td>...</td>\n",
              "      <td>...</td>\n",
              "      <td>...</td>\n",
              "      <td>...</td>\n",
              "      <td>...</td>\n",
              "      <td>...</td>\n",
              "      <td>...</td>\n",
              "      <td>...</td>\n",
              "      <td>...</td>\n",
              "      <td>...</td>\n",
              "      <td>...</td>\n",
              "      <td>...</td>\n",
              "      <td>...</td>\n",
              "      <td>...</td>\n",
              "      <td>...</td>\n",
              "      <td>...</td>\n",
              "      <td>...</td>\n",
              "      <td>...</td>\n",
              "      <td>...</td>\n",
              "      <td>...</td>\n",
              "      <td>...</td>\n",
              "      <td>...</td>\n",
              "      <td>...</td>\n",
              "      <td>...</td>\n",
              "      <td>...</td>\n",
              "      <td>...</td>\n",
              "      <td>...</td>\n",
              "      <td>...</td>\n",
              "      <td>...</td>\n",
              "      <td>...</td>\n",
              "      <td>...</td>\n",
              "      <td>...</td>\n",
              "      <td>...</td>\n",
              "      <td>...</td>\n",
              "    </tr>\n",
              "    <tr>\n",
              "      <th>550</th>\n",
              "      <td>43</td>\n",
              "      <td>0</td>\n",
              "      <td>0</td>\n",
              "      <td>0</td>\n",
              "      <td>0</td>\n",
              "      <td>0</td>\n",
              "      <td>0</td>\n",
              "      <td>0</td>\n",
              "      <td>0</td>\n",
              "      <td>0</td>\n",
              "      <td>0</td>\n",
              "      <td>0</td>\n",
              "      <td>0</td>\n",
              "      <td>0</td>\n",
              "      <td>0</td>\n",
              "      <td>0</td>\n",
              "      <td>0</td>\n",
              "      <td>0</td>\n",
              "      <td>0</td>\n",
              "      <td>0</td>\n",
              "      <td>0</td>\n",
              "      <td>0</td>\n",
              "      <td>0</td>\n",
              "      <td>0</td>\n",
              "      <td>0</td>\n",
              "      <td>0</td>\n",
              "      <td>0</td>\n",
              "      <td>0</td>\n",
              "      <td>0</td>\n",
              "      <td>0</td>\n",
              "      <td>0</td>\n",
              "      <td>0</td>\n",
              "      <td>0</td>\n",
              "      <td>0</td>\n",
              "      <td>0</td>\n",
              "      <td>0</td>\n",
              "      <td>0</td>\n",
              "      <td>0</td>\n",
              "      <td>0</td>\n",
              "      <td>0</td>\n",
              "      <td>0</td>\n",
              "      <td>0</td>\n",
              "      <td>0</td>\n",
              "      <td>0</td>\n",
              "      <td>0</td>\n",
              "    </tr>\n",
              "    <tr>\n",
              "      <th>551</th>\n",
              "      <td>1</td>\n",
              "      <td>0</td>\n",
              "      <td>0</td>\n",
              "      <td>0</td>\n",
              "      <td>0</td>\n",
              "      <td>0</td>\n",
              "      <td>0</td>\n",
              "      <td>0</td>\n",
              "      <td>0</td>\n",
              "      <td>0</td>\n",
              "      <td>0</td>\n",
              "      <td>0</td>\n",
              "      <td>0</td>\n",
              "      <td>0</td>\n",
              "      <td>0</td>\n",
              "      <td>0</td>\n",
              "      <td>0</td>\n",
              "      <td>0</td>\n",
              "      <td>0</td>\n",
              "      <td>0</td>\n",
              "      <td>0</td>\n",
              "      <td>0</td>\n",
              "      <td>0</td>\n",
              "      <td>0</td>\n",
              "      <td>0</td>\n",
              "      <td>0</td>\n",
              "      <td>0</td>\n",
              "      <td>0</td>\n",
              "      <td>0</td>\n",
              "      <td>0</td>\n",
              "      <td>0</td>\n",
              "      <td>0</td>\n",
              "      <td>0</td>\n",
              "      <td>0</td>\n",
              "      <td>0</td>\n",
              "      <td>0</td>\n",
              "      <td>0</td>\n",
              "      <td>0</td>\n",
              "      <td>0</td>\n",
              "      <td>0</td>\n",
              "      <td>0</td>\n",
              "      <td>0</td>\n",
              "      <td>0</td>\n",
              "      <td>0</td>\n",
              "      <td>0</td>\n",
              "    </tr>\n",
              "    <tr>\n",
              "      <th>555</th>\n",
              "      <td>10</td>\n",
              "      <td>0</td>\n",
              "      <td>0</td>\n",
              "      <td>0</td>\n",
              "      <td>0</td>\n",
              "      <td>0</td>\n",
              "      <td>0</td>\n",
              "      <td>0</td>\n",
              "      <td>0</td>\n",
              "      <td>0</td>\n",
              "      <td>0</td>\n",
              "      <td>0</td>\n",
              "      <td>0</td>\n",
              "      <td>0</td>\n",
              "      <td>0</td>\n",
              "      <td>0</td>\n",
              "      <td>0</td>\n",
              "      <td>0</td>\n",
              "      <td>0</td>\n",
              "      <td>0</td>\n",
              "      <td>0</td>\n",
              "      <td>0</td>\n",
              "      <td>0</td>\n",
              "      <td>0</td>\n",
              "      <td>0</td>\n",
              "      <td>0</td>\n",
              "      <td>0</td>\n",
              "      <td>0</td>\n",
              "      <td>0</td>\n",
              "      <td>0</td>\n",
              "      <td>0</td>\n",
              "      <td>0</td>\n",
              "      <td>0</td>\n",
              "      <td>0</td>\n",
              "      <td>0</td>\n",
              "      <td>0</td>\n",
              "      <td>0</td>\n",
              "      <td>0</td>\n",
              "      <td>0</td>\n",
              "      <td>0</td>\n",
              "      <td>0</td>\n",
              "      <td>0</td>\n",
              "      <td>0</td>\n",
              "      <td>0</td>\n",
              "      <td>0</td>\n",
              "    </tr>\n",
              "    <tr>\n",
              "      <th>557</th>\n",
              "      <td>10</td>\n",
              "      <td>0</td>\n",
              "      <td>0</td>\n",
              "      <td>0</td>\n",
              "      <td>0</td>\n",
              "      <td>0</td>\n",
              "      <td>0</td>\n",
              "      <td>0</td>\n",
              "      <td>0</td>\n",
              "      <td>0</td>\n",
              "      <td>0</td>\n",
              "      <td>0</td>\n",
              "      <td>0</td>\n",
              "      <td>0</td>\n",
              "      <td>0</td>\n",
              "      <td>0</td>\n",
              "      <td>0</td>\n",
              "      <td>0</td>\n",
              "      <td>0</td>\n",
              "      <td>0</td>\n",
              "      <td>0</td>\n",
              "      <td>0</td>\n",
              "      <td>0</td>\n",
              "      <td>0</td>\n",
              "      <td>0</td>\n",
              "      <td>0</td>\n",
              "      <td>0</td>\n",
              "      <td>0</td>\n",
              "      <td>0</td>\n",
              "      <td>0</td>\n",
              "      <td>0</td>\n",
              "      <td>0</td>\n",
              "      <td>0</td>\n",
              "      <td>0</td>\n",
              "      <td>0</td>\n",
              "      <td>0</td>\n",
              "      <td>0</td>\n",
              "      <td>0</td>\n",
              "      <td>0</td>\n",
              "      <td>0</td>\n",
              "      <td>0</td>\n",
              "      <td>0</td>\n",
              "      <td>0</td>\n",
              "      <td>0</td>\n",
              "      <td>0</td>\n",
              "    </tr>\n",
              "    <tr>\n",
              "      <th>558</th>\n",
              "      <td>4</td>\n",
              "      <td>0</td>\n",
              "      <td>0</td>\n",
              "      <td>0</td>\n",
              "      <td>0</td>\n",
              "      <td>0</td>\n",
              "      <td>0</td>\n",
              "      <td>0</td>\n",
              "      <td>0</td>\n",
              "      <td>0</td>\n",
              "      <td>0</td>\n",
              "      <td>0</td>\n",
              "      <td>0</td>\n",
              "      <td>0</td>\n",
              "      <td>0</td>\n",
              "      <td>0</td>\n",
              "      <td>0</td>\n",
              "      <td>0</td>\n",
              "      <td>0</td>\n",
              "      <td>0</td>\n",
              "      <td>0</td>\n",
              "      <td>0</td>\n",
              "      <td>0</td>\n",
              "      <td>0</td>\n",
              "      <td>0</td>\n",
              "      <td>0</td>\n",
              "      <td>0</td>\n",
              "      <td>0</td>\n",
              "      <td>0</td>\n",
              "      <td>0</td>\n",
              "      <td>0</td>\n",
              "      <td>0</td>\n",
              "      <td>0</td>\n",
              "      <td>0</td>\n",
              "      <td>0</td>\n",
              "      <td>0</td>\n",
              "      <td>0</td>\n",
              "      <td>0</td>\n",
              "      <td>0</td>\n",
              "      <td>0</td>\n",
              "      <td>0</td>\n",
              "      <td>0</td>\n",
              "      <td>0</td>\n",
              "      <td>0</td>\n",
              "      <td>0</td>\n",
              "    </tr>\n",
              "  </tbody>\n",
              "</table>\n",
              "<p>474 rows × 45 columns</p>\n",
              "</div>"
            ],
            "text/plain": [
              "Engine_power_2   -1     60    65    67    70    72    75    77    80    83   \\\n",
              "horse_power_99                                                                \n",
              "-1              14460     1     1     1     1     1     4     1     1     1   \n",
              " 1                 17     0     0     0     0     0     0     0     0     0   \n",
              " 2                  3     0     0     0     0     0     0     0     0     0   \n",
              " 3                  6     0     0     0     0     0     0     0     0     0   \n",
              " 4                 50     0     0     0     0     0     0     0     0     0   \n",
              "...               ...   ...   ...   ...   ...   ...   ...   ...   ...   ...   \n",
              " 550               43     0     0     0     0     0     0     0     0     0   \n",
              " 551                1     0     0     0     0     0     0     0     0     0   \n",
              " 555               10     0     0     0     0     0     0     0     0     0   \n",
              " 557               10     0     0     0     0     0     0     0     0     0   \n",
              " 558                4     0     0     0     0     0     0     0     0     0   \n",
              "\n",
              "Engine_power_2   90    95    100   102   105   109   110   115   116   117  \\\n",
              "horse_power_99                                                               \n",
              "-1                 6     2     5     3     5     2     5     3     6     1   \n",
              " 1                 0     0     0     0     0     0     0     0     0     0   \n",
              " 2                 0     0     0     0     0     0     0     0     0     0   \n",
              " 3                 0     0     0     0     0     0     0     0     0     0   \n",
              " 4                 0     0     0     0     0     0     0     0     0     0   \n",
              "...              ...   ...   ...   ...   ...   ...   ...   ...   ...   ...   \n",
              " 550               0     0     0     0     0     0     0     0     0     0   \n",
              " 551               0     0     0     0     0     0     0     0     0     0   \n",
              " 555               0     0     0     0     0     0     0     0     0     0   \n",
              " 557               0     0     0     0     0     0     0     0     0     0   \n",
              " 558               0     0     0     0     0     0     0     0     0     0   \n",
              "\n",
              "Engine_power_2   120   126   127   130   136   140   143   147   150   160  \\\n",
              "horse_power_99                                                               \n",
              "-1                 4     2     1     2     4     9     1     3     9     2   \n",
              " 1                 0     0     0     0     0     0     0     0     0     0   \n",
              " 2                 0     0     0     0     0     0     0     0     0     0   \n",
              " 3                 0     0     0     0     0     0     0     0     0     0   \n",
              " 4                 0     0     0     0     0     0     0     0     0     0   \n",
              "...              ...   ...   ...   ...   ...   ...   ...   ...   ...   ...   \n",
              " 550               0     0     0     0     0     0     0     0     0     0   \n",
              " 551               0     0     0     0     0     0     0     0     0     0   \n",
              " 555               0     0     0     0     0     0     0     0     0     0   \n",
              " 557               0     0     0     0     0     0     0     0     0     0   \n",
              " 558               0     0     0     0     0     0     0     0     0     0   \n",
              "\n",
              "Engine_power_2   161   163   170   173   177   180   184   188   190   192  \\\n",
              "horse_power_99                                                               \n",
              "-1                 1     3     2     1     3     3     1     1     5     2   \n",
              " 1                 0     0     0     0     0     0     0     0     0     0   \n",
              " 2                 0     0     0     0     0     0     0     0     0     0   \n",
              " 3                 0     0     0     0     0     0     0     0     0     0   \n",
              " 4                 0     0     0     0     0     0     0     0     0     0   \n",
              "...              ...   ...   ...   ...   ...   ...   ...   ...   ...   ...   \n",
              " 550               0     0     0     0     0     0     0     0     0     0   \n",
              " 551               0     0     0     0     0     0     0     0     0     0   \n",
              " 555               0     0     0     0     0     0     0     0     0     0   \n",
              " 557               0     0     0     0     0     0     0     0     0     0   \n",
              " 558               0     0     0     0     0     0     0     0     0     0   \n",
              "\n",
              "Engine_power_2   204   218   233   305   455  \n",
              "horse_power_99                                \n",
              "-1                 1     2     1     1     1  \n",
              " 1                 0     0     0     0     0  \n",
              " 2                 0     0     0     0     0  \n",
              " 3                 0     0     0     0     0  \n",
              " 4                 0     0     0     0     0  \n",
              "...              ...   ...   ...   ...   ...  \n",
              " 550               0     0     0     0     0  \n",
              " 551               0     0     0     0     0  \n",
              " 555               0     0     0     0     0  \n",
              " 557               0     0     0     0     0  \n",
              " 558               0     0     0     0     0  \n",
              "\n",
              "[474 rows x 45 columns]"
            ]
          },
          "execution_count": 82,
          "metadata": {},
          "output_type": "execute_result"
        }
      ]
    },
    {
      "cell_type": "code",
      "metadata": {
        "id": "Es1MW2GLAWQV"
      },
      "source": [
        "# Итак, можем произвести дополнение признака \"horse_power_99\" в тех случаях, когда данные по определенным строкам отсутствуют\n",
        "# (т.е. когда там находится \"-1\", которую мы ранее проставили вместо отсутствующих данных), \n",
        "# используя данные признака \"Engine_power_2\".\n",
        "# В итоге, в результате обогащения данными, получаем дополненный признак \"horse_power_99_ext\":\n",
        "\n",
        "df[\"horse_power_99_ext\"] = df.apply(lambda x: x[\"horse_power_99\"] if x[\"horse_power_99\"] != -1 else \\\n",
        "                                    int(x[\"Engine_power_2\"]), axis=1)"
      ],
      "id": "Es1MW2GLAWQV",
      "execution_count": null,
      "outputs": []
    },
    {
      "cell_type": "code",
      "metadata": {
        "id": "8CdWd0YOAWQV",
        "outputId": "6d32bac1-4145-4d4b-d013-e9ac518a3876"
      },
      "source": [
        "# Можем увидеть количество отсутствующих значений, заменённых на \"-1\", до дополнения призака \"horse_power_99\":\n",
        "\n",
        "df[ df[\"horse_power_99\"] == -1 ].shape"
      ],
      "id": "8CdWd0YOAWQV",
      "execution_count": null,
      "outputs": [
        {
          "data": {
            "text/plain": [
              "(14575, 185)"
            ]
          },
          "execution_count": 84,
          "metadata": {},
          "output_type": "execute_result"
        }
      ]
    },
    {
      "cell_type": "code",
      "metadata": {
        "id": "vxnEwEWQAWQW",
        "outputId": "60ca4a8b-693f-4e84-aa40-4fed92dfb1d7"
      },
      "source": [
        "# Можем увидеть количество отсутствующих значений, заменённых на \"-1\", после дополнения призака \"horse_power_99\":\n",
        "\n",
        "df[ df[\"horse_power_99_ext\"] == -1 ].shape "
      ],
      "id": "vxnEwEWQAWQW",
      "execution_count": null,
      "outputs": [
        {
          "data": {
            "text/plain": [
              "(14460, 185)"
            ]
          },
          "execution_count": 85,
          "metadata": {},
          "output_type": "execute_result"
        }
      ]
    },
    {
      "cell_type": "markdown",
      "metadata": {
        "id": "-eVmfXwRAWQW"
      },
      "source": [
        "! Как видим, количество пропусков уменьшилось, а значит, дополнение признака было целесообразным."
      ],
      "id": "-eVmfXwRAWQW"
    },
    {
      "cell_type": "markdown",
      "metadata": {
        "id": "iQMWozcUAWQX"
      },
      "source": [
        "---"
      ],
      "id": "iQMWozcUAWQX"
    },
    {
      "cell_type": "markdown",
      "metadata": {
        "id": "zzGxO7ZwAWQX"
      },
      "source": [
        "### Признаки \"mileage_new_99\" и \"Mileage\"\n",
        "### (дополнение значений признака \"mileage_new_99\" значениями признака \"Mileage\")"
      ],
      "id": "zzGxO7ZwAWQX"
    },
    {
      "cell_type": "markdown",
      "metadata": {
        "id": "SmSv8P21AWQX"
      },
      "source": [
        "Поскольку значения и того, и другого признака описывают одну и ту же сущность - пробег автомобиля в километрах, было принято решение о целесообразности объединения."
      ],
      "id": "SmSv8P21AWQX"
    },
    {
      "cell_type": "markdown",
      "metadata": {
        "id": "U_zcgoZfAWQY"
      },
      "source": [
        "!!! Однако по результатам последующей оценки прироста ошибки новый полученный признак (дополненный) впоследствии НЕ БЫЛ включён в модель, т.к. его включение приводило уже к увеличению значения ошибки."
      ],
      "id": "U_zcgoZfAWQY"
    },
    {
      "cell_type": "code",
      "metadata": {
        "id": "HgGP6LcKAWQY"
      },
      "source": [
        "# Прежде уделим внимание признаку \"Mileage\" и проведём необходимые преобразования\n",
        "# (признак \"mileage_new_99\" рассматривался выше):"
      ],
      "id": "HgGP6LcKAWQY",
      "execution_count": null,
      "outputs": []
    },
    {
      "cell_type": "code",
      "metadata": {
        "id": "qJ-kZl1_AWQZ",
        "outputId": "676a4519-e43c-4c95-db3b-ba2c4c675c11"
      },
      "source": [
        "df[\"Mileage\"]"
      ],
      "id": "qJ-kZl1_AWQZ",
      "execution_count": null,
      "outputs": [
        {
          "data": {
            "text/plain": [
              "0         -1\n",
              "1         -1\n",
              "2         -1\n",
              "3         -1\n",
              "4         -1\n",
              "          ..\n",
              "160245    -1\n",
              "160246    -1\n",
              "160247    -1\n",
              "160251    -1\n",
              "160254    -1\n",
              "Name: Mileage, Length: 160257, dtype: object"
            ]
          },
          "execution_count": 87,
          "metadata": {},
          "output_type": "execute_result"
        }
      ]
    },
    {
      "cell_type": "code",
      "metadata": {
        "id": "csMbHsxfAWQa",
        "outputId": "eafcabc2-f8cc-43fd-b926-d0fa71a90d12"
      },
      "source": [
        "# Поскольку при просмотре признака на предыдущем шаге не смогли получить первичного представления о том,\n",
        "# какими значениями представлен признак (много отсутствующих значений, заменённых ранее на \"-1\"),\n",
        "# попробуем взглянуть на него в другом разрезе - уникальных значений и их количества:\n",
        "\n",
        "df[\"Mileage\"].value_counts()"
      ],
      "id": "csMbHsxfAWQa",
      "execution_count": null,
      "outputs": [
        {
          "data": {
            "text/plain": [
              "-1            160130\n",
              "1 km               3\n",
              "207 000 km         3\n",
              "210 000 km         3\n",
              "189 000 km         2\n",
              "               ...  \n",
              "3 km               1\n",
              "28 422 km          1\n",
              "130 000 km         1\n",
              "242 000 km         1\n",
              "199 000 km         1\n",
              "Name: Mileage, Length: 116, dtype: int64"
            ]
          },
          "execution_count": 88,
          "metadata": {},
          "output_type": "execute_result"
        }
      ]
    },
    {
      "cell_type": "code",
      "metadata": {
        "id": "I3VVQTI2AWQa"
      },
      "source": [
        "# Преобразуем данные признака \"Mileage\" в целочисленный тип \n",
        "# и получаем новый признак \"Mileage_new_2\":\n",
        "\n",
        "df[\"Mileage_new_2\"] = df[\"Mileage\"].map(lambda x: str(x).split(\"km\")[0].replace(\" \", \"\")).astype(\"int\")"
      ],
      "id": "I3VVQTI2AWQa",
      "execution_count": null,
      "outputs": []
    },
    {
      "cell_type": "code",
      "metadata": {
        "id": "i802FGnvAWQb",
        "outputId": "c8a2f8e6-55ff-4a68-ff4d-b668997ed5b1"
      },
      "source": [
        "df[\"Mileage_new_2\"].value_counts() # видим результаты преобразования"
      ],
      "id": "i802FGnvAWQb",
      "execution_count": null,
      "outputs": [
        {
          "data": {
            "text/plain": [
              "-1         160130\n",
              " 207000         3\n",
              " 1              3\n",
              " 210000         3\n",
              " 177000         2\n",
              "            ...  \n",
              " 56902          1\n",
              " 20436          1\n",
              " 268000         1\n",
              " 100            1\n",
              " 184025         1\n",
              "Name: Mileage_new_2, Length: 116, dtype: int64"
            ]
          },
          "execution_count": 90,
          "metadata": {},
          "output_type": "execute_result"
        }
      ]
    },
    {
      "cell_type": "code",
      "metadata": {
        "id": "ampIKm3pAWQb",
        "outputId": "0dad777c-8fcc-4e9e-a635-8f038df0d7a9"
      },
      "source": [
        "# Посмотрим на распределение признака, используя визуализацию - гистограмму:\n",
        "\n",
        "df[\"Mileage_new_2\"].hist() # не отсекаем выбросы, т.к. 400 000 для \"mileage_new\" не выглядело как выбросы"
      ],
      "id": "ampIKm3pAWQb",
      "execution_count": null,
      "outputs": [
        {
          "data": {
            "text/plain": [
              "<AxesSubplot:>"
            ]
          },
          "execution_count": 91,
          "metadata": {},
          "output_type": "execute_result"
        },
        {
          "data": {
            "image/png": "[encoded data removed]",
            "text/plain": [
              "<Figure size 432x288 with 1 Axes>"
            ]
          },
          "metadata": {
            "needs_background": "light"
          },
          "output_type": "display_data"
        }
      ]
    },
    {
      "cell_type": "markdown",
      "metadata": {
        "id": "0xNHTM1vAWQc"
      },
      "source": [
        "! Было принято решение не \"отсекать\" выбросы, т.к. для признака \"mileage_new\", с которым предстоит объединение, значения в районе 400 000 не являются аномальными."
      ],
      "id": "0xNHTM1vAWQc"
    },
    {
      "cell_type": "code",
      "metadata": {
        "id": "HvpJLbiqAWQc",
        "outputId": "65b6b50a-5d3c-4f47-9ea5-ff0f14b1a262"
      },
      "source": [
        "# Посмотрим, как признак \"Mileage_new_2\" может дополнить признак \"mileage_new_99\" \n",
        "# (видим, что есть дополнения в случаях, когда значения у признака \"mileage_new_99\" равны \"-1\", т.е. отсутствуют):\n",
        "\n",
        "pd.crosstab(df.mileage_new_99, df.Mileage_new_2)"
      ],
      "id": "HvpJLbiqAWQc",
      "execution_count": null,
      "outputs": [
        {
          "data": {
            "text/html": [
              "<div>\n",
              "<style scoped>\n",
              "    .dataframe tbody tr th:only-of-type {\n",
              "        vertical-align: middle;\n",
              "    }\n",
              "\n",
              "    .dataframe tbody tr th {\n",
              "        vertical-align: top;\n",
              "    }\n",
              "\n",
              "    .dataframe thead th {\n",
              "        text-align: right;\n",
              "    }\n",
              "</style>\n",
              "<table border=\"1\" class=\"dataframe\">\n",
              "  <thead>\n",
              "    <tr style=\"text-align: right;\">\n",
              "      <th>Mileage_new_2</th>\n",
              "      <th>-1</th>\n",
              "      <th>1</th>\n",
              "      <th>2</th>\n",
              "      <th>3</th>\n",
              "      <th>5</th>\n",
              "      <th>9</th>\n",
              "      <th>10</th>\n",
              "      <th>100</th>\n",
              "      <th>3000</th>\n",
              "      <th>3200</th>\n",
              "      <th>4000</th>\n",
              "      <th>6202</th>\n",
              "      <th>8336</th>\n",
              "      <th>9500</th>\n",
              "      <th>10297</th>\n",
              "      <th>13000</th>\n",
              "      <th>16000</th>\n",
              "      <th>18000</th>\n",
              "      <th>20000</th>\n",
              "      <th>20436</th>\n",
              "      <th>22000</th>\n",
              "      <th>25000</th>\n",
              "      <th>26000</th>\n",
              "      <th>28422</th>\n",
              "      <th>30000</th>\n",
              "      <th>34400</th>\n",
              "      <th>45550</th>\n",
              "      <th>46569</th>\n",
              "      <th>48000</th>\n",
              "      <th>54000</th>\n",
              "      <th>56902</th>\n",
              "      <th>57000</th>\n",
              "      <th>64000</th>\n",
              "      <th>66398</th>\n",
              "      <th>71700</th>\n",
              "      <th>79000</th>\n",
              "      <th>82000</th>\n",
              "      <th>91500</th>\n",
              "      <th>95000</th>\n",
              "      <th>97300</th>\n",
              "      <th>98000</th>\n",
              "      <th>99000</th>\n",
              "      <th>107000</th>\n",
              "      <th>110000</th>\n",
              "      <th>112000</th>\n",
              "      <th>122300</th>\n",
              "      <th>123000</th>\n",
              "      <th>123900</th>\n",
              "      <th>130000</th>\n",
              "      <th>135233</th>\n",
              "      <th>135608</th>\n",
              "      <th>136000</th>\n",
              "      <th>136125</th>\n",
              "      <th>140000</th>\n",
              "      <th>144000</th>\n",
              "      <th>145000</th>\n",
              "      <th>149000</th>\n",
              "      <th>150000</th>\n",
              "      <th>151000</th>\n",
              "      <th>152887</th>\n",
              "      <th>159000</th>\n",
              "      <th>161214</th>\n",
              "      <th>164665</th>\n",
              "      <th>166900</th>\n",
              "      <th>168000</th>\n",
              "      <th>169000</th>\n",
              "      <th>170000</th>\n",
              "      <th>172000</th>\n",
              "      <th>175000</th>\n",
              "      <th>177000</th>\n",
              "      <th>178564</th>\n",
              "      <th>178900</th>\n",
              "      <th>181000</th>\n",
              "      <th>184025</th>\n",
              "      <th>185000</th>\n",
              "      <th>189000</th>\n",
              "      <th>191000</th>\n",
              "      <th>192800</th>\n",
              "      <th>194000</th>\n",
              "      <th>194100</th>\n",
              "      <th>195000</th>\n",
              "      <th>197000</th>\n",
              "      <th>199000</th>\n",
              "      <th>202558</th>\n",
              "      <th>202600</th>\n",
              "      <th>204557</th>\n",
              "      <th>206000</th>\n",
              "      <th>207000</th>\n",
              "      <th>210000</th>\n",
              "      <th>216749</th>\n",
              "      <th>217000</th>\n",
              "      <th>223000</th>\n",
              "      <th>225740</th>\n",
              "      <th>228000</th>\n",
              "      <th>230786</th>\n",
              "      <th>232159</th>\n",
              "      <th>233000</th>\n",
              "      <th>238000</th>\n",
              "      <th>241000</th>\n",
              "      <th>242000</th>\n",
              "      <th>242194</th>\n",
              "      <th>243000</th>\n",
              "      <th>245506</th>\n",
              "      <th>248428</th>\n",
              "      <th>258000</th>\n",
              "      <th>262000</th>\n",
              "      <th>268000</th>\n",
              "      <th>272000</th>\n",
              "      <th>281000</th>\n",
              "      <th>284532</th>\n",
              "      <th>310000</th>\n",
              "      <th>317000</th>\n",
              "      <th>372000</th>\n",
              "      <th>375000</th>\n",
              "      <th>381000</th>\n",
              "      <th>398000</th>\n",
              "    </tr>\n",
              "    <tr>\n",
              "      <th>mileage_new_99</th>\n",
              "      <th></th>\n",
              "      <th></th>\n",
              "      <th></th>\n",
              "      <th></th>\n",
              "      <th></th>\n",
              "      <th></th>\n",
              "      <th></th>\n",
              "      <th></th>\n",
              "      <th></th>\n",
              "      <th></th>\n",
              "      <th></th>\n",
              "      <th></th>\n",
              "      <th></th>\n",
              "      <th></th>\n",
              "      <th></th>\n",
              "      <th></th>\n",
              "      <th></th>\n",
              "      <th></th>\n",
              "      <th></th>\n",
              "      <th></th>\n",
              "      <th></th>\n",
              "      <th></th>\n",
              "      <th></th>\n",
              "      <th></th>\n",
              "      <th></th>\n",
              "      <th></th>\n",
              "      <th></th>\n",
              "      <th></th>\n",
              "      <th></th>\n",
              "      <th></th>\n",
              "      <th></th>\n",
              "      <th></th>\n",
              "      <th></th>\n",
              "      <th></th>\n",
              "      <th></th>\n",
              "      <th></th>\n",
              "      <th></th>\n",
              "      <th></th>\n",
              "      <th></th>\n",
              "      <th></th>\n",
              "      <th></th>\n",
              "      <th></th>\n",
              "      <th></th>\n",
              "      <th></th>\n",
              "      <th></th>\n",
              "      <th></th>\n",
              "      <th></th>\n",
              "      <th></th>\n",
              "      <th></th>\n",
              "      <th></th>\n",
              "      <th></th>\n",
              "      <th></th>\n",
              "      <th></th>\n",
              "      <th></th>\n",
              "      <th></th>\n",
              "      <th></th>\n",
              "      <th></th>\n",
              "      <th></th>\n",
              "      <th></th>\n",
              "      <th></th>\n",
              "      <th></th>\n",
              "      <th></th>\n",
              "      <th></th>\n",
              "      <th></th>\n",
              "      <th></th>\n",
              "      <th></th>\n",
              "      <th></th>\n",
              "      <th></th>\n",
              "      <th></th>\n",
              "      <th></th>\n",
              "      <th></th>\n",
              "      <th></th>\n",
              "      <th></th>\n",
              "      <th></th>\n",
              "      <th></th>\n",
              "      <th></th>\n",
              "      <th></th>\n",
              "      <th></th>\n",
              "      <th></th>\n",
              "      <th></th>\n",
              "      <th></th>\n",
              "      <th></th>\n",
              "      <th></th>\n",
              "      <th></th>\n",
              "      <th></th>\n",
              "      <th></th>\n",
              "      <th></th>\n",
              "      <th></th>\n",
              "      <th></th>\n",
              "      <th></th>\n",
              "      <th></th>\n",
              "      <th></th>\n",
              "      <th></th>\n",
              "      <th></th>\n",
              "      <th></th>\n",
              "      <th></th>\n",
              "      <th></th>\n",
              "      <th></th>\n",
              "      <th></th>\n",
              "      <th></th>\n",
              "      <th></th>\n",
              "      <th></th>\n",
              "      <th></th>\n",
              "      <th></th>\n",
              "      <th></th>\n",
              "      <th></th>\n",
              "      <th></th>\n",
              "      <th></th>\n",
              "      <th></th>\n",
              "      <th></th>\n",
              "      <th></th>\n",
              "      <th></th>\n",
              "      <th></th>\n",
              "      <th></th>\n",
              "      <th></th>\n",
              "      <th></th>\n",
              "    </tr>\n",
              "  </thead>\n",
              "  <tbody>\n",
              "    <tr>\n",
              "      <th>-1</th>\n",
              "      <td>897</td>\n",
              "      <td>3</td>\n",
              "      <td>1</td>\n",
              "      <td>1</td>\n",
              "      <td>1</td>\n",
              "      <td>1</td>\n",
              "      <td>2</td>\n",
              "      <td>1</td>\n",
              "      <td>1</td>\n",
              "      <td>1</td>\n",
              "      <td>1</td>\n",
              "      <td>1</td>\n",
              "      <td>1</td>\n",
              "      <td>1</td>\n",
              "      <td>1</td>\n",
              "      <td>1</td>\n",
              "      <td>1</td>\n",
              "      <td>1</td>\n",
              "      <td>1</td>\n",
              "      <td>1</td>\n",
              "      <td>1</td>\n",
              "      <td>1</td>\n",
              "      <td>1</td>\n",
              "      <td>1</td>\n",
              "      <td>1</td>\n",
              "      <td>1</td>\n",
              "      <td>1</td>\n",
              "      <td>1</td>\n",
              "      <td>1</td>\n",
              "      <td>1</td>\n",
              "      <td>1</td>\n",
              "      <td>1</td>\n",
              "      <td>1</td>\n",
              "      <td>1</td>\n",
              "      <td>1</td>\n",
              "      <td>1</td>\n",
              "      <td>1</td>\n",
              "      <td>2</td>\n",
              "      <td>1</td>\n",
              "      <td>1</td>\n",
              "      <td>1</td>\n",
              "      <td>1</td>\n",
              "      <td>1</td>\n",
              "      <td>1</td>\n",
              "      <td>1</td>\n",
              "      <td>1</td>\n",
              "      <td>1</td>\n",
              "      <td>1</td>\n",
              "      <td>1</td>\n",
              "      <td>1</td>\n",
              "      <td>1</td>\n",
              "      <td>1</td>\n",
              "      <td>1</td>\n",
              "      <td>2</td>\n",
              "      <td>1</td>\n",
              "      <td>1</td>\n",
              "      <td>1</td>\n",
              "      <td>1</td>\n",
              "      <td>1</td>\n",
              "      <td>1</td>\n",
              "      <td>1</td>\n",
              "      <td>1</td>\n",
              "      <td>1</td>\n",
              "      <td>1</td>\n",
              "      <td>1</td>\n",
              "      <td>1</td>\n",
              "      <td>1</td>\n",
              "      <td>1</td>\n",
              "      <td>1</td>\n",
              "      <td>2</td>\n",
              "      <td>1</td>\n",
              "      <td>1</td>\n",
              "      <td>1</td>\n",
              "      <td>1</td>\n",
              "      <td>1</td>\n",
              "      <td>2</td>\n",
              "      <td>1</td>\n",
              "      <td>1</td>\n",
              "      <td>1</td>\n",
              "      <td>1</td>\n",
              "      <td>1</td>\n",
              "      <td>1</td>\n",
              "      <td>1</td>\n",
              "      <td>1</td>\n",
              "      <td>1</td>\n",
              "      <td>1</td>\n",
              "      <td>1</td>\n",
              "      <td>3</td>\n",
              "      <td>3</td>\n",
              "      <td>1</td>\n",
              "      <td>1</td>\n",
              "      <td>1</td>\n",
              "      <td>1</td>\n",
              "      <td>1</td>\n",
              "      <td>1</td>\n",
              "      <td>1</td>\n",
              "      <td>1</td>\n",
              "      <td>2</td>\n",
              "      <td>1</td>\n",
              "      <td>1</td>\n",
              "      <td>1</td>\n",
              "      <td>1</td>\n",
              "      <td>1</td>\n",
              "      <td>1</td>\n",
              "      <td>1</td>\n",
              "      <td>1</td>\n",
              "      <td>1</td>\n",
              "      <td>1</td>\n",
              "      <td>1</td>\n",
              "      <td>1</td>\n",
              "      <td>1</td>\n",
              "      <td>1</td>\n",
              "      <td>1</td>\n",
              "      <td>1</td>\n",
              "      <td>1</td>\n",
              "      <td>1</td>\n",
              "    </tr>\n",
              "    <tr>\n",
              "      <th>0</th>\n",
              "      <td>1</td>\n",
              "      <td>0</td>\n",
              "      <td>0</td>\n",
              "      <td>0</td>\n",
              "      <td>0</td>\n",
              "      <td>0</td>\n",
              "      <td>0</td>\n",
              "      <td>0</td>\n",
              "      <td>0</td>\n",
              "      <td>0</td>\n",
              "      <td>0</td>\n",
              "      <td>0</td>\n",
              "      <td>0</td>\n",
              "      <td>0</td>\n",
              "      <td>0</td>\n",
              "      <td>0</td>\n",
              "      <td>0</td>\n",
              "      <td>0</td>\n",
              "      <td>0</td>\n",
              "      <td>0</td>\n",
              "      <td>0</td>\n",
              "      <td>0</td>\n",
              "      <td>0</td>\n",
              "      <td>0</td>\n",
              "      <td>0</td>\n",
              "      <td>0</td>\n",
              "      <td>0</td>\n",
              "      <td>0</td>\n",
              "      <td>0</td>\n",
              "      <td>0</td>\n",
              "      <td>0</td>\n",
              "      <td>0</td>\n",
              "      <td>0</td>\n",
              "      <td>0</td>\n",
              "      <td>0</td>\n",
              "      <td>0</td>\n",
              "      <td>0</td>\n",
              "      <td>0</td>\n",
              "      <td>0</td>\n",
              "      <td>0</td>\n",
              "      <td>0</td>\n",
              "      <td>0</td>\n",
              "      <td>0</td>\n",
              "      <td>0</td>\n",
              "      <td>0</td>\n",
              "      <td>0</td>\n",
              "      <td>0</td>\n",
              "      <td>0</td>\n",
              "      <td>0</td>\n",
              "      <td>0</td>\n",
              "      <td>0</td>\n",
              "      <td>0</td>\n",
              "      <td>0</td>\n",
              "      <td>0</td>\n",
              "      <td>0</td>\n",
              "      <td>0</td>\n",
              "      <td>0</td>\n",
              "      <td>0</td>\n",
              "      <td>0</td>\n",
              "      <td>0</td>\n",
              "      <td>0</td>\n",
              "      <td>0</td>\n",
              "      <td>0</td>\n",
              "      <td>0</td>\n",
              "      <td>0</td>\n",
              "      <td>0</td>\n",
              "      <td>0</td>\n",
              "      <td>0</td>\n",
              "      <td>0</td>\n",
              "      <td>0</td>\n",
              "      <td>0</td>\n",
              "      <td>0</td>\n",
              "      <td>0</td>\n",
              "      <td>0</td>\n",
              "      <td>0</td>\n",
              "      <td>0</td>\n",
              "      <td>0</td>\n",
              "      <td>0</td>\n",
              "      <td>0</td>\n",
              "      <td>0</td>\n",
              "      <td>0</td>\n",
              "      <td>0</td>\n",
              "      <td>0</td>\n",
              "      <td>0</td>\n",
              "      <td>0</td>\n",
              "      <td>0</td>\n",
              "      <td>0</td>\n",
              "      <td>0</td>\n",
              "      <td>0</td>\n",
              "      <td>0</td>\n",
              "      <td>0</td>\n",
              "      <td>0</td>\n",
              "      <td>0</td>\n",
              "      <td>0</td>\n",
              "      <td>0</td>\n",
              "      <td>0</td>\n",
              "      <td>0</td>\n",
              "      <td>0</td>\n",
              "      <td>0</td>\n",
              "      <td>0</td>\n",
              "      <td>0</td>\n",
              "      <td>0</td>\n",
              "      <td>0</td>\n",
              "      <td>0</td>\n",
              "      <td>0</td>\n",
              "      <td>0</td>\n",
              "      <td>0</td>\n",
              "      <td>0</td>\n",
              "      <td>0</td>\n",
              "      <td>0</td>\n",
              "      <td>0</td>\n",
              "      <td>0</td>\n",
              "      <td>0</td>\n",
              "      <td>0</td>\n",
              "      <td>0</td>\n",
              "      <td>0</td>\n",
              "    </tr>\n",
              "    <tr>\n",
              "      <th>1</th>\n",
              "      <td>6132</td>\n",
              "      <td>0</td>\n",
              "      <td>0</td>\n",
              "      <td>0</td>\n",
              "      <td>0</td>\n",
              "      <td>0</td>\n",
              "      <td>0</td>\n",
              "      <td>0</td>\n",
              "      <td>0</td>\n",
              "      <td>0</td>\n",
              "      <td>0</td>\n",
              "      <td>0</td>\n",
              "      <td>0</td>\n",
              "      <td>0</td>\n",
              "      <td>0</td>\n",
              "      <td>0</td>\n",
              "      <td>0</td>\n",
              "      <td>0</td>\n",
              "      <td>0</td>\n",
              "      <td>0</td>\n",
              "      <td>0</td>\n",
              "      <td>0</td>\n",
              "      <td>0</td>\n",
              "      <td>0</td>\n",
              "      <td>0</td>\n",
              "      <td>0</td>\n",
              "      <td>0</td>\n",
              "      <td>0</td>\n",
              "      <td>0</td>\n",
              "      <td>0</td>\n",
              "      <td>0</td>\n",
              "      <td>0</td>\n",
              "      <td>0</td>\n",
              "      <td>0</td>\n",
              "      <td>0</td>\n",
              "      <td>0</td>\n",
              "      <td>0</td>\n",
              "      <td>0</td>\n",
              "      <td>0</td>\n",
              "      <td>0</td>\n",
              "      <td>0</td>\n",
              "      <td>0</td>\n",
              "      <td>0</td>\n",
              "      <td>0</td>\n",
              "      <td>0</td>\n",
              "      <td>0</td>\n",
              "      <td>0</td>\n",
              "      <td>0</td>\n",
              "      <td>0</td>\n",
              "      <td>0</td>\n",
              "      <td>0</td>\n",
              "      <td>0</td>\n",
              "      <td>0</td>\n",
              "      <td>0</td>\n",
              "      <td>0</td>\n",
              "      <td>0</td>\n",
              "      <td>0</td>\n",
              "      <td>0</td>\n",
              "      <td>0</td>\n",
              "      <td>0</td>\n",
              "      <td>0</td>\n",
              "      <td>0</td>\n",
              "      <td>0</td>\n",
              "      <td>0</td>\n",
              "      <td>0</td>\n",
              "      <td>0</td>\n",
              "      <td>0</td>\n",
              "      <td>0</td>\n",
              "      <td>0</td>\n",
              "      <td>0</td>\n",
              "      <td>0</td>\n",
              "      <td>0</td>\n",
              "      <td>0</td>\n",
              "      <td>0</td>\n",
              "      <td>0</td>\n",
              "      <td>0</td>\n",
              "      <td>0</td>\n",
              "      <td>0</td>\n",
              "      <td>0</td>\n",
              "      <td>0</td>\n",
              "      <td>0</td>\n",
              "      <td>0</td>\n",
              "      <td>0</td>\n",
              "      <td>0</td>\n",
              "      <td>0</td>\n",
              "      <td>0</td>\n",
              "      <td>0</td>\n",
              "      <td>0</td>\n",
              "      <td>0</td>\n",
              "      <td>0</td>\n",
              "      <td>0</td>\n",
              "      <td>0</td>\n",
              "      <td>0</td>\n",
              "      <td>0</td>\n",
              "      <td>0</td>\n",
              "      <td>0</td>\n",
              "      <td>0</td>\n",
              "      <td>0</td>\n",
              "      <td>0</td>\n",
              "      <td>0</td>\n",
              "      <td>0</td>\n",
              "      <td>0</td>\n",
              "      <td>0</td>\n",
              "      <td>0</td>\n",
              "      <td>0</td>\n",
              "      <td>0</td>\n",
              "      <td>0</td>\n",
              "      <td>0</td>\n",
              "      <td>0</td>\n",
              "      <td>0</td>\n",
              "      <td>0</td>\n",
              "      <td>0</td>\n",
              "      <td>0</td>\n",
              "      <td>0</td>\n",
              "      <td>0</td>\n",
              "      <td>0</td>\n",
              "    </tr>\n",
              "    <tr>\n",
              "      <th>2</th>\n",
              "      <td>669</td>\n",
              "      <td>0</td>\n",
              "      <td>0</td>\n",
              "      <td>0</td>\n",
              "      <td>0</td>\n",
              "      <td>0</td>\n",
              "      <td>0</td>\n",
              "      <td>0</td>\n",
              "      <td>0</td>\n",
              "      <td>0</td>\n",
              "      <td>0</td>\n",
              "      <td>0</td>\n",
              "      <td>0</td>\n",
              "      <td>0</td>\n",
              "      <td>0</td>\n",
              "      <td>0</td>\n",
              "      <td>0</td>\n",
              "      <td>0</td>\n",
              "      <td>0</td>\n",
              "      <td>0</td>\n",
              "      <td>0</td>\n",
              "      <td>0</td>\n",
              "      <td>0</td>\n",
              "      <td>0</td>\n",
              "      <td>0</td>\n",
              "      <td>0</td>\n",
              "      <td>0</td>\n",
              "      <td>0</td>\n",
              "      <td>0</td>\n",
              "      <td>0</td>\n",
              "      <td>0</td>\n",
              "      <td>0</td>\n",
              "      <td>0</td>\n",
              "      <td>0</td>\n",
              "      <td>0</td>\n",
              "      <td>0</td>\n",
              "      <td>0</td>\n",
              "      <td>0</td>\n",
              "      <td>0</td>\n",
              "      <td>0</td>\n",
              "      <td>0</td>\n",
              "      <td>0</td>\n",
              "      <td>0</td>\n",
              "      <td>0</td>\n",
              "      <td>0</td>\n",
              "      <td>0</td>\n",
              "      <td>0</td>\n",
              "      <td>0</td>\n",
              "      <td>0</td>\n",
              "      <td>0</td>\n",
              "      <td>0</td>\n",
              "      <td>0</td>\n",
              "      <td>0</td>\n",
              "      <td>0</td>\n",
              "      <td>0</td>\n",
              "      <td>0</td>\n",
              "      <td>0</td>\n",
              "      <td>0</td>\n",
              "      <td>0</td>\n",
              "      <td>0</td>\n",
              "      <td>0</td>\n",
              "      <td>0</td>\n",
              "      <td>0</td>\n",
              "      <td>0</td>\n",
              "      <td>0</td>\n",
              "      <td>0</td>\n",
              "      <td>0</td>\n",
              "      <td>0</td>\n",
              "      <td>0</td>\n",
              "      <td>0</td>\n",
              "      <td>0</td>\n",
              "      <td>0</td>\n",
              "      <td>0</td>\n",
              "      <td>0</td>\n",
              "      <td>0</td>\n",
              "      <td>0</td>\n",
              "      <td>0</td>\n",
              "      <td>0</td>\n",
              "      <td>0</td>\n",
              "      <td>0</td>\n",
              "      <td>0</td>\n",
              "      <td>0</td>\n",
              "      <td>0</td>\n",
              "      <td>0</td>\n",
              "      <td>0</td>\n",
              "      <td>0</td>\n",
              "      <td>0</td>\n",
              "      <td>0</td>\n",
              "      <td>0</td>\n",
              "      <td>0</td>\n",
              "      <td>0</td>\n",
              "      <td>0</td>\n",
              "      <td>0</td>\n",
              "      <td>0</td>\n",
              "      <td>0</td>\n",
              "      <td>0</td>\n",
              "      <td>0</td>\n",
              "      <td>0</td>\n",
              "      <td>0</td>\n",
              "      <td>0</td>\n",
              "      <td>0</td>\n",
              "      <td>0</td>\n",
              "      <td>0</td>\n",
              "      <td>0</td>\n",
              "      <td>0</td>\n",
              "      <td>0</td>\n",
              "      <td>0</td>\n",
              "      <td>0</td>\n",
              "      <td>0</td>\n",
              "      <td>0</td>\n",
              "      <td>0</td>\n",
              "      <td>0</td>\n",
              "      <td>0</td>\n",
              "      <td>0</td>\n",
              "      <td>0</td>\n",
              "      <td>0</td>\n",
              "    </tr>\n",
              "    <tr>\n",
              "      <th>3</th>\n",
              "      <td>281</td>\n",
              "      <td>0</td>\n",
              "      <td>0</td>\n",
              "      <td>0</td>\n",
              "      <td>0</td>\n",
              "      <td>0</td>\n",
              "      <td>0</td>\n",
              "      <td>0</td>\n",
              "      <td>0</td>\n",
              "      <td>0</td>\n",
              "      <td>0</td>\n",
              "      <td>0</td>\n",
              "      <td>0</td>\n",
              "      <td>0</td>\n",
              "      <td>0</td>\n",
              "      <td>0</td>\n",
              "      <td>0</td>\n",
              "      <td>0</td>\n",
              "      <td>0</td>\n",
              "      <td>0</td>\n",
              "      <td>0</td>\n",
              "      <td>0</td>\n",
              "      <td>0</td>\n",
              "      <td>0</td>\n",
              "      <td>0</td>\n",
              "      <td>0</td>\n",
              "      <td>0</td>\n",
              "      <td>0</td>\n",
              "      <td>0</td>\n",
              "      <td>0</td>\n",
              "      <td>0</td>\n",
              "      <td>0</td>\n",
              "      <td>0</td>\n",
              "      <td>0</td>\n",
              "      <td>0</td>\n",
              "      <td>0</td>\n",
              "      <td>0</td>\n",
              "      <td>0</td>\n",
              "      <td>0</td>\n",
              "      <td>0</td>\n",
              "      <td>0</td>\n",
              "      <td>0</td>\n",
              "      <td>0</td>\n",
              "      <td>0</td>\n",
              "      <td>0</td>\n",
              "      <td>0</td>\n",
              "      <td>0</td>\n",
              "      <td>0</td>\n",
              "      <td>0</td>\n",
              "      <td>0</td>\n",
              "      <td>0</td>\n",
              "      <td>0</td>\n",
              "      <td>0</td>\n",
              "      <td>0</td>\n",
              "      <td>0</td>\n",
              "      <td>0</td>\n",
              "      <td>0</td>\n",
              "      <td>0</td>\n",
              "      <td>0</td>\n",
              "      <td>0</td>\n",
              "      <td>0</td>\n",
              "      <td>0</td>\n",
              "      <td>0</td>\n",
              "      <td>0</td>\n",
              "      <td>0</td>\n",
              "      <td>0</td>\n",
              "      <td>0</td>\n",
              "      <td>0</td>\n",
              "      <td>0</td>\n",
              "      <td>0</td>\n",
              "      <td>0</td>\n",
              "      <td>0</td>\n",
              "      <td>0</td>\n",
              "      <td>0</td>\n",
              "      <td>0</td>\n",
              "      <td>0</td>\n",
              "      <td>0</td>\n",
              "      <td>0</td>\n",
              "      <td>0</td>\n",
              "      <td>0</td>\n",
              "      <td>0</td>\n",
              "      <td>0</td>\n",
              "      <td>0</td>\n",
              "      <td>0</td>\n",
              "      <td>0</td>\n",
              "      <td>0</td>\n",
              "      <td>0</td>\n",
              "      <td>0</td>\n",
              "      <td>0</td>\n",
              "      <td>0</td>\n",
              "      <td>0</td>\n",
              "      <td>0</td>\n",
              "      <td>0</td>\n",
              "      <td>0</td>\n",
              "      <td>0</td>\n",
              "      <td>0</td>\n",
              "      <td>0</td>\n",
              "      <td>0</td>\n",
              "      <td>0</td>\n",
              "      <td>0</td>\n",
              "      <td>0</td>\n",
              "      <td>0</td>\n",
              "      <td>0</td>\n",
              "      <td>0</td>\n",
              "      <td>0</td>\n",
              "      <td>0</td>\n",
              "      <td>0</td>\n",
              "      <td>0</td>\n",
              "      <td>0</td>\n",
              "      <td>0</td>\n",
              "      <td>0</td>\n",
              "      <td>0</td>\n",
              "      <td>0</td>\n",
              "      <td>0</td>\n",
              "      <td>0</td>\n",
              "      <td>0</td>\n",
              "    </tr>\n",
              "    <tr>\n",
              "      <th>...</th>\n",
              "      <td>...</td>\n",
              "      <td>...</td>\n",
              "      <td>...</td>\n",
              "      <td>...</td>\n",
              "      <td>...</td>\n",
              "      <td>...</td>\n",
              "      <td>...</td>\n",
              "      <td>...</td>\n",
              "      <td>...</td>\n",
              "      <td>...</td>\n",
              "      <td>...</td>\n",
              "      <td>...</td>\n",
              "      <td>...</td>\n",
              "      <td>...</td>\n",
              "      <td>...</td>\n",
              "      <td>...</td>\n",
              "      <td>...</td>\n",
              "      <td>...</td>\n",
              "      <td>...</td>\n",
              "      <td>...</td>\n",
              "      <td>...</td>\n",
              "      <td>...</td>\n",
              "      <td>...</td>\n",
              "      <td>...</td>\n",
              "      <td>...</td>\n",
              "      <td>...</td>\n",
              "      <td>...</td>\n",
              "      <td>...</td>\n",
              "      <td>...</td>\n",
              "      <td>...</td>\n",
              "      <td>...</td>\n",
              "      <td>...</td>\n",
              "      <td>...</td>\n",
              "      <td>...</td>\n",
              "      <td>...</td>\n",
              "      <td>...</td>\n",
              "      <td>...</td>\n",
              "      <td>...</td>\n",
              "      <td>...</td>\n",
              "      <td>...</td>\n",
              "      <td>...</td>\n",
              "      <td>...</td>\n",
              "      <td>...</td>\n",
              "      <td>...</td>\n",
              "      <td>...</td>\n",
              "      <td>...</td>\n",
              "      <td>...</td>\n",
              "      <td>...</td>\n",
              "      <td>...</td>\n",
              "      <td>...</td>\n",
              "      <td>...</td>\n",
              "      <td>...</td>\n",
              "      <td>...</td>\n",
              "      <td>...</td>\n",
              "      <td>...</td>\n",
              "      <td>...</td>\n",
              "      <td>...</td>\n",
              "      <td>...</td>\n",
              "      <td>...</td>\n",
              "      <td>...</td>\n",
              "      <td>...</td>\n",
              "      <td>...</td>\n",
              "      <td>...</td>\n",
              "      <td>...</td>\n",
              "      <td>...</td>\n",
              "      <td>...</td>\n",
              "      <td>...</td>\n",
              "      <td>...</td>\n",
              "      <td>...</td>\n",
              "      <td>...</td>\n",
              "      <td>...</td>\n",
              "      <td>...</td>\n",
              "      <td>...</td>\n",
              "      <td>...</td>\n",
              "      <td>...</td>\n",
              "      <td>...</td>\n",
              "      <td>...</td>\n",
              "      <td>...</td>\n",
              "      <td>...</td>\n",
              "      <td>...</td>\n",
              "      <td>...</td>\n",
              "      <td>...</td>\n",
              "      <td>...</td>\n",
              "      <td>...</td>\n",
              "      <td>...</td>\n",
              "      <td>...</td>\n",
              "      <td>...</td>\n",
              "      <td>...</td>\n",
              "      <td>...</td>\n",
              "      <td>...</td>\n",
              "      <td>...</td>\n",
              "      <td>...</td>\n",
              "      <td>...</td>\n",
              "      <td>...</td>\n",
              "      <td>...</td>\n",
              "      <td>...</td>\n",
              "      <td>...</td>\n",
              "      <td>...</td>\n",
              "      <td>...</td>\n",
              "      <td>...</td>\n",
              "      <td>...</td>\n",
              "      <td>...</td>\n",
              "      <td>...</td>\n",
              "      <td>...</td>\n",
              "      <td>...</td>\n",
              "      <td>...</td>\n",
              "      <td>...</td>\n",
              "      <td>...</td>\n",
              "      <td>...</td>\n",
              "      <td>...</td>\n",
              "      <td>...</td>\n",
              "      <td>...</td>\n",
              "      <td>...</td>\n",
              "      <td>...</td>\n",
              "      <td>...</td>\n",
              "      <td>...</td>\n",
              "    </tr>\n",
              "    <tr>\n",
              "      <th>417000</th>\n",
              "      <td>8</td>\n",
              "      <td>0</td>\n",
              "      <td>0</td>\n",
              "      <td>0</td>\n",
              "      <td>0</td>\n",
              "      <td>0</td>\n",
              "      <td>0</td>\n",
              "      <td>0</td>\n",
              "      <td>0</td>\n",
              "      <td>0</td>\n",
              "      <td>0</td>\n",
              "      <td>0</td>\n",
              "      <td>0</td>\n",
              "      <td>0</td>\n",
              "      <td>0</td>\n",
              "      <td>0</td>\n",
              "      <td>0</td>\n",
              "      <td>0</td>\n",
              "      <td>0</td>\n",
              "      <td>0</td>\n",
              "      <td>0</td>\n",
              "      <td>0</td>\n",
              "      <td>0</td>\n",
              "      <td>0</td>\n",
              "      <td>0</td>\n",
              "      <td>0</td>\n",
              "      <td>0</td>\n",
              "      <td>0</td>\n",
              "      <td>0</td>\n",
              "      <td>0</td>\n",
              "      <td>0</td>\n",
              "      <td>0</td>\n",
              "      <td>0</td>\n",
              "      <td>0</td>\n",
              "      <td>0</td>\n",
              "      <td>0</td>\n",
              "      <td>0</td>\n",
              "      <td>0</td>\n",
              "      <td>0</td>\n",
              "      <td>0</td>\n",
              "      <td>0</td>\n",
              "      <td>0</td>\n",
              "      <td>0</td>\n",
              "      <td>0</td>\n",
              "      <td>0</td>\n",
              "      <td>0</td>\n",
              "      <td>0</td>\n",
              "      <td>0</td>\n",
              "      <td>0</td>\n",
              "      <td>0</td>\n",
              "      <td>0</td>\n",
              "      <td>0</td>\n",
              "      <td>0</td>\n",
              "      <td>0</td>\n",
              "      <td>0</td>\n",
              "      <td>0</td>\n",
              "      <td>0</td>\n",
              "      <td>0</td>\n",
              "      <td>0</td>\n",
              "      <td>0</td>\n",
              "      <td>0</td>\n",
              "      <td>0</td>\n",
              "      <td>0</td>\n",
              "      <td>0</td>\n",
              "      <td>0</td>\n",
              "      <td>0</td>\n",
              "      <td>0</td>\n",
              "      <td>0</td>\n",
              "      <td>0</td>\n",
              "      <td>0</td>\n",
              "      <td>0</td>\n",
              "      <td>0</td>\n",
              "      <td>0</td>\n",
              "      <td>0</td>\n",
              "      <td>0</td>\n",
              "      <td>0</td>\n",
              "      <td>0</td>\n",
              "      <td>0</td>\n",
              "      <td>0</td>\n",
              "      <td>0</td>\n",
              "      <td>0</td>\n",
              "      <td>0</td>\n",
              "      <td>0</td>\n",
              "      <td>0</td>\n",
              "      <td>0</td>\n",
              "      <td>0</td>\n",
              "      <td>0</td>\n",
              "      <td>0</td>\n",
              "      <td>0</td>\n",
              "      <td>0</td>\n",
              "      <td>0</td>\n",
              "      <td>0</td>\n",
              "      <td>0</td>\n",
              "      <td>0</td>\n",
              "      <td>0</td>\n",
              "      <td>0</td>\n",
              "      <td>0</td>\n",
              "      <td>0</td>\n",
              "      <td>0</td>\n",
              "      <td>0</td>\n",
              "      <td>0</td>\n",
              "      <td>0</td>\n",
              "      <td>0</td>\n",
              "      <td>0</td>\n",
              "      <td>0</td>\n",
              "      <td>0</td>\n",
              "      <td>0</td>\n",
              "      <td>0</td>\n",
              "      <td>0</td>\n",
              "      <td>0</td>\n",
              "      <td>0</td>\n",
              "      <td>0</td>\n",
              "      <td>0</td>\n",
              "      <td>0</td>\n",
              "      <td>0</td>\n",
              "      <td>0</td>\n",
              "    </tr>\n",
              "    <tr>\n",
              "      <th>417006</th>\n",
              "      <td>1</td>\n",
              "      <td>0</td>\n",
              "      <td>0</td>\n",
              "      <td>0</td>\n",
              "      <td>0</td>\n",
              "      <td>0</td>\n",
              "      <td>0</td>\n",
              "      <td>0</td>\n",
              "      <td>0</td>\n",
              "      <td>0</td>\n",
              "      <td>0</td>\n",
              "      <td>0</td>\n",
              "      <td>0</td>\n",
              "      <td>0</td>\n",
              "      <td>0</td>\n",
              "      <td>0</td>\n",
              "      <td>0</td>\n",
              "      <td>0</td>\n",
              "      <td>0</td>\n",
              "      <td>0</td>\n",
              "      <td>0</td>\n",
              "      <td>0</td>\n",
              "      <td>0</td>\n",
              "      <td>0</td>\n",
              "      <td>0</td>\n",
              "      <td>0</td>\n",
              "      <td>0</td>\n",
              "      <td>0</td>\n",
              "      <td>0</td>\n",
              "      <td>0</td>\n",
              "      <td>0</td>\n",
              "      <td>0</td>\n",
              "      <td>0</td>\n",
              "      <td>0</td>\n",
              "      <td>0</td>\n",
              "      <td>0</td>\n",
              "      <td>0</td>\n",
              "      <td>0</td>\n",
              "      <td>0</td>\n",
              "      <td>0</td>\n",
              "      <td>0</td>\n",
              "      <td>0</td>\n",
              "      <td>0</td>\n",
              "      <td>0</td>\n",
              "      <td>0</td>\n",
              "      <td>0</td>\n",
              "      <td>0</td>\n",
              "      <td>0</td>\n",
              "      <td>0</td>\n",
              "      <td>0</td>\n",
              "      <td>0</td>\n",
              "      <td>0</td>\n",
              "      <td>0</td>\n",
              "      <td>0</td>\n",
              "      <td>0</td>\n",
              "      <td>0</td>\n",
              "      <td>0</td>\n",
              "      <td>0</td>\n",
              "      <td>0</td>\n",
              "      <td>0</td>\n",
              "      <td>0</td>\n",
              "      <td>0</td>\n",
              "      <td>0</td>\n",
              "      <td>0</td>\n",
              "      <td>0</td>\n",
              "      <td>0</td>\n",
              "      <td>0</td>\n",
              "      <td>0</td>\n",
              "      <td>0</td>\n",
              "      <td>0</td>\n",
              "      <td>0</td>\n",
              "      <td>0</td>\n",
              "      <td>0</td>\n",
              "      <td>0</td>\n",
              "      <td>0</td>\n",
              "      <td>0</td>\n",
              "      <td>0</td>\n",
              "      <td>0</td>\n",
              "      <td>0</td>\n",
              "      <td>0</td>\n",
              "      <td>0</td>\n",
              "      <td>0</td>\n",
              "      <td>0</td>\n",
              "      <td>0</td>\n",
              "      <td>0</td>\n",
              "      <td>0</td>\n",
              "      <td>0</td>\n",
              "      <td>0</td>\n",
              "      <td>0</td>\n",
              "      <td>0</td>\n",
              "      <td>0</td>\n",
              "      <td>0</td>\n",
              "      <td>0</td>\n",
              "      <td>0</td>\n",
              "      <td>0</td>\n",
              "      <td>0</td>\n",
              "      <td>0</td>\n",
              "      <td>0</td>\n",
              "      <td>0</td>\n",
              "      <td>0</td>\n",
              "      <td>0</td>\n",
              "      <td>0</td>\n",
              "      <td>0</td>\n",
              "      <td>0</td>\n",
              "      <td>0</td>\n",
              "      <td>0</td>\n",
              "      <td>0</td>\n",
              "      <td>0</td>\n",
              "      <td>0</td>\n",
              "      <td>0</td>\n",
              "      <td>0</td>\n",
              "      <td>0</td>\n",
              "      <td>0</td>\n",
              "      <td>0</td>\n",
              "      <td>0</td>\n",
              "      <td>0</td>\n",
              "    </tr>\n",
              "    <tr>\n",
              "      <th>417100</th>\n",
              "      <td>1</td>\n",
              "      <td>0</td>\n",
              "      <td>0</td>\n",
              "      <td>0</td>\n",
              "      <td>0</td>\n",
              "      <td>0</td>\n",
              "      <td>0</td>\n",
              "      <td>0</td>\n",
              "      <td>0</td>\n",
              "      <td>0</td>\n",
              "      <td>0</td>\n",
              "      <td>0</td>\n",
              "      <td>0</td>\n",
              "      <td>0</td>\n",
              "      <td>0</td>\n",
              "      <td>0</td>\n",
              "      <td>0</td>\n",
              "      <td>0</td>\n",
              "      <td>0</td>\n",
              "      <td>0</td>\n",
              "      <td>0</td>\n",
              "      <td>0</td>\n",
              "      <td>0</td>\n",
              "      <td>0</td>\n",
              "      <td>0</td>\n",
              "      <td>0</td>\n",
              "      <td>0</td>\n",
              "      <td>0</td>\n",
              "      <td>0</td>\n",
              "      <td>0</td>\n",
              "      <td>0</td>\n",
              "      <td>0</td>\n",
              "      <td>0</td>\n",
              "      <td>0</td>\n",
              "      <td>0</td>\n",
              "      <td>0</td>\n",
              "      <td>0</td>\n",
              "      <td>0</td>\n",
              "      <td>0</td>\n",
              "      <td>0</td>\n",
              "      <td>0</td>\n",
              "      <td>0</td>\n",
              "      <td>0</td>\n",
              "      <td>0</td>\n",
              "      <td>0</td>\n",
              "      <td>0</td>\n",
              "      <td>0</td>\n",
              "      <td>0</td>\n",
              "      <td>0</td>\n",
              "      <td>0</td>\n",
              "      <td>0</td>\n",
              "      <td>0</td>\n",
              "      <td>0</td>\n",
              "      <td>0</td>\n",
              "      <td>0</td>\n",
              "      <td>0</td>\n",
              "      <td>0</td>\n",
              "      <td>0</td>\n",
              "      <td>0</td>\n",
              "      <td>0</td>\n",
              "      <td>0</td>\n",
              "      <td>0</td>\n",
              "      <td>0</td>\n",
              "      <td>0</td>\n",
              "      <td>0</td>\n",
              "      <td>0</td>\n",
              "      <td>0</td>\n",
              "      <td>0</td>\n",
              "      <td>0</td>\n",
              "      <td>0</td>\n",
              "      <td>0</td>\n",
              "      <td>0</td>\n",
              "      <td>0</td>\n",
              "      <td>0</td>\n",
              "      <td>0</td>\n",
              "      <td>0</td>\n",
              "      <td>0</td>\n",
              "      <td>0</td>\n",
              "      <td>0</td>\n",
              "      <td>0</td>\n",
              "      <td>0</td>\n",
              "      <td>0</td>\n",
              "      <td>0</td>\n",
              "      <td>0</td>\n",
              "      <td>0</td>\n",
              "      <td>0</td>\n",
              "      <td>0</td>\n",
              "      <td>0</td>\n",
              "      <td>0</td>\n",
              "      <td>0</td>\n",
              "      <td>0</td>\n",
              "      <td>0</td>\n",
              "      <td>0</td>\n",
              "      <td>0</td>\n",
              "      <td>0</td>\n",
              "      <td>0</td>\n",
              "      <td>0</td>\n",
              "      <td>0</td>\n",
              "      <td>0</td>\n",
              "      <td>0</td>\n",
              "      <td>0</td>\n",
              "      <td>0</td>\n",
              "      <td>0</td>\n",
              "      <td>0</td>\n",
              "      <td>0</td>\n",
              "      <td>0</td>\n",
              "      <td>0</td>\n",
              "      <td>0</td>\n",
              "      <td>0</td>\n",
              "      <td>0</td>\n",
              "      <td>0</td>\n",
              "      <td>0</td>\n",
              "      <td>0</td>\n",
              "      <td>0</td>\n",
              "      <td>0</td>\n",
              "      <td>0</td>\n",
              "    </tr>\n",
              "    <tr>\n",
              "      <th>418000</th>\n",
              "      <td>7</td>\n",
              "      <td>0</td>\n",
              "      <td>0</td>\n",
              "      <td>0</td>\n",
              "      <td>0</td>\n",
              "      <td>0</td>\n",
              "      <td>0</td>\n",
              "      <td>0</td>\n",
              "      <td>0</td>\n",
              "      <td>0</td>\n",
              "      <td>0</td>\n",
              "      <td>0</td>\n",
              "      <td>0</td>\n",
              "      <td>0</td>\n",
              "      <td>0</td>\n",
              "      <td>0</td>\n",
              "      <td>0</td>\n",
              "      <td>0</td>\n",
              "      <td>0</td>\n",
              "      <td>0</td>\n",
              "      <td>0</td>\n",
              "      <td>0</td>\n",
              "      <td>0</td>\n",
              "      <td>0</td>\n",
              "      <td>0</td>\n",
              "      <td>0</td>\n",
              "      <td>0</td>\n",
              "      <td>0</td>\n",
              "      <td>0</td>\n",
              "      <td>0</td>\n",
              "      <td>0</td>\n",
              "      <td>0</td>\n",
              "      <td>0</td>\n",
              "      <td>0</td>\n",
              "      <td>0</td>\n",
              "      <td>0</td>\n",
              "      <td>0</td>\n",
              "      <td>0</td>\n",
              "      <td>0</td>\n",
              "      <td>0</td>\n",
              "      <td>0</td>\n",
              "      <td>0</td>\n",
              "      <td>0</td>\n",
              "      <td>0</td>\n",
              "      <td>0</td>\n",
              "      <td>0</td>\n",
              "      <td>0</td>\n",
              "      <td>0</td>\n",
              "      <td>0</td>\n",
              "      <td>0</td>\n",
              "      <td>0</td>\n",
              "      <td>0</td>\n",
              "      <td>0</td>\n",
              "      <td>0</td>\n",
              "      <td>0</td>\n",
              "      <td>0</td>\n",
              "      <td>0</td>\n",
              "      <td>0</td>\n",
              "      <td>0</td>\n",
              "      <td>0</td>\n",
              "      <td>0</td>\n",
              "      <td>0</td>\n",
              "      <td>0</td>\n",
              "      <td>0</td>\n",
              "      <td>0</td>\n",
              "      <td>0</td>\n",
              "      <td>0</td>\n",
              "      <td>0</td>\n",
              "      <td>0</td>\n",
              "      <td>0</td>\n",
              "      <td>0</td>\n",
              "      <td>0</td>\n",
              "      <td>0</td>\n",
              "      <td>0</td>\n",
              "      <td>0</td>\n",
              "      <td>0</td>\n",
              "      <td>0</td>\n",
              "      <td>0</td>\n",
              "      <td>0</td>\n",
              "      <td>0</td>\n",
              "      <td>0</td>\n",
              "      <td>0</td>\n",
              "      <td>0</td>\n",
              "      <td>0</td>\n",
              "      <td>0</td>\n",
              "      <td>0</td>\n",
              "      <td>0</td>\n",
              "      <td>0</td>\n",
              "      <td>0</td>\n",
              "      <td>0</td>\n",
              "      <td>0</td>\n",
              "      <td>0</td>\n",
              "      <td>0</td>\n",
              "      <td>0</td>\n",
              "      <td>0</td>\n",
              "      <td>0</td>\n",
              "      <td>0</td>\n",
              "      <td>0</td>\n",
              "      <td>0</td>\n",
              "      <td>0</td>\n",
              "      <td>0</td>\n",
              "      <td>0</td>\n",
              "      <td>0</td>\n",
              "      <td>0</td>\n",
              "      <td>0</td>\n",
              "      <td>0</td>\n",
              "      <td>0</td>\n",
              "      <td>0</td>\n",
              "      <td>0</td>\n",
              "      <td>0</td>\n",
              "      <td>0</td>\n",
              "      <td>0</td>\n",
              "      <td>0</td>\n",
              "      <td>0</td>\n",
              "      <td>0</td>\n",
              "      <td>0</td>\n",
              "    </tr>\n",
              "    <tr>\n",
              "      <th>418300</th>\n",
              "      <td>1</td>\n",
              "      <td>0</td>\n",
              "      <td>0</td>\n",
              "      <td>0</td>\n",
              "      <td>0</td>\n",
              "      <td>0</td>\n",
              "      <td>0</td>\n",
              "      <td>0</td>\n",
              "      <td>0</td>\n",
              "      <td>0</td>\n",
              "      <td>0</td>\n",
              "      <td>0</td>\n",
              "      <td>0</td>\n",
              "      <td>0</td>\n",
              "      <td>0</td>\n",
              "      <td>0</td>\n",
              "      <td>0</td>\n",
              "      <td>0</td>\n",
              "      <td>0</td>\n",
              "      <td>0</td>\n",
              "      <td>0</td>\n",
              "      <td>0</td>\n",
              "      <td>0</td>\n",
              "      <td>0</td>\n",
              "      <td>0</td>\n",
              "      <td>0</td>\n",
              "      <td>0</td>\n",
              "      <td>0</td>\n",
              "      <td>0</td>\n",
              "      <td>0</td>\n",
              "      <td>0</td>\n",
              "      <td>0</td>\n",
              "      <td>0</td>\n",
              "      <td>0</td>\n",
              "      <td>0</td>\n",
              "      <td>0</td>\n",
              "      <td>0</td>\n",
              "      <td>0</td>\n",
              "      <td>0</td>\n",
              "      <td>0</td>\n",
              "      <td>0</td>\n",
              "      <td>0</td>\n",
              "      <td>0</td>\n",
              "      <td>0</td>\n",
              "      <td>0</td>\n",
              "      <td>0</td>\n",
              "      <td>0</td>\n",
              "      <td>0</td>\n",
              "      <td>0</td>\n",
              "      <td>0</td>\n",
              "      <td>0</td>\n",
              "      <td>0</td>\n",
              "      <td>0</td>\n",
              "      <td>0</td>\n",
              "      <td>0</td>\n",
              "      <td>0</td>\n",
              "      <td>0</td>\n",
              "      <td>0</td>\n",
              "      <td>0</td>\n",
              "      <td>0</td>\n",
              "      <td>0</td>\n",
              "      <td>0</td>\n",
              "      <td>0</td>\n",
              "      <td>0</td>\n",
              "      <td>0</td>\n",
              "      <td>0</td>\n",
              "      <td>0</td>\n",
              "      <td>0</td>\n",
              "      <td>0</td>\n",
              "      <td>0</td>\n",
              "      <td>0</td>\n",
              "      <td>0</td>\n",
              "      <td>0</td>\n",
              "      <td>0</td>\n",
              "      <td>0</td>\n",
              "      <td>0</td>\n",
              "      <td>0</td>\n",
              "      <td>0</td>\n",
              "      <td>0</td>\n",
              "      <td>0</td>\n",
              "      <td>0</td>\n",
              "      <td>0</td>\n",
              "      <td>0</td>\n",
              "      <td>0</td>\n",
              "      <td>0</td>\n",
              "      <td>0</td>\n",
              "      <td>0</td>\n",
              "      <td>0</td>\n",
              "      <td>0</td>\n",
              "      <td>0</td>\n",
              "      <td>0</td>\n",
              "      <td>0</td>\n",
              "      <td>0</td>\n",
              "      <td>0</td>\n",
              "      <td>0</td>\n",
              "      <td>0</td>\n",
              "      <td>0</td>\n",
              "      <td>0</td>\n",
              "      <td>0</td>\n",
              "      <td>0</td>\n",
              "      <td>0</td>\n",
              "      <td>0</td>\n",
              "      <td>0</td>\n",
              "      <td>0</td>\n",
              "      <td>0</td>\n",
              "      <td>0</td>\n",
              "      <td>0</td>\n",
              "      <td>0</td>\n",
              "      <td>0</td>\n",
              "      <td>0</td>\n",
              "      <td>0</td>\n",
              "      <td>0</td>\n",
              "      <td>0</td>\n",
              "      <td>0</td>\n",
              "      <td>0</td>\n",
              "      <td>0</td>\n",
              "    </tr>\n",
              "  </tbody>\n",
              "</table>\n",
              "<p>33234 rows × 116 columns</p>\n",
              "</div>"
            ],
            "text/plain": [
              "Mileage_new_2   -1        1        2        3        5        9        10      \\\n",
              "mileage_new_99                                                                  \n",
              "-1                  897        3        1        1        1        1        2   \n",
              " 0                    1        0        0        0        0        0        0   \n",
              " 1                 6132        0        0        0        0        0        0   \n",
              " 2                  669        0        0        0        0        0        0   \n",
              " 3                  281        0        0        0        0        0        0   \n",
              "...                 ...      ...      ...      ...      ...      ...      ...   \n",
              " 417000               8        0        0        0        0        0        0   \n",
              " 417006               1        0        0        0        0        0        0   \n",
              " 417100               1        0        0        0        0        0        0   \n",
              " 418000               7        0        0        0        0        0        0   \n",
              " 418300               1        0        0        0        0        0        0   \n",
              "\n",
              "Mileage_new_2    100      3000     3200     4000     6202     8336     9500    \\\n",
              "mileage_new_99                                                                  \n",
              "-1                    1        1        1        1        1        1        1   \n",
              " 0                    0        0        0        0        0        0        0   \n",
              " 1                    0        0        0        0        0        0        0   \n",
              " 2                    0        0        0        0        0        0        0   \n",
              " 3                    0        0        0        0        0        0        0   \n",
              "...                 ...      ...      ...      ...      ...      ...      ...   \n",
              " 417000               0        0        0        0        0        0        0   \n",
              " 417006               0        0        0        0        0        0        0   \n",
              " 417100               0        0        0        0        0        0        0   \n",
              " 418000               0        0        0        0        0        0        0   \n",
              " 418300               0        0        0        0        0        0        0   \n",
              "\n",
              "Mileage_new_2    10297    13000    16000    18000    20000    20436    22000   \\\n",
              "mileage_new_99                                                                  \n",
              "-1                    1        1        1        1        1        1        1   \n",
              " 0                    0        0        0        0        0        0        0   \n",
              " 1                    0        0        0        0        0        0        0   \n",
              " 2                    0        0        0        0        0        0        0   \n",
              " 3                    0        0        0        0        0        0        0   \n",
              "...                 ...      ...      ...      ...      ...      ...      ...   \n",
              " 417000               0        0        0        0        0        0        0   \n",
              " 417006               0        0        0        0        0        0        0   \n",
              " 417100               0        0        0        0        0        0        0   \n",
              " 418000               0        0        0        0        0        0        0   \n",
              " 418300               0        0        0        0        0        0        0   \n",
              "\n",
              "Mileage_new_2    25000    26000    28422    30000    34400    45550    46569   \\\n",
              "mileage_new_99                                                                  \n",
              "-1                    1        1        1        1        1        1        1   \n",
              " 0                    0        0        0        0        0        0        0   \n",
              " 1                    0        0        0        0        0        0        0   \n",
              " 2                    0        0        0        0        0        0        0   \n",
              " 3                    0        0        0        0        0        0        0   \n",
              "...                 ...      ...      ...      ...      ...      ...      ...   \n",
              " 417000               0        0        0        0        0        0        0   \n",
              " 417006               0        0        0        0        0        0        0   \n",
              " 417100               0        0        0        0        0        0        0   \n",
              " 418000               0        0        0        0        0        0        0   \n",
              " 418300               0        0        0        0        0        0        0   \n",
              "\n",
              "Mileage_new_2    48000    54000    56902    57000    64000    66398    71700   \\\n",
              "mileage_new_99                                                                  \n",
              "-1                    1        1        1        1        1        1        1   \n",
              " 0                    0        0        0        0        0        0        0   \n",
              " 1                    0        0        0        0        0        0        0   \n",
              " 2                    0        0        0        0        0        0        0   \n",
              " 3                    0        0        0        0        0        0        0   \n",
              "...                 ...      ...      ...      ...      ...      ...      ...   \n",
              " 417000               0        0        0        0        0        0        0   \n",
              " 417006               0        0        0        0        0        0        0   \n",
              " 417100               0        0        0        0        0        0        0   \n",
              " 418000               0        0        0        0        0        0        0   \n",
              " 418300               0        0        0        0        0        0        0   \n",
              "\n",
              "Mileage_new_2    79000    82000    91500    95000    97300    98000    99000   \\\n",
              "mileage_new_99                                                                  \n",
              "-1                    1        1        2        1        1        1        1   \n",
              " 0                    0        0        0        0        0        0        0   \n",
              " 1                    0        0        0        0        0        0        0   \n",
              " 2                    0        0        0        0        0        0        0   \n",
              " 3                    0        0        0        0        0        0        0   \n",
              "...                 ...      ...      ...      ...      ...      ...      ...   \n",
              " 417000               0        0        0        0        0        0        0   \n",
              " 417006               0        0        0        0        0        0        0   \n",
              " 417100               0        0        0        0        0        0        0   \n",
              " 418000               0        0        0        0        0        0        0   \n",
              " 418300               0        0        0        0        0        0        0   \n",
              "\n",
              "Mileage_new_2    107000   110000   112000   122300   123000   123900   130000  \\\n",
              "mileage_new_99                                                                  \n",
              "-1                    1        1        1        1        1        1        1   \n",
              " 0                    0        0        0        0        0        0        0   \n",
              " 1                    0        0        0        0        0        0        0   \n",
              " 2                    0        0        0        0        0        0        0   \n",
              " 3                    0        0        0        0        0        0        0   \n",
              "...                 ...      ...      ...      ...      ...      ...      ...   \n",
              " 417000               0        0        0        0        0        0        0   \n",
              " 417006               0        0        0        0        0        0        0   \n",
              " 417100               0        0        0        0        0        0        0   \n",
              " 418000               0        0        0        0        0        0        0   \n",
              " 418300               0        0        0        0        0        0        0   \n",
              "\n",
              "Mileage_new_2    135233   135608   136000   136125   140000   144000   145000  \\\n",
              "mileage_new_99                                                                  \n",
              "-1                    1        1        1        1        2        1        1   \n",
              " 0                    0        0        0        0        0        0        0   \n",
              " 1                    0        0        0        0        0        0        0   \n",
              " 2                    0        0        0        0        0        0        0   \n",
              " 3                    0        0        0        0        0        0        0   \n",
              "...                 ...      ...      ...      ...      ...      ...      ...   \n",
              " 417000               0        0        0        0        0        0        0   \n",
              " 417006               0        0        0        0        0        0        0   \n",
              " 417100               0        0        0        0        0        0        0   \n",
              " 418000               0        0        0        0        0        0        0   \n",
              " 418300               0        0        0        0        0        0        0   \n",
              "\n",
              "Mileage_new_2    149000   150000   151000   152887   159000   161214   164665  \\\n",
              "mileage_new_99                                                                  \n",
              "-1                    1        1        1        1        1        1        1   \n",
              " 0                    0        0        0        0        0        0        0   \n",
              " 1                    0        0        0        0        0        0        0   \n",
              " 2                    0        0        0        0        0        0        0   \n",
              " 3                    0        0        0        0        0        0        0   \n",
              "...                 ...      ...      ...      ...      ...      ...      ...   \n",
              " 417000               0        0        0        0        0        0        0   \n",
              " 417006               0        0        0        0        0        0        0   \n",
              " 417100               0        0        0        0        0        0        0   \n",
              " 418000               0        0        0        0        0        0        0   \n",
              " 418300               0        0        0        0        0        0        0   \n",
              "\n",
              "Mileage_new_2    166900   168000   169000   170000   172000   175000   177000  \\\n",
              "mileage_new_99                                                                  \n",
              "-1                    1        1        1        1        1        1        2   \n",
              " 0                    0        0        0        0        0        0        0   \n",
              " 1                    0        0        0        0        0        0        0   \n",
              " 2                    0        0        0        0        0        0        0   \n",
              " 3                    0        0        0        0        0        0        0   \n",
              "...                 ...      ...      ...      ...      ...      ...      ...   \n",
              " 417000               0        0        0        0        0        0        0   \n",
              " 417006               0        0        0        0        0        0        0   \n",
              " 417100               0        0        0        0        0        0        0   \n",
              " 418000               0        0        0        0        0        0        0   \n",
              " 418300               0        0        0        0        0        0        0   \n",
              "\n",
              "Mileage_new_2    178564   178900   181000   184025   185000   189000   191000  \\\n",
              "mileage_new_99                                                                  \n",
              "-1                    1        1        1        1        1        2        1   \n",
              " 0                    0        0        0        0        0        0        0   \n",
              " 1                    0        0        0        0        0        0        0   \n",
              " 2                    0        0        0        0        0        0        0   \n",
              " 3                    0        0        0        0        0        0        0   \n",
              "...                 ...      ...      ...      ...      ...      ...      ...   \n",
              " 417000               0        0        0        0        0        0        0   \n",
              " 417006               0        0        0        0        0        0        0   \n",
              " 417100               0        0        0        0        0        0        0   \n",
              " 418000               0        0        0        0        0        0        0   \n",
              " 418300               0        0        0        0        0        0        0   \n",
              "\n",
              "Mileage_new_2    192800   194000   194100   195000   197000   199000   202558  \\\n",
              "mileage_new_99                                                                  \n",
              "-1                    1        1        1        1        1        1        1   \n",
              " 0                    0        0        0        0        0        0        0   \n",
              " 1                    0        0        0        0        0        0        0   \n",
              " 2                    0        0        0        0        0        0        0   \n",
              " 3                    0        0        0        0        0        0        0   \n",
              "...                 ...      ...      ...      ...      ...      ...      ...   \n",
              " 417000               0        0        0        0        0        0        0   \n",
              " 417006               0        0        0        0        0        0        0   \n",
              " 417100               0        0        0        0        0        0        0   \n",
              " 418000               0        0        0        0        0        0        0   \n",
              " 418300               0        0        0        0        0        0        0   \n",
              "\n",
              "Mileage_new_2    202600   204557   206000   207000   210000   216749   217000  \\\n",
              "mileage_new_99                                                                  \n",
              "-1                    1        1        1        3        3        1        1   \n",
              " 0                    0        0        0        0        0        0        0   \n",
              " 1                    0        0        0        0        0        0        0   \n",
              " 2                    0        0        0        0        0        0        0   \n",
              " 3                    0        0        0        0        0        0        0   \n",
              "...                 ...      ...      ...      ...      ...      ...      ...   \n",
              " 417000               0        0        0        0        0        0        0   \n",
              " 417006               0        0        0        0        0        0        0   \n",
              " 417100               0        0        0        0        0        0        0   \n",
              " 418000               0        0        0        0        0        0        0   \n",
              " 418300               0        0        0        0        0        0        0   \n",
              "\n",
              "Mileage_new_2    223000   225740   228000   230786   232159   233000   238000  \\\n",
              "mileage_new_99                                                                  \n",
              "-1                    1        1        1        1        1        1        2   \n",
              " 0                    0        0        0        0        0        0        0   \n",
              " 1                    0        0        0        0        0        0        0   \n",
              " 2                    0        0        0        0        0        0        0   \n",
              " 3                    0        0        0        0        0        0        0   \n",
              "...                 ...      ...      ...      ...      ...      ...      ...   \n",
              " 417000               0        0        0        0        0        0        0   \n",
              " 417006               0        0        0        0        0        0        0   \n",
              " 417100               0        0        0        0        0        0        0   \n",
              " 418000               0        0        0        0        0        0        0   \n",
              " 418300               0        0        0        0        0        0        0   \n",
              "\n",
              "Mileage_new_2    241000   242000   242194   243000   245506   248428   258000  \\\n",
              "mileage_new_99                                                                  \n",
              "-1                    1        1        1        1        1        1        1   \n",
              " 0                    0        0        0        0        0        0        0   \n",
              " 1                    0        0        0        0        0        0        0   \n",
              " 2                    0        0        0        0        0        0        0   \n",
              " 3                    0        0        0        0        0        0        0   \n",
              "...                 ...      ...      ...      ...      ...      ...      ...   \n",
              " 417000               0        0        0        0        0        0        0   \n",
              " 417006               0        0        0        0        0        0        0   \n",
              " 417100               0        0        0        0        0        0        0   \n",
              " 418000               0        0        0        0        0        0        0   \n",
              " 418300               0        0        0        0        0        0        0   \n",
              "\n",
              "Mileage_new_2    262000   268000   272000   281000   284532   310000   317000  \\\n",
              "mileage_new_99                                                                  \n",
              "-1                    1        1        1        1        1        1        1   \n",
              " 0                    0        0        0        0        0        0        0   \n",
              " 1                    0        0        0        0        0        0        0   \n",
              " 2                    0        0        0        0        0        0        0   \n",
              " 3                    0        0        0        0        0        0        0   \n",
              "...                 ...      ...      ...      ...      ...      ...      ...   \n",
              " 417000               0        0        0        0        0        0        0   \n",
              " 417006               0        0        0        0        0        0        0   \n",
              " 417100               0        0        0        0        0        0        0   \n",
              " 418000               0        0        0        0        0        0        0   \n",
              " 418300               0        0        0        0        0        0        0   \n",
              "\n",
              "Mileage_new_2    372000   375000   381000   398000  \n",
              "mileage_new_99                                      \n",
              "-1                    1        1        1        1  \n",
              " 0                    0        0        0        0  \n",
              " 1                    0        0        0        0  \n",
              " 2                    0        0        0        0  \n",
              " 3                    0        0        0        0  \n",
              "...                 ...      ...      ...      ...  \n",
              " 417000               0        0        0        0  \n",
              " 417006               0        0        0        0  \n",
              " 417100               0        0        0        0  \n",
              " 418000               0        0        0        0  \n",
              " 418300               0        0        0        0  \n",
              "\n",
              "[33234 rows x 116 columns]"
            ]
          },
          "execution_count": 92,
          "metadata": {},
          "output_type": "execute_result"
        }
      ]
    },
    {
      "cell_type": "code",
      "metadata": {
        "id": "egunI21AAWQd",
        "outputId": "ed145bfa-fd2a-48cb-e2e6-ac1016f32515"
      },
      "source": [
        "# Посмотрим и в другом разрезе, как признак \"Mileage_new_2\" может дополнить признак \"mileage_new_99\"\n",
        "# (видим, что есть дополнения в случаях, когда значения у признака \"mileage_new_99\" равны \"-1\", т.е. отсутствуют):\n",
        "\n",
        "df[ df.mileage_new_99 == -1 ][[\"mileage_new_99\", \"Mileage_new_2\"]]"
      ],
      "id": "egunI21AAWQd",
      "execution_count": null,
      "outputs": [
        {
          "data": {
            "text/html": [
              "<div>\n",
              "<style scoped>\n",
              "    .dataframe tbody tr th:only-of-type {\n",
              "        vertical-align: middle;\n",
              "    }\n",
              "\n",
              "    .dataframe tbody tr th {\n",
              "        vertical-align: top;\n",
              "    }\n",
              "\n",
              "    .dataframe thead th {\n",
              "        text-align: right;\n",
              "    }\n",
              "</style>\n",
              "<table border=\"1\" class=\"dataframe\">\n",
              "  <thead>\n",
              "    <tr style=\"text-align: right;\">\n",
              "      <th></th>\n",
              "      <th>mileage_new_99</th>\n",
              "      <th>Mileage_new_2</th>\n",
              "    </tr>\n",
              "  </thead>\n",
              "  <tbody>\n",
              "    <tr>\n",
              "      <th>11</th>\n",
              "      <td>-1</td>\n",
              "      <td>-1</td>\n",
              "    </tr>\n",
              "    <tr>\n",
              "      <th>314</th>\n",
              "      <td>-1</td>\n",
              "      <td>122300</td>\n",
              "    </tr>\n",
              "    <tr>\n",
              "      <th>420</th>\n",
              "      <td>-1</td>\n",
              "      <td>-1</td>\n",
              "    </tr>\n",
              "    <tr>\n",
              "      <th>466</th>\n",
              "      <td>-1</td>\n",
              "      <td>123900</td>\n",
              "    </tr>\n",
              "    <tr>\n",
              "      <th>601</th>\n",
              "      <td>-1</td>\n",
              "      <td>262000</td>\n",
              "    </tr>\n",
              "    <tr>\n",
              "      <th>...</th>\n",
              "      <td>...</td>\n",
              "      <td>...</td>\n",
              "    </tr>\n",
              "    <tr>\n",
              "      <th>158687</th>\n",
              "      <td>-1</td>\n",
              "      <td>-1</td>\n",
              "    </tr>\n",
              "    <tr>\n",
              "      <th>159471</th>\n",
              "      <td>-1</td>\n",
              "      <td>-1</td>\n",
              "    </tr>\n",
              "    <tr>\n",
              "      <th>159693</th>\n",
              "      <td>-1</td>\n",
              "      <td>-1</td>\n",
              "    </tr>\n",
              "    <tr>\n",
              "      <th>159820</th>\n",
              "      <td>-1</td>\n",
              "      <td>-1</td>\n",
              "    </tr>\n",
              "    <tr>\n",
              "      <th>159909</th>\n",
              "      <td>-1</td>\n",
              "      <td>-1</td>\n",
              "    </tr>\n",
              "  </tbody>\n",
              "</table>\n",
              "<p>1024 rows × 2 columns</p>\n",
              "</div>"
            ],
            "text/plain": [
              "        mileage_new_99  Mileage_new_2\n",
              "11                  -1             -1\n",
              "314                 -1         122300\n",
              "420                 -1             -1\n",
              "466                 -1         123900\n",
              "601                 -1         262000\n",
              "...                ...            ...\n",
              "158687              -1             -1\n",
              "159471              -1             -1\n",
              "159693              -1             -1\n",
              "159820              -1             -1\n",
              "159909              -1             -1\n",
              "\n",
              "[1024 rows x 2 columns]"
            ]
          },
          "execution_count": 93,
          "metadata": {},
          "output_type": "execute_result"
        }
      ]
    },
    {
      "cell_type": "code",
      "metadata": {
        "id": "0In5ktIYAWQd"
      },
      "source": [
        "# Итак, можем произвести дополнение признака \"mileage_new_99\" в тех случаях, когда данные по определенным строкам отсутствуют\n",
        "# (т.е. когда там находится \"-1\", которую мы ранее проставили вместо отсутствующих данных), \n",
        "# используя данные признака \"Mileage_new_2\".\n",
        "# В итоге, в результате обогащения данными, получаем дополненный признак \"mileage_new_99_ext\":\n",
        "\n",
        "df[\"mileage_new_99_ext\"] = df.apply(lambda x: x[\"mileage_new_99\"] if x[\"mileage_new_99\"] != -1 else \\\n",
        "                                    int(x[\"Mileage_new_2\"]), axis=1)"
      ],
      "id": "0In5ktIYAWQd",
      "execution_count": null,
      "outputs": []
    },
    {
      "cell_type": "code",
      "metadata": {
        "id": "dTpgLEXvAWQe",
        "outputId": "204f2f3e-2ec0-44e6-e9c6-5595b3fdce83"
      },
      "source": [
        "# Можем увидеть количество отсутствующих значений, заменённых на \"-1\", до дополнения призака \"mileage_new_99\":\n",
        "\n",
        "df[ df[\"mileage_new_99\"] == -1 ].shape"
      ],
      "id": "dTpgLEXvAWQe",
      "execution_count": null,
      "outputs": [
        {
          "data": {
            "text/plain": [
              "(1024, 187)"
            ]
          },
          "execution_count": 95,
          "metadata": {},
          "output_type": "execute_result"
        }
      ]
    },
    {
      "cell_type": "code",
      "metadata": {
        "id": "L9yVxnqGAWQe",
        "outputId": "c96a5193-4de3-42cd-f552-d61acf468537"
      },
      "source": [
        "# Можем увидеть количество отсутствующих значений, заменённых на \"-1\", после дополнения призака \"mileage_new_99\":\n",
        "\n",
        "df[ df[\"mileage_new_99_ext\"] == -1 ].shape "
      ],
      "id": "L9yVxnqGAWQe",
      "execution_count": null,
      "outputs": [
        {
          "data": {
            "text/plain": [
              "(897, 187)"
            ]
          },
          "execution_count": 96,
          "metadata": {},
          "output_type": "execute_result"
        }
      ]
    },
    {
      "cell_type": "markdown",
      "metadata": {
        "id": "hBp0JoKvAWQf"
      },
      "source": [
        "! Как видим, количество пропусков уменьшилось, а значит, дополнение признака было целесообразным.\n",
        "Но новый полученный признак (дополненный) впоследствии НЕ БЫЛ включён в модель, т.к. его включение приводило уже к увеличению значения ошибки."
      ],
      "id": "hBp0JoKvAWQf"
    },
    {
      "cell_type": "markdown",
      "metadata": {
        "id": "5v5qxXStAWQf"
      },
      "source": [
        "---"
      ],
      "id": "5v5qxXStAWQf"
    },
    {
      "cell_type": "markdown",
      "metadata": {
        "id": "Ev1uFt9_AWQf"
      },
      "source": [
        "## Тестирование модели на заключительном этапе "
      ],
      "id": "Ev1uFt9_AWQf"
    },
    {
      "cell_type": "code",
      "metadata": {
        "id": "MUSCFlFyAWQg",
        "outputId": "a42f3d84-53d8-4cbf-a74f-efbd45430ac2"
      },
      "source": [
        "# Протестируем получившуюся модель на данном заключительном этапе \n",
        "# (добавляя к тем признакам, которые были в датасете изначально, НОВЫЕ признаки полученные выше).\n",
        "# Благодаря этому, получим представление о том, каково значение ошибки (mean_absolute_error) на данный момент,\n",
        "# и сделаем вывод о целесообразности окончательного включения призаков в модель:\n",
        "\n",
        "feats.clear() # действия для предотвращения многократной записи одних и тех же признаков в список feats\n",
        "cat_feats = [x for x in df.columns if \"_cat\" in x]\n",
        "feats = cat_feats\n",
        "\n",
        "feats += [\"year_production_ext\", \"version_year_from\", \"version_year_to\", \\\n",
        "          \"engine_99\", \"horse_power_99_ext\", \"mileage_new_99\", \\\n",
        "          \"number_of_remaining_payments_99\", \"monthly_payment_99\", \"amount_to_pay_99\", \"first_payment_99\"]\n",
        "\n",
        "check_log_model(df, feats, xgb.XGBRegressor(max_depth=5, n_estimators=50, learning_rate=0.3, random_state=0))\n",
        "\n",
        "# Важно добавить, что на практике включение новых призаков происходило поочередно, \n",
        "# с последовательной проверкой целесообразности добавления каждого признака."
      ],
      "id": "MUSCFlFyAWQg",
      "execution_count": null,
      "outputs": [
        {
          "name": "stdout",
          "output_type": "stream",
          "text": [
            "(8574.289272963613, 140.4766549522986)\n"
          ]
        },
        {
          "data": {
            "text/html": [
              "\n",
              "    <style>\n",
              "    table.eli5-weights tr:hover {\n",
              "        filter: brightness(85%);\n",
              "    }\n",
              "</style>\n",
              "\n",
              "\n",
              "\n",
              "    \n",
              "\n",
              "    \n",
              "\n",
              "    \n",
              "\n",
              "    \n",
              "\n",
              "    \n",
              "\n",
              "    \n",
              "\n",
              "\n",
              "    \n",
              "\n",
              "    \n",
              "\n",
              "    \n",
              "\n",
              "    \n",
              "\n",
              "    \n",
              "\n",
              "    \n",
              "\n",
              "\n",
              "    \n",
              "\n",
              "    \n",
              "\n",
              "    \n",
              "\n",
              "    \n",
              "\n",
              "    \n",
              "        <table class=\"eli5-weights eli5-feature-importances\" style=\"border-collapse: collapse; border: none; margin-top: 0em; table-layout: auto;\">\n",
              "    <thead>\n",
              "    <tr style=\"border: none;\">\n",
              "        <th style=\"padding: 0 1em 0 0.5em; text-align: right; border: none;\">Weight</th>\n",
              "        <th style=\"padding: 0 0.5em 0 0.5em; text-align: left; border: none;\">Feature</th>\n",
              "    </tr>\n",
              "    </thead>\n",
              "    <tbody>\n",
              "    \n",
              "        <tr style=\"background-color: hsl(120, 100.00%, 80.00%); border: none;\">\n",
              "            <td style=\"padding: 0 1em 0 0.5em; text-align: right; border: none;\">\n",
              "                0.3892\n",
              "                \n",
              "            </td>\n",
              "            <td style=\"padding: 0 0.5em 0 0.5em; text-align: left; border: none;\">\n",
              "                year_production_ext\n",
              "            </td>\n",
              "        </tr>\n",
              "    \n",
              "        <tr style=\"background-color: hsl(120, 100.00%, 90.78%); border: none;\">\n",
              "            <td style=\"padding: 0 1em 0 0.5em; text-align: right; border: none;\">\n",
              "                0.1288\n",
              "                \n",
              "            </td>\n",
              "            <td style=\"padding: 0 0.5em 0 0.5em; text-align: left; border: none;\">\n",
              "                Привод_cat\n",
              "            </td>\n",
              "        </tr>\n",
              "    \n",
              "        <tr style=\"background-color: hsl(120, 100.00%, 92.62%); border: none;\">\n",
              "            <td style=\"padding: 0 1em 0 0.5em; text-align: right; border: none;\">\n",
              "                0.0936\n",
              "                \n",
              "            </td>\n",
              "            <td style=\"padding: 0 0.5em 0 0.5em; text-align: left; border: none;\">\n",
              "                horse_power_99_ext\n",
              "            </td>\n",
              "        </tr>\n",
              "    \n",
              "        <tr style=\"background-color: hsl(120, 100.00%, 93.14%); border: none;\">\n",
              "            <td style=\"padding: 0 1em 0 0.5em; text-align: right; border: none;\">\n",
              "                0.0844\n",
              "                \n",
              "            </td>\n",
              "            <td style=\"padding: 0 0.5em 0 0.5em; text-align: left; border: none;\">\n",
              "                Коробка передач_cat\n",
              "            </td>\n",
              "        </tr>\n",
              "    \n",
              "        <tr style=\"background-color: hsl(120, 100.00%, 95.63%); border: none;\">\n",
              "            <td style=\"padding: 0 1em 0 0.5em; text-align: right; border: none;\">\n",
              "                0.0444\n",
              "                \n",
              "            </td>\n",
              "            <td style=\"padding: 0 0.5em 0 0.5em; text-align: left; border: none;\">\n",
              "                Обслуживание в сервисном центре_cat\n",
              "            </td>\n",
              "        </tr>\n",
              "    \n",
              "        <tr style=\"background-color: hsl(120, 100.00%, 96.78%); border: none;\">\n",
              "            <td style=\"padding: 0 1em 0 0.5em; text-align: right; border: none;\">\n",
              "                0.0286\n",
              "                \n",
              "            </td>\n",
              "            <td style=\"padding: 0 0.5em 0 0.5em; text-align: left; border: none;\">\n",
              "                Поврежденный_cat\n",
              "            </td>\n",
              "        </tr>\n",
              "    \n",
              "        <tr style=\"background-color: hsl(120, 100.00%, 97.39%); border: none;\">\n",
              "            <td style=\"padding: 0 1em 0 0.5em; text-align: right; border: none;\">\n",
              "                0.0212\n",
              "                \n",
              "            </td>\n",
              "            <td style=\"padding: 0 0.5em 0 0.5em; text-align: left; border: none;\">\n",
              "                engine_99\n",
              "            </td>\n",
              "        </tr>\n",
              "    \n",
              "        <tr style=\"background-color: hsl(120, 100.00%, 97.45%); border: none;\">\n",
              "            <td style=\"padding: 0 1em 0 0.5em; text-align: right; border: none;\">\n",
              "                0.0205\n",
              "                \n",
              "            </td>\n",
              "            <td style=\"padding: 0 0.5em 0 0.5em; text-align: left; border: none;\">\n",
              "                Правый руль (английский)_cat\n",
              "            </td>\n",
              "        </tr>\n",
              "    \n",
              "        <tr style=\"background-color: hsl(120, 100.00%, 97.59%); border: none;\">\n",
              "            <td style=\"padding: 0 1em 0 0.5em; text-align: right; border: none;\">\n",
              "                0.0189\n",
              "                \n",
              "            </td>\n",
              "            <td style=\"padding: 0 0.5em 0 0.5em; text-align: left; border: none;\">\n",
              "                Тип_cat\n",
              "            </td>\n",
              "        </tr>\n",
              "    \n",
              "        <tr style=\"background-color: hsl(120, 100.00%, 97.81%); border: none;\">\n",
              "            <td style=\"padding: 0 1em 0 0.5em; text-align: right; border: none;\">\n",
              "                0.0165\n",
              "                \n",
              "            </td>\n",
              "            <td style=\"padding: 0 0.5em 0 0.5em; text-align: left; border: none;\">\n",
              "                Безаварийный_cat\n",
              "            </td>\n",
              "        </tr>\n",
              "    \n",
              "        <tr style=\"background-color: hsl(120, 100.00%, 98.04%); border: none;\">\n",
              "            <td style=\"padding: 0 1em 0 0.5em; text-align: right; border: none;\">\n",
              "                0.0141\n",
              "                \n",
              "            </td>\n",
              "            <td style=\"padding: 0 0.5em 0 0.5em; text-align: left; border: none;\">\n",
              "                mileage_new_99\n",
              "            </td>\n",
              "        </tr>\n",
              "    \n",
              "        <tr style=\"background-color: hsl(120, 100.00%, 98.10%); border: none;\">\n",
              "            <td style=\"padding: 0 1em 0 0.5em; text-align: right; border: none;\">\n",
              "                0.0135\n",
              "                \n",
              "            </td>\n",
              "            <td style=\"padding: 0 0.5em 0 0.5em; text-align: left; border: none;\">\n",
              "                Кредит_cat\n",
              "            </td>\n",
              "        </tr>\n",
              "    \n",
              "        <tr style=\"background-color: hsl(120, 100.00%, 98.39%); border: none;\">\n",
              "            <td style=\"padding: 0 1em 0 0.5em; text-align: right; border: none;\">\n",
              "                0.0106\n",
              "                \n",
              "            </td>\n",
              "            <td style=\"padding: 0 0.5em 0 0.5em; text-align: left; border: none;\">\n",
              "                Марка автомобиля_cat\n",
              "            </td>\n",
              "        </tr>\n",
              "    \n",
              "        <tr style=\"background-color: hsl(120, 100.00%, 98.46%); border: none;\">\n",
              "            <td style=\"padding: 0 1em 0 0.5em; text-align: right; border: none;\">\n",
              "                0.0100\n",
              "                \n",
              "            </td>\n",
              "            <td style=\"padding: 0 0.5em 0 0.5em; text-align: left; border: none;\">\n",
              "                version_year_from\n",
              "            </td>\n",
              "        </tr>\n",
              "    \n",
              "        <tr style=\"background-color: hsl(120, 100.00%, 98.59%); border: none;\">\n",
              "            <td style=\"padding: 0 1em 0 0.5em; text-align: right; border: none;\">\n",
              "                0.0088\n",
              "                \n",
              "            </td>\n",
              "            <td style=\"padding: 0 0.5em 0 0.5em; text-align: left; border: none;\">\n",
              "                Предложение от_cat\n",
              "            </td>\n",
              "        </tr>\n",
              "    \n",
              "        <tr style=\"background-color: hsl(120, 100.00%, 98.66%); border: none;\">\n",
              "            <td style=\"padding: 0 1em 0 0.5em; text-align: right; border: none;\">\n",
              "                0.0082\n",
              "                \n",
              "            </td>\n",
              "            <td style=\"padding: 0 0.5em 0 0.5em; text-align: left; border: none;\">\n",
              "                version_year_to\n",
              "            </td>\n",
              "        </tr>\n",
              "    \n",
              "        <tr style=\"background-color: hsl(120, 100.00%, 98.81%); border: none;\">\n",
              "            <td style=\"padding: 0 1em 0 0.5em; text-align: right; border: none;\">\n",
              "                0.0069\n",
              "                \n",
              "            </td>\n",
              "            <td style=\"padding: 0 0.5em 0 0.5em; text-align: left; border: none;\">\n",
              "                Zarejestrowany jako zabytek_cat\n",
              "            </td>\n",
              "        </tr>\n",
              "    \n",
              "        <tr style=\"background-color: hsl(120, 100.00%, 98.83%); border: none;\">\n",
              "            <td style=\"padding: 0 1em 0 0.5em; text-align: right; border: none;\">\n",
              "                0.0067\n",
              "                \n",
              "            </td>\n",
              "            <td style=\"padding: 0 0.5em 0 0.5em; text-align: left; border: none;\">\n",
              "                Код двигателя_cat\n",
              "            </td>\n",
              "        </tr>\n",
              "    \n",
              "        <tr style=\"background-color: hsl(120, 100.00%, 99.06%); border: none;\">\n",
              "            <td style=\"padding: 0 1em 0 0.5em; text-align: right; border: none;\">\n",
              "                0.0050\n",
              "                \n",
              "            </td>\n",
              "            <td style=\"padding: 0 0.5em 0 0.5em; text-align: left; border: none;\">\n",
              "                Количество оставшихся платежей_cat\n",
              "            </td>\n",
              "        </tr>\n",
              "    \n",
              "        <tr style=\"background-color: hsl(120, 100.00%, 99.08%); border: none;\">\n",
              "            <td style=\"padding: 0 1em 0 0.5em; text-align: right; border: none;\">\n",
              "                0.0048\n",
              "                \n",
              "            </td>\n",
              "            <td style=\"padding: 0 0.5em 0 0.5em; text-align: left; border: none;\">\n",
              "                Количество мест_cat\n",
              "            </td>\n",
              "        </tr>\n",
              "    \n",
              "    \n",
              "        \n",
              "            <tr style=\"background-color: hsl(120, 100.00%, 99.08%); border: none;\">\n",
              "                <td colspan=\"2\" style=\"padding: 0 0.5em 0 0.5em; text-align: center; border: none; white-space: nowrap;\">\n",
              "                    <i>&hellip; 66 more &hellip;</i>\n",
              "                </td>\n",
              "            </tr>\n",
              "        \n",
              "    \n",
              "    </tbody>\n",
              "</table>\n",
              "    \n",
              "\n",
              "    \n",
              "\n",
              "\n",
              "    \n",
              "\n",
              "    \n",
              "\n",
              "    \n",
              "\n",
              "    \n",
              "\n",
              "    \n",
              "\n",
              "    \n",
              "\n",
              "\n",
              "\n"
            ],
            "text/plain": [
              "<IPython.core.display.HTML object>"
            ]
          },
          "execution_count": 136,
          "metadata": {},
          "output_type": "execute_result"
        }
      ]
    },
    {
      "cell_type": "markdown",
      "metadata": {
        "id": "HoZadSaCAWQg"
      },
      "source": [
        "### ! Итак, значение ошибки (mean_absolute_error) уменьшилось в результате включения новых признаков в состав модели примерно на 1214 злотых (по сравнению с предыдущим этапом, когда были включены только новые признаки \"year_production_ext\", \"version_year_from\", \"version_year_to\"), следовательно включение других новых признаков было целесообразным."
      ],
      "id": "HoZadSaCAWQg"
    },
    {
      "cell_type": "markdown",
      "metadata": {
        "id": "9zSAn5uSAWQh"
      },
      "source": [
        "---"
      ],
      "id": "9zSAn5uSAWQh"
    },
    {
      "cell_type": "markdown",
      "metadata": {
        "id": "bODANnCAAWQh"
      },
      "source": [
        "### !!! Важно отметить, что при тестировании модели подверглись корректировке экспериментальным путем (с помощью подбора при наблюдении за изменениями значений ошибки) параметры модели \"max_depth\" и \"learning_rate\"."
      ],
      "id": "bODANnCAAWQh"
    },
    {
      "cell_type": "code",
      "metadata": {
        "id": "bGUFAUViAWQi",
        "outputId": "b1b57178-65ac-439c-e4b3-1facf73bf7ae"
      },
      "source": [
        "# Протестируем получившуюся модель на данном заключительном этапе \n",
        "# (добавляя к тем признакам, которые были в датасете изначально, НОВЫЕ признаки полученные выше).\n",
        "# Благодаря этому, получим представление о том, каково значение ошибки (mean_absolute_error) на данный момент,\n",
        "# и сделаем вывод о целесообразности окончательного включения призаков в модель:\n",
        "\n",
        "feats.clear() # действия для предотвращения многократной записи одних и тех же признаков в список feats\n",
        "cat_feats = [x for x in df.columns if \"_cat\" in x]\n",
        "feats = cat_feats\n",
        "\n",
        "feats += [\"year_production_ext\", \"version_year_from\", \"version_year_to\", \\\n",
        "          \"engine_99\", \"horse_power_99_ext\", \"mileage_new_99\", \\\n",
        "          \"number_of_remaining_payments_99\", \"monthly_payment_99\", \"amount_to_pay_99\", \"first_payment_99\"]\n",
        "\n",
        "check_log_model(df, feats, xgb.XGBRegressor(max_depth=11, n_estimators=50, learning_rate=0.25, random_state=0))"
      ],
      "id": "bGUFAUViAWQi",
      "execution_count": null,
      "outputs": [
        {
          "name": "stdout",
          "output_type": "stream",
          "text": [
            "(7152.704516395061, 178.9014724167365)\n"
          ]
        },
        {
          "data": {
            "text/html": [
              "\n",
              "    <style>\n",
              "    table.eli5-weights tr:hover {\n",
              "        filter: brightness(85%);\n",
              "    }\n",
              "</style>\n",
              "\n",
              "\n",
              "\n",
              "    \n",
              "\n",
              "    \n",
              "\n",
              "    \n",
              "\n",
              "    \n",
              "\n",
              "    \n",
              "\n",
              "    \n",
              "\n",
              "\n",
              "    \n",
              "\n",
              "    \n",
              "\n",
              "    \n",
              "\n",
              "    \n",
              "\n",
              "    \n",
              "\n",
              "    \n",
              "\n",
              "\n",
              "    \n",
              "\n",
              "    \n",
              "\n",
              "    \n",
              "\n",
              "    \n",
              "\n",
              "    \n",
              "        <table class=\"eli5-weights eli5-feature-importances\" style=\"border-collapse: collapse; border: none; margin-top: 0em; table-layout: auto;\">\n",
              "    <thead>\n",
              "    <tr style=\"border: none;\">\n",
              "        <th style=\"padding: 0 1em 0 0.5em; text-align: right; border: none;\">Weight</th>\n",
              "        <th style=\"padding: 0 0.5em 0 0.5em; text-align: left; border: none;\">Feature</th>\n",
              "    </tr>\n",
              "    </thead>\n",
              "    <tbody>\n",
              "    \n",
              "        <tr style=\"background-color: hsl(120, 100.00%, 80.00%); border: none;\">\n",
              "            <td style=\"padding: 0 1em 0 0.5em; text-align: right; border: none;\">\n",
              "                0.5089\n",
              "                \n",
              "            </td>\n",
              "            <td style=\"padding: 0 0.5em 0 0.5em; text-align: left; border: none;\">\n",
              "                year_production_ext\n",
              "            </td>\n",
              "        </tr>\n",
              "    \n",
              "        <tr style=\"background-color: hsl(120, 100.00%, 93.93%); border: none;\">\n",
              "            <td style=\"padding: 0 1em 0 0.5em; text-align: right; border: none;\">\n",
              "                0.0927\n",
              "                \n",
              "            </td>\n",
              "            <td style=\"padding: 0 0.5em 0 0.5em; text-align: left; border: none;\">\n",
              "                Привод_cat\n",
              "            </td>\n",
              "        </tr>\n",
              "    \n",
              "        <tr style=\"background-color: hsl(120, 100.00%, 95.04%); border: none;\">\n",
              "            <td style=\"padding: 0 1em 0 0.5em; text-align: right; border: none;\">\n",
              "                0.0693\n",
              "                \n",
              "            </td>\n",
              "            <td style=\"padding: 0 0.5em 0 0.5em; text-align: left; border: none;\">\n",
              "                horse_power_99_ext\n",
              "            </td>\n",
              "        </tr>\n",
              "    \n",
              "        <tr style=\"background-color: hsl(120, 100.00%, 96.62%); border: none;\">\n",
              "            <td style=\"padding: 0 1em 0 0.5em; text-align: right; border: none;\">\n",
              "                0.0401\n",
              "                \n",
              "            </td>\n",
              "            <td style=\"padding: 0 0.5em 0 0.5em; text-align: left; border: none;\">\n",
              "                Коробка передач_cat\n",
              "            </td>\n",
              "        </tr>\n",
              "    \n",
              "        <tr style=\"background-color: hsl(120, 100.00%, 96.79%); border: none;\">\n",
              "            <td style=\"padding: 0 1em 0 0.5em; text-align: right; border: none;\">\n",
              "                0.0372\n",
              "                \n",
              "            </td>\n",
              "            <td style=\"padding: 0 0.5em 0 0.5em; text-align: left; border: none;\">\n",
              "                Zarejestrowany jako zabytek_cat\n",
              "            </td>\n",
              "        </tr>\n",
              "    \n",
              "        <tr style=\"background-color: hsl(120, 100.00%, 97.71%); border: none;\">\n",
              "            <td style=\"padding: 0 1em 0 0.5em; text-align: right; border: none;\">\n",
              "                0.0230\n",
              "                \n",
              "            </td>\n",
              "            <td style=\"padding: 0 0.5em 0 0.5em; text-align: left; border: none;\">\n",
              "                Поврежденный_cat\n",
              "            </td>\n",
              "        </tr>\n",
              "    \n",
              "        <tr style=\"background-color: hsl(120, 100.00%, 97.96%); border: none;\">\n",
              "            <td style=\"padding: 0 1em 0 0.5em; text-align: right; border: none;\">\n",
              "                0.0195\n",
              "                \n",
              "            </td>\n",
              "            <td style=\"padding: 0 0.5em 0 0.5em; text-align: left; border: none;\">\n",
              "                engine_99\n",
              "            </td>\n",
              "        </tr>\n",
              "    \n",
              "        <tr style=\"background-color: hsl(120, 100.00%, 98.04%); border: none;\">\n",
              "            <td style=\"padding: 0 1em 0 0.5em; text-align: right; border: none;\">\n",
              "                0.0184\n",
              "                \n",
              "            </td>\n",
              "            <td style=\"padding: 0 0.5em 0 0.5em; text-align: left; border: none;\">\n",
              "                Правый руль (английский)_cat\n",
              "            </td>\n",
              "        </tr>\n",
              "    \n",
              "        <tr style=\"background-color: hsl(120, 100.00%, 98.48%); border: none;\">\n",
              "            <td style=\"padding: 0 1em 0 0.5em; text-align: right; border: none;\">\n",
              "                0.0128\n",
              "                \n",
              "            </td>\n",
              "            <td style=\"padding: 0 0.5em 0 0.5em; text-align: left; border: none;\">\n",
              "                amount_to_pay_99\n",
              "            </td>\n",
              "        </tr>\n",
              "    \n",
              "        <tr style=\"background-color: hsl(120, 100.00%, 98.71%); border: none;\">\n",
              "            <td style=\"padding: 0 1em 0 0.5em; text-align: right; border: none;\">\n",
              "                0.0102\n",
              "                \n",
              "            </td>\n",
              "            <td style=\"padding: 0 0.5em 0 0.5em; text-align: left; border: none;\">\n",
              "                Количество оставшихся платежей_cat\n",
              "            </td>\n",
              "        </tr>\n",
              "    \n",
              "        <tr style=\"background-color: hsl(120, 100.00%, 98.74%); border: none;\">\n",
              "            <td style=\"padding: 0 1em 0 0.5em; text-align: right; border: none;\">\n",
              "                0.0098\n",
              "                \n",
              "            </td>\n",
              "            <td style=\"padding: 0 0.5em 0 0.5em; text-align: left; border: none;\">\n",
              "                Марка автомобиля_cat\n",
              "            </td>\n",
              "        </tr>\n",
              "    \n",
              "        <tr style=\"background-color: hsl(120, 100.00%, 98.80%); border: none;\">\n",
              "            <td style=\"padding: 0 1em 0 0.5em; text-align: right; border: none;\">\n",
              "                0.0091\n",
              "                \n",
              "            </td>\n",
              "            <td style=\"padding: 0 0.5em 0 0.5em; text-align: left; border: none;\">\n",
              "                number_of_remaining_payments_99\n",
              "            </td>\n",
              "        </tr>\n",
              "    \n",
              "        <tr style=\"background-color: hsl(120, 100.00%, 98.81%); border: none;\">\n",
              "            <td style=\"padding: 0 1em 0 0.5em; text-align: right; border: none;\">\n",
              "                0.0091\n",
              "                \n",
              "            </td>\n",
              "            <td style=\"padding: 0 0.5em 0 0.5em; text-align: left; border: none;\">\n",
              "                Счет-фактура по НДС_cat\n",
              "            </td>\n",
              "        </tr>\n",
              "    \n",
              "        <tr style=\"background-color: hsl(120, 100.00%, 98.83%); border: none;\">\n",
              "            <td style=\"padding: 0 1em 0 0.5em; text-align: right; border: none;\">\n",
              "                0.0089\n",
              "                \n",
              "            </td>\n",
              "            <td style=\"padding: 0 0.5em 0 0.5em; text-align: left; border: none;\">\n",
              "                Тип_cat\n",
              "            </td>\n",
              "        </tr>\n",
              "    \n",
              "        <tr style=\"background-color: hsl(120, 100.00%, 98.84%); border: none;\">\n",
              "            <td style=\"padding: 0 1em 0 0.5em; text-align: right; border: none;\">\n",
              "                0.0087\n",
              "                \n",
              "            </td>\n",
              "            <td style=\"padding: 0 0.5em 0 0.5em; text-align: left; border: none;\">\n",
              "                first_payment_99\n",
              "            </td>\n",
              "        </tr>\n",
              "    \n",
              "        <tr style=\"background-color: hsl(120, 100.00%, 98.91%); border: none;\">\n",
              "            <td style=\"padding: 0 1em 0 0.5em; text-align: right; border: none;\">\n",
              "                0.0080\n",
              "                \n",
              "            </td>\n",
              "            <td style=\"padding: 0 0.5em 0 0.5em; text-align: left; border: none;\">\n",
              "                version_year_from\n",
              "            </td>\n",
              "        </tr>\n",
              "    \n",
              "        <tr style=\"background-color: hsl(120, 100.00%, 98.95%); border: none;\">\n",
              "            <td style=\"padding: 0 1em 0 0.5em; text-align: right; border: none;\">\n",
              "                0.0075\n",
              "                \n",
              "            </td>\n",
              "            <td style=\"padding: 0 0.5em 0 0.5em; text-align: left; border: none;\">\n",
              "                version_year_to\n",
              "            </td>\n",
              "        </tr>\n",
              "    \n",
              "        <tr style=\"background-color: hsl(120, 100.00%, 98.95%); border: none;\">\n",
              "            <td style=\"padding: 0 1em 0 0.5em; text-align: right; border: none;\">\n",
              "                0.0075\n",
              "                \n",
              "            </td>\n",
              "            <td style=\"padding: 0 0.5em 0 0.5em; text-align: left; border: none;\">\n",
              "                Обслуживание в сервисном центре_cat\n",
              "            </td>\n",
              "        </tr>\n",
              "    \n",
              "        <tr style=\"background-color: hsl(120, 100.00%, 99.01%); border: none;\">\n",
              "            <td style=\"padding: 0 1em 0 0.5em; text-align: right; border: none;\">\n",
              "                0.0070\n",
              "                \n",
              "            </td>\n",
              "            <td style=\"padding: 0 0.5em 0 0.5em; text-align: left; border: none;\">\n",
              "                mileage_new_99\n",
              "            </td>\n",
              "        </tr>\n",
              "    \n",
              "        <tr style=\"background-color: hsl(120, 100.00%, 99.12%); border: none;\">\n",
              "            <td style=\"padding: 0 1em 0 0.5em; text-align: right; border: none;\">\n",
              "                0.0058\n",
              "                \n",
              "            </td>\n",
              "            <td style=\"padding: 0 0.5em 0 0.5em; text-align: left; border: none;\">\n",
              "                Код двигателя_cat\n",
              "            </td>\n",
              "        </tr>\n",
              "    \n",
              "    \n",
              "        \n",
              "            <tr style=\"background-color: hsl(120, 100.00%, 99.12%); border: none;\">\n",
              "                <td colspan=\"2\" style=\"padding: 0 0.5em 0 0.5em; text-align: center; border: none; white-space: nowrap;\">\n",
              "                    <i>&hellip; 66 more &hellip;</i>\n",
              "                </td>\n",
              "            </tr>\n",
              "        \n",
              "    \n",
              "    </tbody>\n",
              "</table>\n",
              "    \n",
              "\n",
              "    \n",
              "\n",
              "\n",
              "    \n",
              "\n",
              "    \n",
              "\n",
              "    \n",
              "\n",
              "    \n",
              "\n",
              "    \n",
              "\n",
              "    \n",
              "\n",
              "\n",
              "\n"
            ],
            "text/plain": [
              "<IPython.core.display.HTML object>"
            ]
          },
          "execution_count": 137,
          "metadata": {},
          "output_type": "execute_result"
        }
      ]
    },
    {
      "cell_type": "markdown",
      "metadata": {
        "id": "RpKOYH_MAWQi"
      },
      "source": [
        "### ! Итак, значение ошибки (mean_absolute_error) уменьшилось в результате включения новых признаков в состав модели и корректировки параметров модели примерно на 2636 злотых (по сравнению с предыдущим этапом, когда были включены только новые признаки \"year_production_ext\", \"version_year_from\", \"version_year_to\" и не были скорректированы параметры модели), следовательно включение новых признаков и изменение параметров принесли результаты и были целесообразны."
      ],
      "id": "RpKOYH_MAWQi"
    },
    {
      "cell_type": "markdown",
      "metadata": {
        "id": "izL0_BR1AWQj"
      },
      "source": [
        "---"
      ],
      "id": "izL0_BR1AWQj"
    },
    {
      "cell_type": "markdown",
      "metadata": {
        "id": "1mqS1rLFAWQk"
      },
      "source": [
        "## Формирование файла для загрузки в Kaggle (Kaggle submit)"
      ],
      "id": "1mqS1rLFAWQk"
    },
    {
      "cell_type": "code",
      "metadata": {
        "id": "rwkI3hqqAWQm"
      },
      "source": [
        "feats.clear() # действия для предотвращения многократной записи одних и тех же признаков в список feats\n",
        "cat_feats = [x for x in df.columns if \"_cat\" in x]\n",
        "feats = cat_feats\n",
        "\n",
        "feats += [\"year_production_ext\", \"version_year_from\", \"version_year_to\", \\\n",
        "          \"engine_99\", \"horse_power_99_ext\", \"mileage_new_99\", \\\n",
        "          \"number_of_remaining_payments_99\", \"monthly_payment_99\", \"amount_to_pay_99\", \"first_payment_99\"]\n",
        "\n",
        "df_train = df[ ~df[\"price_value\"].isnull() ].copy()\n",
        "df_test = df[ df[\"price_value\"].isnull() ].copy()\n",
        "\n",
        "X_train = df_train[feats]\n",
        "y_train = df_train[\"price_value\"]\n",
        "y_log_train = np.log(y_train)\n",
        "\n",
        "X_test = df_test[feats]\n",
        "\n",
        "\n",
        "model = xgb.XGBRegressor(max_depth=11, n_estimators=50, learning_rate=0.25, random_state=0)\n",
        "# как и на предыдущем шаге, подверглись корректировке с помощью подбора параметры модели \"max_depth\" и \"learning_rate\"\n",
        "\n",
        "model.fit(X_train, y_log_train)\n",
        "y_log_pred = model.predict(X_test)\n",
        "y_pred = np.exp(y_log_pred)\n",
        "\n",
        "\n",
        "df_test[\"price_value\"] = y_pred\n",
        "df_test[ [\"id\", \"price_value\"] ].to_csv(\"../output/xgb_log_year_production_engine_etc.csv\", index=False)"
      ],
      "id": "rwkI3hqqAWQm",
      "execution_count": null,
      "outputs": []
    },
    {
      "cell_type": "markdown",
      "metadata": {
        "id": "UFA-T7VVAWQn"
      },
      "source": [
        "---"
      ],
      "id": "UFA-T7VVAWQn"
    },
    {
      "cell_type": "markdown",
      "metadata": {
        "id": "ElI80lllAWQn"
      },
      "source": [
        "---"
      ],
      "id": "ElI80lllAWQn"
    }
  ]
}